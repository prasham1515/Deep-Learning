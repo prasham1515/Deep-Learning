{
  "nbformat": 4,
  "nbformat_minor": 0,
  "metadata": {
    "colab": {
      "provenance": []
    },
    "kernelspec": {
      "name": "python3",
      "display_name": "Python 3"
    },
    "language_info": {
      "name": "python"
    }
  },
  "cells": [
    {
      "cell_type": "code",
      "source": [
        "import pandas as pd\n",
        "import numpy as np"
      ],
      "metadata": {
        "id": "Dh4VWWIJA-SV"
      },
      "execution_count": null,
      "outputs": []
    },
    {
      "cell_type": "code",
      "source": [
        "train = pd.read_csv('https://archive.ics.uci.edu/ml/machine-learning-databases/adult/adult.data',sep=r'\\s*,\\s*',na_values=\"?\",names=[\"age\", \"workclass\", \"fnlwgt\", \"education\",\"education-num\",\"marital-status\",\"occupation\",\"relationship\",\"race\",\"sex\",\"capital-gain\",\"capital-loss\",\"hours-per-week\",\"native-country\",\"income\"])\n",
        "test = pd.read_csv('https://archive.ics.uci.edu/ml/machine-learning-databases/adult/adult.test',sep=r'\\s*,\\s*',na_values=\"?\",names=[\"age\", \"workclass\", \"fnlwgt\", \"education\",\"education-num\",\"marital-status\",\"occupation\",\"relationship\",\"race\",\"sex\",\"capital-gain\",\"capital-loss\",\"hours-per-week\",\"native-country\",\"income\"])"
      ],
      "metadata": {
        "colab": {
          "base_uri": "https://localhost:8080/"
        },
        "id": "c95qmWJvE4JM",
        "outputId": "e1749a3f-311e-4543-e8df-9c3c7e02fd55"
      },
      "execution_count": null,
      "outputs": [
        {
          "output_type": "stream",
          "name": "stderr",
          "text": [
            "/usr/local/lib/python3.7/dist-packages/pandas/util/_decorators.py:311: ParserWarning: Falling back to the 'python' engine because the 'c' engine does not support regex separators (separators > 1 char and different from '\\s+' are interpreted as regex); you can avoid this warning by specifying engine='python'.\n",
            "  return func(*args, **kwargs)\n"
          ]
        }
      ]
    },
    {
      "cell_type": "code",
      "source": [
        "train.info()"
      ],
      "metadata": {
        "colab": {
          "base_uri": "https://localhost:8080/"
        },
        "id": "twpgxwTFGkA3",
        "outputId": "e43bf6b2-cae8-41bb-d38f-041b0c0358bf"
      },
      "execution_count": null,
      "outputs": [
        {
          "output_type": "stream",
          "name": "stdout",
          "text": [
            "<class 'pandas.core.frame.DataFrame'>\n",
            "RangeIndex: 32561 entries, 0 to 32560\n",
            "Data columns (total 15 columns):\n",
            " #   Column          Non-Null Count  Dtype \n",
            "---  ------          --------------  ----- \n",
            " 0   age             32561 non-null  int64 \n",
            " 1   workclass       30725 non-null  object\n",
            " 2   fnlwgt          32561 non-null  int64 \n",
            " 3   education       32561 non-null  object\n",
            " 4   education-num   32561 non-null  int64 \n",
            " 5   marital-status  32561 non-null  object\n",
            " 6   occupation      30718 non-null  object\n",
            " 7   relationship    32561 non-null  object\n",
            " 8   race            32561 non-null  object\n",
            " 9   sex             32561 non-null  object\n",
            " 10  capital-gain    32561 non-null  int64 \n",
            " 11  capital-loss    32561 non-null  int64 \n",
            " 12  hours-per-week  32561 non-null  int64 \n",
            " 13  native-country  31978 non-null  object\n",
            " 14  income          32561 non-null  object\n",
            "dtypes: int64(6), object(9)\n",
            "memory usage: 3.7+ MB\n"
          ]
        }
      ]
    },
    {
      "cell_type": "code",
      "source": [
        "print(train.isnull().sum())"
      ],
      "metadata": {
        "colab": {
          "base_uri": "https://localhost:8080/"
        },
        "id": "xvir0uM0HU85",
        "outputId": "4e1afe1a-5665-44cf-afc7-8ca1bedc7fc7"
      },
      "execution_count": null,
      "outputs": [
        {
          "output_type": "stream",
          "name": "stdout",
          "text": [
            "age                  0\n",
            "workclass         1836\n",
            "fnlwgt               0\n",
            "education            0\n",
            "education-num        0\n",
            "marital-status       0\n",
            "occupation        1843\n",
            "relationship         0\n",
            "race                 0\n",
            "sex                  0\n",
            "capital-gain         0\n",
            "capital-loss         0\n",
            "hours-per-week       0\n",
            "native-country     583\n",
            "income               0\n",
            "dtype: int64\n"
          ]
        }
      ]
    },
    {
      "cell_type": "code",
      "source": [
        "train['workclass'].fillna(train['workclass'].mode()[0], inplace=True)\n",
        "train['occupation'].fillna(train['occupation'].mode()[0], inplace=True)\n",
        "train['native-country'].fillna(train['native-country'].mode()[0], inplace=True)"
      ],
      "metadata": {
        "id": "Xeil3IJSIUs3"
      },
      "execution_count": null,
      "outputs": []
    },
    {
      "cell_type": "code",
      "source": [
        "print(train.isnull().sum())"
      ],
      "metadata": {
        "colab": {
          "base_uri": "https://localhost:8080/"
        },
        "id": "qdT2mKkWKghg",
        "outputId": "e3ed8b13-b89e-4a80-fd00-07fbe9565c3f"
      },
      "execution_count": null,
      "outputs": [
        {
          "output_type": "stream",
          "name": "stdout",
          "text": [
            "age               0\n",
            "workclass         0\n",
            "fnlwgt            0\n",
            "education         0\n",
            "education-num     0\n",
            "marital-status    0\n",
            "occupation        0\n",
            "relationship      0\n",
            "race              0\n",
            "sex               0\n",
            "capital-gain      0\n",
            "capital-loss      0\n",
            "hours-per-week    0\n",
            "native-country    0\n",
            "income            0\n",
            "dtype: int64\n"
          ]
        }
      ]
    },
    {
      "cell_type": "code",
      "source": [
        "test.info()"
      ],
      "metadata": {
        "colab": {
          "base_uri": "https://localhost:8080/"
        },
        "id": "QXCrebbzMKoo",
        "outputId": "ee9b1f97-978a-410b-b6d9-d5f16ddf2c9a"
      },
      "execution_count": null,
      "outputs": [
        {
          "output_type": "stream",
          "name": "stdout",
          "text": [
            "<class 'pandas.core.frame.DataFrame'>\n",
            "RangeIndex: 16282 entries, 0 to 16281\n",
            "Data columns (total 15 columns):\n",
            " #   Column          Non-Null Count  Dtype  \n",
            "---  ------          --------------  -----  \n",
            " 0   age             16282 non-null  object \n",
            " 1   workclass       15318 non-null  object \n",
            " 2   fnlwgt          16281 non-null  float64\n",
            " 3   education       16281 non-null  object \n",
            " 4   education-num   16281 non-null  float64\n",
            " 5   marital-status  16281 non-null  object \n",
            " 6   occupation      15315 non-null  object \n",
            " 7   relationship    16281 non-null  object \n",
            " 8   race            16281 non-null  object \n",
            " 9   sex             16281 non-null  object \n",
            " 10  capital-gain    16281 non-null  float64\n",
            " 11  capital-loss    16281 non-null  float64\n",
            " 12  hours-per-week  16281 non-null  float64\n",
            " 13  native-country  16007 non-null  object \n",
            " 14  income          16281 non-null  object \n",
            "dtypes: float64(5), object(10)\n",
            "memory usage: 1.9+ MB\n"
          ]
        }
      ]
    },
    {
      "cell_type": "code",
      "source": [
        "print(test.isnull().sum())"
      ],
      "metadata": {
        "colab": {
          "base_uri": "https://localhost:8080/"
        },
        "id": "aMrewPP_K27f",
        "outputId": "4c951ab2-0788-4716-9486-0f869014dbbd"
      },
      "execution_count": null,
      "outputs": [
        {
          "output_type": "stream",
          "name": "stdout",
          "text": [
            "age                 0\n",
            "workclass         964\n",
            "fnlwgt              1\n",
            "education           1\n",
            "education-num       1\n",
            "marital-status      1\n",
            "occupation        967\n",
            "relationship        1\n",
            "race                1\n",
            "sex                 1\n",
            "capital-gain        1\n",
            "capital-loss        1\n",
            "hours-per-week      1\n",
            "native-country    275\n",
            "income              1\n",
            "dtype: int64\n"
          ]
        }
      ]
    },
    {
      "cell_type": "code",
      "source": [
        "test['workclass'].fillna(test['workclass'].mode()[0], inplace=True)\n",
        "test['occupation'].fillna(test['occupation'].mode()[0], inplace=True)\n",
        "test['native-country'].fillna(test['native-country'].mode()[0], inplace=True)\n",
        "test['marital-status'].fillna(test['marital-status'].mode()[0], inplace=True)\n",
        "test['relationship'].fillna(test['relationship'].mode()[0], inplace=True)\n",
        "test['race'].fillna(test['race'].mode()[0], inplace=True)\n",
        "test['sex'].fillna(test['sex'].mode()[0], inplace=True)\n",
        "test['education'].fillna(test['education'].mode()[0], inplace=True)\n",
        "test['fnlwgt'].fillna((test['fnlwgt'].mean()), inplace=True)\n",
        "test['education-num'].fillna((test['education-num'].mean()), inplace=True)\n",
        "test['capital-gain'].fillna((test['capital-gain'].mean()), inplace=True)\n",
        "test['capital-loss'].fillna((test['capital-loss'].mean()), inplace=True)\n",
        "test['hours-per-week'].fillna((test['hours-per-week'].mean()), inplace=True)\n",
        "test['income'].fillna(test['income'].mode()[0], inplace=True)"
      ],
      "metadata": {
        "id": "wYowKEO1K92-"
      },
      "execution_count": null,
      "outputs": []
    },
    {
      "cell_type": "code",
      "source": [
        "print(test.isnull().sum())"
      ],
      "metadata": {
        "colab": {
          "base_uri": "https://localhost:8080/"
        },
        "id": "4gER3EPqNPkK",
        "outputId": "ab9833bc-8297-4135-ffd8-9c4ed8d7a3e3"
      },
      "execution_count": null,
      "outputs": [
        {
          "output_type": "stream",
          "name": "stdout",
          "text": [
            "age               0\n",
            "workclass         0\n",
            "fnlwgt            0\n",
            "education         0\n",
            "education-num     0\n",
            "marital-status    0\n",
            "occupation        0\n",
            "relationship      0\n",
            "race              0\n",
            "sex               0\n",
            "capital-gain      0\n",
            "capital-loss      0\n",
            "hours-per-week    0\n",
            "native-country    0\n",
            "income            0\n",
            "dtype: int64\n"
          ]
        }
      ]
    },
    {
      "cell_type": "code",
      "source": [
        "for col in train:\n",
        "  print(train[col].unique())\n",
        "  print(train[col].value_counts())\n",
        "  print()"
      ],
      "metadata": {
        "colab": {
          "base_uri": "https://localhost:8080/"
        },
        "id": "AsDkVtfuXwTw",
        "outputId": "2947b1ea-b55d-4899-b7f5-1c36c464688f"
      },
      "execution_count": null,
      "outputs": [
        {
          "output_type": "stream",
          "name": "stdout",
          "text": [
            "[39 50 38 53 28 37 49 52 31 42 30 23 32 40 34 25 43 54 35 59 56 19 20 45\n",
            " 22 48 21 24 57 44 41 29 18 47 46 36 79 27 67 33 76 17 55 61 70 64 71 68\n",
            " 66 51 58 26 60 90 75 65 77 62 63 80 72 74 69 73 81 78 88 82 83 84 85 86\n",
            " 87]\n",
            "36    898\n",
            "31    888\n",
            "34    886\n",
            "23    877\n",
            "35    876\n",
            "     ... \n",
            "83      6\n",
            "88      3\n",
            "85      3\n",
            "86      1\n",
            "87      1\n",
            "Name: age, Length: 73, dtype: int64\n",
            "\n",
            "['State-gov' 'Self-emp-not-inc' 'Private' 'Federal-gov' 'Local-gov'\n",
            " 'Self-emp-inc' 'Without-pay' 'Never-worked']\n",
            "Private             24532\n",
            "Self-emp-not-inc     2541\n",
            "Local-gov            2093\n",
            "State-gov            1298\n",
            "Self-emp-inc         1116\n",
            "Federal-gov           960\n",
            "Without-pay            14\n",
            "Never-worked            7\n",
            "Name: workclass, dtype: int64\n",
            "\n",
            "[ 77516  83311 215646 ...  34066  84661 257302]\n",
            "164190    13\n",
            "203488    13\n",
            "123011    13\n",
            "148995    12\n",
            "121124    12\n",
            "          ..\n",
            "232784     1\n",
            "325573     1\n",
            "140176     1\n",
            "318264     1\n",
            "257302     1\n",
            "Name: fnlwgt, Length: 21648, dtype: int64\n",
            "\n",
            "['Bachelors' 'HS-grad' '11th' 'Masters' '9th' 'Some-college' 'Assoc-acdm'\n",
            " 'Assoc-voc' '7th-8th' 'Doctorate' 'Prof-school' '5th-6th' '10th'\n",
            " '1st-4th' 'Preschool' '12th']\n",
            "HS-grad         10501\n",
            "Some-college     7291\n",
            "Bachelors        5355\n",
            "Masters          1723\n",
            "Assoc-voc        1382\n",
            "11th             1175\n",
            "Assoc-acdm       1067\n",
            "10th              933\n",
            "7th-8th           646\n",
            "Prof-school       576\n",
            "9th               514\n",
            "12th              433\n",
            "Doctorate         413\n",
            "5th-6th           333\n",
            "1st-4th           168\n",
            "Preschool          51\n",
            "Name: education, dtype: int64\n",
            "\n",
            "[13  9  7 14  5 10 12 11  4 16 15  3  6  2  1  8]\n",
            "9     10501\n",
            "10     7291\n",
            "13     5355\n",
            "14     1723\n",
            "11     1382\n",
            "7      1175\n",
            "12     1067\n",
            "6       933\n",
            "4       646\n",
            "15      576\n",
            "5       514\n",
            "8       433\n",
            "16      413\n",
            "3       333\n",
            "2       168\n",
            "1        51\n",
            "Name: education-num, dtype: int64\n",
            "\n",
            "['Never-married' 'Married-civ-spouse' 'Divorced' 'Married-spouse-absent'\n",
            " 'Separated' 'Married-AF-spouse' 'Widowed']\n",
            "Married-civ-spouse       14976\n",
            "Never-married            10683\n",
            "Divorced                  4443\n",
            "Separated                 1025\n",
            "Widowed                    993\n",
            "Married-spouse-absent      418\n",
            "Married-AF-spouse           23\n",
            "Name: marital-status, dtype: int64\n",
            "\n",
            "['Adm-clerical' 'Exec-managerial' 'Handlers-cleaners' 'Prof-specialty'\n",
            " 'Other-service' 'Sales' 'Craft-repair' 'Transport-moving'\n",
            " 'Farming-fishing' 'Machine-op-inspct' 'Tech-support' 'Protective-serv'\n",
            " 'Armed-Forces' 'Priv-house-serv']\n",
            "Prof-specialty       5983\n",
            "Craft-repair         4099\n",
            "Exec-managerial      4066\n",
            "Adm-clerical         3770\n",
            "Sales                3650\n",
            "Other-service        3295\n",
            "Machine-op-inspct    2002\n",
            "Transport-moving     1597\n",
            "Handlers-cleaners    1370\n",
            "Farming-fishing       994\n",
            "Tech-support          928\n",
            "Protective-serv       649\n",
            "Priv-house-serv       149\n",
            "Armed-Forces            9\n",
            "Name: occupation, dtype: int64\n",
            "\n",
            "['Not-in-family' 'Husband' 'Wife' 'Own-child' 'Unmarried' 'Other-relative']\n",
            "Husband           13193\n",
            "Not-in-family      8305\n",
            "Own-child          5068\n",
            "Unmarried          3446\n",
            "Wife               1568\n",
            "Other-relative      981\n",
            "Name: relationship, dtype: int64\n",
            "\n",
            "['White' 'Black' 'Asian-Pac-Islander' 'Amer-Indian-Eskimo' 'Other']\n",
            "White                 27816\n",
            "Black                  3124\n",
            "Asian-Pac-Islander     1039\n",
            "Amer-Indian-Eskimo      311\n",
            "Other                   271\n",
            "Name: race, dtype: int64\n",
            "\n",
            "['Male' 'Female']\n",
            "Male      21790\n",
            "Female    10771\n",
            "Name: sex, dtype: int64\n",
            "\n",
            "[ 2174     0 14084  5178  5013  2407 14344 15024  7688 34095  4064  4386\n",
            "  7298  1409  3674  1055  3464  2050  2176   594 20051  6849  4101  1111\n",
            "  8614  3411  2597 25236  4650  9386  2463  3103 10605  2964  3325  2580\n",
            "  3471  4865 99999  6514  1471  2329  2105  2885 25124 10520  2202  2961\n",
            " 27828  6767  2228  1506 13550  2635  5556  4787  3781  3137  3818  3942\n",
            "   914   401  2829  2977  4934  2062  2354  5455 15020  1424  3273 22040\n",
            "  4416  3908 10566   991  4931  1086  7430  6497   114  7896  2346  3418\n",
            "  3432  2907  1151  2414  2290 15831 41310  4508  2538  3456  6418  1848\n",
            "  3887  5721  9562  1455  2036  1831 11678  2936  2993  7443  6360  1797\n",
            "  1173  4687  6723  2009  6097  2653  1639 18481  7978  2387  5060]\n",
            "0        29849\n",
            "15024      347\n",
            "7688       284\n",
            "7298       246\n",
            "99999      159\n",
            "         ...  \n",
            "1111         1\n",
            "2538         1\n",
            "22040        1\n",
            "4931         1\n",
            "5060         1\n",
            "Name: capital-gain, Length: 119, dtype: int64\n",
            "\n",
            "[   0 2042 1408 1902 1573 1887 1719 1762 1564 2179 1816 1980 1977 1876\n",
            " 1340 2206 1741 1485 2339 2415 1380 1721 2051 2377 1669 2352 1672  653\n",
            " 2392 1504 2001 1590 1651 1628 1848 1740 2002 1579 2258 1602  419 2547\n",
            " 2174 2205 1726 2444 1138 2238  625  213 1539  880 1668 1092 1594 3004\n",
            " 2231 1844  810 2824 2559 2057 1974  974 2149 1825 1735 1258 2129 2603\n",
            " 2282  323 4356 2246 1617 1648 2489 3770 1755 3683 2267 2080 2457  155\n",
            " 3900 2201 1944 2467 2163 2754 2472 1411]\n",
            "0       31042\n",
            "1902      202\n",
            "1977      168\n",
            "1887      159\n",
            "1848       51\n",
            "        ...  \n",
            "2080        1\n",
            "1539        1\n",
            "1844        1\n",
            "2489        1\n",
            "1411        1\n",
            "Name: capital-loss, Length: 92, dtype: int64\n",
            "\n",
            "[40 13 16 45 50 80 30 35 60 20 52 44 15 25 38 43 55 48 58 32 70  2 22 56\n",
            " 41 28 36 24 46 42 12 65  1 10 34 75 98 33 54  8  6 64 19 18 72  5  9 47\n",
            " 37 21 26 14  4 59  7 99 53 39 62 57 78 90 66 11 49 84  3 17 68 27 85 31\n",
            " 51 77 63 23 87 88 73 89 97 94 29 96 67 82 86 91 81 76 92 61 74 95]\n",
            "40    15217\n",
            "50     2819\n",
            "45     1824\n",
            "60     1475\n",
            "35     1297\n",
            "      ...  \n",
            "82        1\n",
            "92        1\n",
            "87        1\n",
            "74        1\n",
            "94        1\n",
            "Name: hours-per-week, Length: 94, dtype: int64\n",
            "\n",
            "['United-States' 'Cuba' 'Jamaica' 'India' 'Mexico' 'South' 'Puerto-Rico'\n",
            " 'Honduras' 'England' 'Canada' 'Germany' 'Iran' 'Philippines' 'Italy'\n",
            " 'Poland' 'Columbia' 'Cambodia' 'Thailand' 'Ecuador' 'Laos' 'Taiwan'\n",
            " 'Haiti' 'Portugal' 'Dominican-Republic' 'El-Salvador' 'France'\n",
            " 'Guatemala' 'China' 'Japan' 'Yugoslavia' 'Peru'\n",
            " 'Outlying-US(Guam-USVI-etc)' 'Scotland' 'Trinadad&Tobago' 'Greece'\n",
            " 'Nicaragua' 'Vietnam' 'Hong' 'Ireland' 'Hungary' 'Holand-Netherlands']\n",
            "United-States                 29753\n",
            "Mexico                          643\n",
            "Philippines                     198\n",
            "Germany                         137\n",
            "Canada                          121\n",
            "Puerto-Rico                     114\n",
            "El-Salvador                     106\n",
            "India                           100\n",
            "Cuba                             95\n",
            "England                          90\n",
            "Jamaica                          81\n",
            "South                            80\n",
            "China                            75\n",
            "Italy                            73\n",
            "Dominican-Republic               70\n",
            "Vietnam                          67\n",
            "Guatemala                        64\n",
            "Japan                            62\n",
            "Poland                           60\n",
            "Columbia                         59\n",
            "Taiwan                           51\n",
            "Haiti                            44\n",
            "Iran                             43\n",
            "Portugal                         37\n",
            "Nicaragua                        34\n",
            "Peru                             31\n",
            "France                           29\n",
            "Greece                           29\n",
            "Ecuador                          28\n",
            "Ireland                          24\n",
            "Hong                             20\n",
            "Cambodia                         19\n",
            "Trinadad&Tobago                  19\n",
            "Laos                             18\n",
            "Thailand                         18\n",
            "Yugoslavia                       16\n",
            "Outlying-US(Guam-USVI-etc)       14\n",
            "Honduras                         13\n",
            "Hungary                          13\n",
            "Scotland                         12\n",
            "Holand-Netherlands                1\n",
            "Name: native-country, dtype: int64\n",
            "\n",
            "['<=50K' '>50K']\n",
            "<=50K    24720\n",
            ">50K      7841\n",
            "Name: income, dtype: int64\n",
            "\n"
          ]
        }
      ]
    },
    {
      "cell_type": "code",
      "source": [
        "names=[\"workclass\",\"education\",\"marital-status\",\"occupation\",\"relationship\",\"race\",\"native-country\"]"
      ],
      "metadata": {
        "id": "BGCh2jFZNS8H"
      },
      "execution_count": null,
      "outputs": []
    },
    {
      "cell_type": "code",
      "source": [
        "from sklearn.preprocessing import OneHotEncoder"
      ],
      "metadata": {
        "id": "2at0B4H31HtK"
      },
      "execution_count": null,
      "outputs": []
    },
    {
      "cell_type": "code",
      "source": [
        "encoder=OneHotEncoder(sparse=False)\n",
        "for i in names:\n",
        "  dummy = pd.DataFrame(encoder.fit_transform(train[[i]]))\n",
        "  dummy.columns = encoder.get_feature_names([i])\n",
        "  train.drop([i] ,axis=1, inplace=True)\n",
        "  train=pd.concat([train, dummy], axis=1)\n"
      ],
      "metadata": {
        "colab": {
          "base_uri": "https://localhost:8080/"
        },
        "id": "dMiGRLif1Icx",
        "outputId": "d3c7262d-5c6e-4a40-b026-1aff44500cde"
      },
      "execution_count": null,
      "outputs": [
        {
          "output_type": "stream",
          "name": "stderr",
          "text": [
            "/usr/local/lib/python3.7/dist-packages/sklearn/utils/deprecation.py:87: FutureWarning: Function get_feature_names is deprecated; get_feature_names is deprecated in 1.0 and will be removed in 1.2. Please use get_feature_names_out instead.\n",
            "  warnings.warn(msg, category=FutureWarning)\n",
            "/usr/local/lib/python3.7/dist-packages/sklearn/utils/deprecation.py:87: FutureWarning: Function get_feature_names is deprecated; get_feature_names is deprecated in 1.0 and will be removed in 1.2. Please use get_feature_names_out instead.\n",
            "  warnings.warn(msg, category=FutureWarning)\n",
            "/usr/local/lib/python3.7/dist-packages/sklearn/utils/deprecation.py:87: FutureWarning: Function get_feature_names is deprecated; get_feature_names is deprecated in 1.0 and will be removed in 1.2. Please use get_feature_names_out instead.\n",
            "  warnings.warn(msg, category=FutureWarning)\n",
            "/usr/local/lib/python3.7/dist-packages/sklearn/utils/deprecation.py:87: FutureWarning: Function get_feature_names is deprecated; get_feature_names is deprecated in 1.0 and will be removed in 1.2. Please use get_feature_names_out instead.\n",
            "  warnings.warn(msg, category=FutureWarning)\n",
            "/usr/local/lib/python3.7/dist-packages/sklearn/utils/deprecation.py:87: FutureWarning: Function get_feature_names is deprecated; get_feature_names is deprecated in 1.0 and will be removed in 1.2. Please use get_feature_names_out instead.\n",
            "  warnings.warn(msg, category=FutureWarning)\n",
            "/usr/local/lib/python3.7/dist-packages/sklearn/utils/deprecation.py:87: FutureWarning: Function get_feature_names is deprecated; get_feature_names is deprecated in 1.0 and will be removed in 1.2. Please use get_feature_names_out instead.\n",
            "  warnings.warn(msg, category=FutureWarning)\n",
            "/usr/local/lib/python3.7/dist-packages/sklearn/utils/deprecation.py:87: FutureWarning: Function get_feature_names is deprecated; get_feature_names is deprecated in 1.0 and will be removed in 1.2. Please use get_feature_names_out instead.\n",
            "  warnings.warn(msg, category=FutureWarning)\n"
          ]
        }
      ]
    },
    {
      "cell_type": "code",
      "source": [
        "from sklearn.preprocessing import LabelEncoder"
      ],
      "metadata": {
        "id": "kLzH0QiX3Io1"
      },
      "execution_count": null,
      "outputs": []
    },
    {
      "cell_type": "code",
      "source": [
        "le = LabelEncoder()\n",
        "train['sex'] = le.fit_transform(train['sex'])\n",
        "train['income'] = le.fit_transform(train['income'])"
      ],
      "metadata": {
        "id": "nka1-x-n3byo"
      },
      "execution_count": null,
      "outputs": []
    },
    {
      "cell_type": "code",
      "source": [
        "print(train)"
      ],
      "metadata": {
        "colab": {
          "base_uri": "https://localhost:8080/"
        },
        "id": "pQnRvAhr3zHC",
        "outputId": "42ab8bb2-f38d-40d1-ea05-b84edeb2fe66"
      },
      "execution_count": null,
      "outputs": [
        {
          "output_type": "stream",
          "name": "stdout",
          "text": [
            "       age  fnlwgt  education-num  sex  capital-gain  capital-loss  \\\n",
            "0       39   77516             13    1          2174             0   \n",
            "1       50   83311             13    1             0             0   \n",
            "2       38  215646              9    1             0             0   \n",
            "3       53  234721              7    1             0             0   \n",
            "4       28  338409             13    0             0             0   \n",
            "...    ...     ...            ...  ...           ...           ...   \n",
            "32556   27  257302             12    0             0             0   \n",
            "32557   40  154374              9    1             0             0   \n",
            "32558   58  151910              9    0             0             0   \n",
            "32559   22  201490              9    1             0             0   \n",
            "32560   52  287927              9    0         15024             0   \n",
            "\n",
            "       hours-per-week  income  workclass_Federal-gov  workclass_Local-gov  \\\n",
            "0                  40       0                    0.0                  0.0   \n",
            "1                  13       0                    0.0                  0.0   \n",
            "2                  40       0                    0.0                  0.0   \n",
            "3                  40       0                    0.0                  0.0   \n",
            "4                  40       0                    0.0                  0.0   \n",
            "...               ...     ...                    ...                  ...   \n",
            "32556              38       0                    0.0                  0.0   \n",
            "32557              40       1                    0.0                  0.0   \n",
            "32558              40       0                    0.0                  0.0   \n",
            "32559              20       0                    0.0                  0.0   \n",
            "32560              40       1                    0.0                  0.0   \n",
            "\n",
            "       ...  native-country_Portugal  native-country_Puerto-Rico  \\\n",
            "0      ...                      0.0                         0.0   \n",
            "1      ...                      0.0                         0.0   \n",
            "2      ...                      0.0                         0.0   \n",
            "3      ...                      0.0                         0.0   \n",
            "4      ...                      0.0                         0.0   \n",
            "...    ...                      ...                         ...   \n",
            "32556  ...                      0.0                         0.0   \n",
            "32557  ...                      0.0                         0.0   \n",
            "32558  ...                      0.0                         0.0   \n",
            "32559  ...                      0.0                         0.0   \n",
            "32560  ...                      0.0                         0.0   \n",
            "\n",
            "       native-country_Scotland  native-country_South  native-country_Taiwan  \\\n",
            "0                          0.0                   0.0                    0.0   \n",
            "1                          0.0                   0.0                    0.0   \n",
            "2                          0.0                   0.0                    0.0   \n",
            "3                          0.0                   0.0                    0.0   \n",
            "4                          0.0                   0.0                    0.0   \n",
            "...                        ...                   ...                    ...   \n",
            "32556                      0.0                   0.0                    0.0   \n",
            "32557                      0.0                   0.0                    0.0   \n",
            "32558                      0.0                   0.0                    0.0   \n",
            "32559                      0.0                   0.0                    0.0   \n",
            "32560                      0.0                   0.0                    0.0   \n",
            "\n",
            "       native-country_Thailand  native-country_Trinadad&Tobago  \\\n",
            "0                          0.0                             0.0   \n",
            "1                          0.0                             0.0   \n",
            "2                          0.0                             0.0   \n",
            "3                          0.0                             0.0   \n",
            "4                          0.0                             0.0   \n",
            "...                        ...                             ...   \n",
            "32556                      0.0                             0.0   \n",
            "32557                      0.0                             0.0   \n",
            "32558                      0.0                             0.0   \n",
            "32559                      0.0                             0.0   \n",
            "32560                      0.0                             0.0   \n",
            "\n",
            "       native-country_United-States  native-country_Vietnam  \\\n",
            "0                               1.0                     0.0   \n",
            "1                               1.0                     0.0   \n",
            "2                               1.0                     0.0   \n",
            "3                               1.0                     0.0   \n",
            "4                               0.0                     0.0   \n",
            "...                             ...                     ...   \n",
            "32556                           1.0                     0.0   \n",
            "32557                           1.0                     0.0   \n",
            "32558                           1.0                     0.0   \n",
            "32559                           1.0                     0.0   \n",
            "32560                           1.0                     0.0   \n",
            "\n",
            "       native-country_Yugoslavia  \n",
            "0                            0.0  \n",
            "1                            0.0  \n",
            "2                            0.0  \n",
            "3                            0.0  \n",
            "4                            0.0  \n",
            "...                          ...  \n",
            "32556                        0.0  \n",
            "32557                        0.0  \n",
            "32558                        0.0  \n",
            "32559                        0.0  \n",
            "32560                        0.0  \n",
            "\n",
            "[32561 rows x 105 columns]\n"
          ]
        }
      ]
    },
    {
      "cell_type": "code",
      "source": [
        "for col in test:\n",
        "  print(test[col].unique())\n",
        "  print(test[col].value_counts())\n",
        "  print()"
      ],
      "metadata": {
        "colab": {
          "base_uri": "https://localhost:8080/"
        },
        "id": "40AJUnbVdbrz",
        "outputId": "bd0ff332-8cd6-40c7-d0c2-440693e6c5fa"
      },
      "execution_count": null,
      "outputs": [
        {
          "output_type": "stream",
          "name": "stdout",
          "text": [
            "['|1x3 Cross validator' '25' '38' '28' '44' '18' '34' '29' '63' '24' '55'\n",
            " '65' '36' '26' '58' '48' '43' '20' '37' '40' '72' '45' '22' '23' '54'\n",
            " '32' '46' '56' '17' '39' '52' '21' '42' '33' '30' '47' '41' '19' '69'\n",
            " '50' '31' '59' '49' '51' '27' '57' '61' '64' '79' '73' '53' '77' '80'\n",
            " '62' '35' '68' '66' '75' '60' '67' '71' '70' '90' '81' '74' '78' '82'\n",
            " '83' '85' '76' '84' '89' '88' '87']\n",
            "35                      461\n",
            "33                      460\n",
            "23                      452\n",
            "36                      450\n",
            "31                      437\n",
            "                       ... \n",
            "84                        3\n",
            "89                        2\n",
            "87                        2\n",
            "85                        2\n",
            "|1x3 Cross validator      1\n",
            "Name: age, Length: 74, dtype: int64\n",
            "\n",
            "['Private' 'Local-gov' 'Self-emp-not-inc' 'Federal-gov' 'State-gov'\n",
            " 'Self-emp-inc' 'Without-pay' 'Never-worked']\n",
            "Private             12174\n",
            "Self-emp-not-inc     1321\n",
            "Local-gov            1043\n",
            "State-gov             683\n",
            "Self-emp-inc          579\n",
            "Federal-gov           472\n",
            "Without-pay             7\n",
            "Never-worked            3\n",
            "Name: workclass, dtype: int64\n",
            "\n",
            "[189435.67778392 226802.          89814.         ... 349230.\n",
            " 321403.          83891.        ]\n",
            "136986.0    9\n",
            "117310.0    8\n",
            "125892.0    8\n",
            "190290.0    8\n",
            "127651.0    8\n",
            "           ..\n",
            "200904.0    1\n",
            "308770.0    1\n",
            "187792.0    1\n",
            "31558.0     1\n",
            "83891.0     1\n",
            "Name: fnlwgt, Length: 12788, dtype: int64\n",
            "\n",
            "['HS-grad' '11th' 'Assoc-acdm' 'Some-college' '10th' 'Prof-school'\n",
            " '7th-8th' 'Bachelors' 'Masters' 'Doctorate' '5th-6th' 'Assoc-voc' '9th'\n",
            " '12th' '1st-4th' 'Preschool']\n",
            "HS-grad         5284\n",
            "Some-college    3587\n",
            "Bachelors       2670\n",
            "Masters          934\n",
            "Assoc-voc        679\n",
            "11th             637\n",
            "Assoc-acdm       534\n",
            "10th             456\n",
            "7th-8th          309\n",
            "Prof-school      258\n",
            "9th              242\n",
            "12th             224\n",
            "Doctorate        181\n",
            "5th-6th          176\n",
            "1st-4th           79\n",
            "Preschool         32\n",
            "Name: education, dtype: int64\n",
            "\n",
            "[10.07290707  7.          9.         12.         10.          6.\n",
            " 15.          4.         13.         14.         16.          3.\n",
            " 11.          5.          8.          2.          1.        ]\n",
            "9.000000     5283\n",
            "10.000000    3587\n",
            "13.000000    2670\n",
            "14.000000     934\n",
            "11.000000     679\n",
            "7.000000      637\n",
            "12.000000     534\n",
            "6.000000      456\n",
            "4.000000      309\n",
            "15.000000     258\n",
            "5.000000      242\n",
            "8.000000      224\n",
            "16.000000     181\n",
            "3.000000      176\n",
            "2.000000       79\n",
            "1.000000       32\n",
            "10.072907       1\n",
            "Name: education-num, dtype: int64\n",
            "\n",
            "['Married-civ-spouse' 'Never-married' 'Widowed' 'Divorced' 'Separated'\n",
            " 'Married-spouse-absent' 'Married-AF-spouse']\n",
            "Married-civ-spouse       7404\n",
            "Never-married            5434\n",
            "Divorced                 2190\n",
            "Widowed                   525\n",
            "Separated                 505\n",
            "Married-spouse-absent     210\n",
            "Married-AF-spouse          14\n",
            "Name: marital-status, dtype: int64\n",
            "\n",
            "['Prof-specialty' 'Machine-op-inspct' 'Farming-fishing' 'Protective-serv'\n",
            " 'Other-service' 'Craft-repair' 'Adm-clerical' 'Exec-managerial'\n",
            " 'Tech-support' 'Sales' 'Priv-house-serv' 'Transport-moving'\n",
            " 'Handlers-cleaners' 'Armed-Forces']\n",
            "Prof-specialty       2999\n",
            "Exec-managerial      2020\n",
            "Craft-repair         2013\n",
            "Sales                1854\n",
            "Adm-clerical         1841\n",
            "Other-service        1628\n",
            "Machine-op-inspct    1020\n",
            "Transport-moving      758\n",
            "Handlers-cleaners     702\n",
            "Tech-support          518\n",
            "Farming-fishing       496\n",
            "Protective-serv       334\n",
            "Priv-house-serv        93\n",
            "Armed-Forces            6\n",
            "Name: occupation, dtype: int64\n",
            "\n",
            "['Husband' 'Own-child' 'Not-in-family' 'Unmarried' 'Wife' 'Other-relative']\n",
            "Husband           6524\n",
            "Not-in-family     4278\n",
            "Own-child         2513\n",
            "Unmarried         1679\n",
            "Wife               763\n",
            "Other-relative     525\n",
            "Name: relationship, dtype: int64\n",
            "\n",
            "['White' 'Black' 'Asian-Pac-Islander' 'Other' 'Amer-Indian-Eskimo']\n",
            "White                 13947\n",
            "Black                  1561\n",
            "Asian-Pac-Islander      480\n",
            "Amer-Indian-Eskimo      159\n",
            "Other                   135\n",
            "Name: race, dtype: int64\n",
            "\n",
            "['Male' 'Female']\n",
            "Male      10861\n",
            "Female     5421\n",
            "Name: sex, dtype: int64\n",
            "\n",
            "[ 1081.90510411     0.          7688.          3103.\n",
            "  6418.          7298.          3908.         14084.\n",
            "  5178.         15024.         99999.          2597.\n",
            "  2907.          4650.          6497.          1055.\n",
            "  5013.         27828.          4934.          4064.\n",
            "  3674.          2174.         10605.          3418.\n",
            "   114.          2580.          3411.          4508.\n",
            "  4386.          8614.         13550.          6849.\n",
            "  2463.          3137.          2885.          2964.\n",
            "  1471.         10566.          2354.          1424.\n",
            "  1455.          3325.          4416.         25236.\n",
            "   594.          2105.          4787.          2829.\n",
            "   401.          4865.          1264.          1506.\n",
            " 10520.          3464.          2653.         20051.\n",
            "  4101.          1797.          2407.          3471.\n",
            "  1086.          1848.         14344.          1151.\n",
            "  2993.          2290.         15020.          9386.\n",
            "  2202.          3818.          2176.          5455.\n",
            " 11678.          7978.          7262.          6514.\n",
            " 41310.          3456.          7430.          2414.\n",
            "  2062.         34095.          1831.          6723.\n",
            "  5060.         15831.          2977.          2346.\n",
            "  3273.          2329.          9562.          2635.\n",
            "  4931.          1731.          6097.           914.\n",
            "  7896.          5556.          1409.          3781.\n",
            "  3942.          2538.          3887.         25124.\n",
            "  7443.          5721.          1173.          4687.\n",
            "  6612.          6767.          2961.           991.\n",
            "  2036.          2936.        ]\n",
            "0.0        14958\n",
            "15024.0      166\n",
            "7688.0       126\n",
            "7298.0       118\n",
            "99999.0       85\n",
            "           ...  \n",
            "7262.0         1\n",
            "7978.0         1\n",
            "2993.0         1\n",
            "1424.0         1\n",
            "2936.0         1\n",
            "Name: capital-gain, Length: 114, dtype: int64\n",
            "\n",
            "[  87.89926909    0.         1721.         1876.         2415.\n",
            " 1887.          625.         1977.         2057.         1429.\n",
            " 1590.         1485.         2051.         2377.         1672.\n",
            " 1628.         1902.         1602.         1741.         2444.\n",
            " 1408.         2001.         2042.         1740.         1825.\n",
            " 1848.         1719.         3004.         2179.         1573.\n",
            " 2205.         1258.         2339.         1726.         2258.\n",
            " 1340.         1504.         2559.         1668.         1974.\n",
            " 1980.         1564.         2547.         2002.         1669.\n",
            " 1617.          323.         3175.         2472.         2174.\n",
            " 1579.         2129.         1510.         1735.         2282.\n",
            " 1870.         1411.         1911.         1651.         1092.\n",
            " 1762.         2457.         2231.         2238.          653.\n",
            " 1138.         2246.         2603.         2392.         1944.\n",
            " 1380.         2465.         1421.         3770.         1594.\n",
            "  213.         2149.         2824.         1844.         2467.\n",
            " 2163.         1816.         1648.        ]\n",
            "0.0       15518\n",
            "1902.0      102\n",
            "1977.0       85\n",
            "1887.0       74\n",
            "2415.0       23\n",
            "          ...  \n",
            "2282.0        1\n",
            "1735.0        1\n",
            "2547.0        1\n",
            "1825.0        1\n",
            "1648.0        1\n",
            "Name: capital-loss, Length: 83, dtype: int64\n",
            "\n",
            "[40.39223635 40.         50.         30.         32.         10.\n",
            " 39.         35.         48.         25.         20.         45.\n",
            " 47.          6.         43.         90.         54.         60.\n",
            " 38.         36.         18.         24.         44.         56.\n",
            " 28.         16.         41.         22.         55.         14.\n",
            " 33.         37.          8.         12.         70.         15.\n",
            " 75.         52.         84.         42.         80.         68.\n",
            " 99.         65.          5.         17.         72.         53.\n",
            " 29.         96.         21.         46.          3.          1.\n",
            " 23.         49.         67.         76.          7.          2.\n",
            " 58.         26.         34.          4.         51.         78.\n",
            " 63.         31.         92.         77.         27.         85.\n",
            " 13.         19.         98.         62.         66.         57.\n",
            " 11.         86.         59.          9.         64.         73.\n",
            " 61.         88.         79.         89.         74.         69.        ]\n",
            "40.000000    7586\n",
            "50.000000    1427\n",
            "45.000000     893\n",
            "60.000000     702\n",
            "35.000000     640\n",
            "             ... \n",
            "89.000000       1\n",
            "40.392236       1\n",
            "79.000000       1\n",
            "76.000000       1\n",
            "69.000000       1\n",
            "Name: hours-per-week, Length: 90, dtype: int64\n",
            "\n",
            "['United-States' 'Peru' 'Guatemala' 'Mexico' 'Dominican-Republic'\n",
            " 'Ireland' 'Germany' 'Philippines' 'Thailand' 'Haiti' 'El-Salvador'\n",
            " 'Puerto-Rico' 'Vietnam' 'South' 'Columbia' 'Japan' 'India' 'Cambodia'\n",
            " 'Poland' 'Laos' 'England' 'Cuba' 'Taiwan' 'Italy' 'Canada' 'Portugal'\n",
            " 'China' 'Nicaragua' 'Honduras' 'Iran' 'Scotland' 'Jamaica' 'Ecuador'\n",
            " 'Yugoslavia' 'Hungary' 'Hong' 'Greece' 'Trinadad&Tobago'\n",
            " 'Outlying-US(Guam-USVI-etc)' 'France']\n",
            "United-States                 14937\n",
            "Mexico                          308\n",
            "Philippines                      97\n",
            "Puerto-Rico                      70\n",
            "Germany                          69\n",
            "Canada                           61\n",
            "India                            51\n",
            "El-Salvador                      49\n",
            "China                            47\n",
            "Cuba                             43\n",
            "England                          37\n",
            "South                            35\n",
            "Dominican-Republic               33\n",
            "Italy                            32\n",
            "Haiti                            31\n",
            "Portugal                         30\n",
            "Japan                            30\n",
            "Poland                           27\n",
            "Columbia                         26\n",
            "Jamaica                          25\n",
            "Guatemala                        24\n",
            "Greece                           20\n",
            "Vietnam                          19\n",
            "Ecuador                          17\n",
            "Iran                             16\n",
            "Peru                             15\n",
            "Nicaragua                        15\n",
            "Taiwan                           14\n",
            "Ireland                          13\n",
            "Thailand                         12\n",
            "Hong                             10\n",
            "Outlying-US(Guam-USVI-etc)        9\n",
            "France                            9\n",
            "Scotland                          9\n",
            "Cambodia                          9\n",
            "Trinadad&Tobago                   8\n",
            "Yugoslavia                        7\n",
            "Honduras                          7\n",
            "Hungary                           6\n",
            "Laos                              5\n",
            "Name: native-country, dtype: int64\n",
            "\n",
            "['<=50K.' '>50K.']\n",
            "<=50K.    12436\n",
            ">50K.      3846\n",
            "Name: income, dtype: int64\n",
            "\n"
          ]
        }
      ]
    },
    {
      "cell_type": "code",
      "source": [
        "for i in names:\n",
        "  dummy = pd.DataFrame(encoder.fit_transform(test[[i]]))\n",
        "  dummy.columns = encoder.get_feature_names([i])\n",
        "  test.drop([i] ,axis=1, inplace=True)\n",
        "  test=pd.concat([test, dummy], axis=1)\n",
        "\n",
        "test['sex'] = le.fit_transform(test['sex'])\n",
        "test['income'] = le.fit_transform(test['income'])"
      ],
      "metadata": {
        "colab": {
          "base_uri": "https://localhost:8080/"
        },
        "id": "DeVmX0uOfbJK",
        "outputId": "9951ffaf-3444-40f0-e814-d05ca2d34629"
      },
      "execution_count": null,
      "outputs": [
        {
          "output_type": "stream",
          "name": "stderr",
          "text": [
            "/usr/local/lib/python3.7/dist-packages/sklearn/utils/deprecation.py:87: FutureWarning: Function get_feature_names is deprecated; get_feature_names is deprecated in 1.0 and will be removed in 1.2. Please use get_feature_names_out instead.\n",
            "  warnings.warn(msg, category=FutureWarning)\n",
            "/usr/local/lib/python3.7/dist-packages/sklearn/utils/deprecation.py:87: FutureWarning: Function get_feature_names is deprecated; get_feature_names is deprecated in 1.0 and will be removed in 1.2. Please use get_feature_names_out instead.\n",
            "  warnings.warn(msg, category=FutureWarning)\n",
            "/usr/local/lib/python3.7/dist-packages/sklearn/utils/deprecation.py:87: FutureWarning: Function get_feature_names is deprecated; get_feature_names is deprecated in 1.0 and will be removed in 1.2. Please use get_feature_names_out instead.\n",
            "  warnings.warn(msg, category=FutureWarning)\n",
            "/usr/local/lib/python3.7/dist-packages/sklearn/utils/deprecation.py:87: FutureWarning: Function get_feature_names is deprecated; get_feature_names is deprecated in 1.0 and will be removed in 1.2. Please use get_feature_names_out instead.\n",
            "  warnings.warn(msg, category=FutureWarning)\n",
            "/usr/local/lib/python3.7/dist-packages/sklearn/utils/deprecation.py:87: FutureWarning: Function get_feature_names is deprecated; get_feature_names is deprecated in 1.0 and will be removed in 1.2. Please use get_feature_names_out instead.\n",
            "  warnings.warn(msg, category=FutureWarning)\n",
            "/usr/local/lib/python3.7/dist-packages/sklearn/utils/deprecation.py:87: FutureWarning: Function get_feature_names is deprecated; get_feature_names is deprecated in 1.0 and will be removed in 1.2. Please use get_feature_names_out instead.\n",
            "  warnings.warn(msg, category=FutureWarning)\n",
            "/usr/local/lib/python3.7/dist-packages/sklearn/utils/deprecation.py:87: FutureWarning: Function get_feature_names is deprecated; get_feature_names is deprecated in 1.0 and will be removed in 1.2. Please use get_feature_names_out instead.\n",
            "  warnings.warn(msg, category=FutureWarning)\n"
          ]
        }
      ]
    },
    {
      "cell_type": "code",
      "source": [
        "print(test)"
      ],
      "metadata": {
        "colab": {
          "base_uri": "https://localhost:8080/"
        },
        "id": "bjqPFJp-fzNR",
        "outputId": "2bea1809-d91a-4ff0-e693-c8248a52b822"
      },
      "execution_count": null,
      "outputs": [
        {
          "output_type": "stream",
          "name": "stdout",
          "text": [
            "                        age         fnlwgt  education-num  sex  capital-gain  \\\n",
            "0      |1x3 Cross validator  189435.677784      10.072907    1   1081.905104   \n",
            "1                        25  226802.000000       7.000000    1      0.000000   \n",
            "2                        38   89814.000000       9.000000    1      0.000000   \n",
            "3                        28  336951.000000      12.000000    1      0.000000   \n",
            "4                        44  160323.000000      10.000000    1   7688.000000   \n",
            "...                     ...            ...            ...  ...           ...   \n",
            "16277                    39  215419.000000      13.000000    0      0.000000   \n",
            "16278                    64  321403.000000       9.000000    1      0.000000   \n",
            "16279                    38  374983.000000      13.000000    1      0.000000   \n",
            "16280                    44   83891.000000      13.000000    1   5455.000000   \n",
            "16281                    35  182148.000000      13.000000    1      0.000000   \n",
            "\n",
            "       capital-loss  hours-per-week  income  workclass_Federal-gov  \\\n",
            "0         87.899269       40.392236       0                    0.0   \n",
            "1          0.000000       40.000000       0                    0.0   \n",
            "2          0.000000       50.000000       0                    0.0   \n",
            "3          0.000000       40.000000       1                    0.0   \n",
            "4          0.000000       40.000000       1                    0.0   \n",
            "...             ...             ...     ...                    ...   \n",
            "16277      0.000000       36.000000       0                    0.0   \n",
            "16278      0.000000       40.000000       0                    0.0   \n",
            "16279      0.000000       50.000000       0                    0.0   \n",
            "16280      0.000000       40.000000       0                    0.0   \n",
            "16281      0.000000       60.000000       1                    0.0   \n",
            "\n",
            "       workclass_Local-gov  ...  native-country_Portugal  \\\n",
            "0                      0.0  ...                      0.0   \n",
            "1                      0.0  ...                      0.0   \n",
            "2                      0.0  ...                      0.0   \n",
            "3                      1.0  ...                      0.0   \n",
            "4                      0.0  ...                      0.0   \n",
            "...                    ...  ...                      ...   \n",
            "16277                  0.0  ...                      0.0   \n",
            "16278                  0.0  ...                      0.0   \n",
            "16279                  0.0  ...                      0.0   \n",
            "16280                  0.0  ...                      0.0   \n",
            "16281                  0.0  ...                      0.0   \n",
            "\n",
            "       native-country_Puerto-Rico  native-country_Scotland  \\\n",
            "0                             0.0                      0.0   \n",
            "1                             0.0                      0.0   \n",
            "2                             0.0                      0.0   \n",
            "3                             0.0                      0.0   \n",
            "4                             0.0                      0.0   \n",
            "...                           ...                      ...   \n",
            "16277                         0.0                      0.0   \n",
            "16278                         0.0                      0.0   \n",
            "16279                         0.0                      0.0   \n",
            "16280                         0.0                      0.0   \n",
            "16281                         0.0                      0.0   \n",
            "\n",
            "       native-country_South  native-country_Taiwan  native-country_Thailand  \\\n",
            "0                       0.0                    0.0                      0.0   \n",
            "1                       0.0                    0.0                      0.0   \n",
            "2                       0.0                    0.0                      0.0   \n",
            "3                       0.0                    0.0                      0.0   \n",
            "4                       0.0                    0.0                      0.0   \n",
            "...                     ...                    ...                      ...   \n",
            "16277                   0.0                    0.0                      0.0   \n",
            "16278                   0.0                    0.0                      0.0   \n",
            "16279                   0.0                    0.0                      0.0   \n",
            "16280                   0.0                    0.0                      0.0   \n",
            "16281                   0.0                    0.0                      0.0   \n",
            "\n",
            "       native-country_Trinadad&Tobago  native-country_United-States  \\\n",
            "0                                 0.0                           1.0   \n",
            "1                                 0.0                           1.0   \n",
            "2                                 0.0                           1.0   \n",
            "3                                 0.0                           1.0   \n",
            "4                                 0.0                           1.0   \n",
            "...                               ...                           ...   \n",
            "16277                             0.0                           1.0   \n",
            "16278                             0.0                           1.0   \n",
            "16279                             0.0                           1.0   \n",
            "16280                             0.0                           1.0   \n",
            "16281                             0.0                           1.0   \n",
            "\n",
            "       native-country_Vietnam  native-country_Yugoslavia  \n",
            "0                         0.0                        0.0  \n",
            "1                         0.0                        0.0  \n",
            "2                         0.0                        0.0  \n",
            "3                         0.0                        0.0  \n",
            "4                         0.0                        0.0  \n",
            "...                       ...                        ...  \n",
            "16277                     0.0                        0.0  \n",
            "16278                     0.0                        0.0  \n",
            "16279                     0.0                        0.0  \n",
            "16280                     0.0                        0.0  \n",
            "16281                     0.0                        0.0  \n",
            "\n",
            "[16282 rows x 104 columns]\n"
          ]
        }
      ]
    },
    {
      "cell_type": "code",
      "source": [
        "for i in train:\n",
        "  if i not in test:\n",
        "    print (i)"
      ],
      "metadata": {
        "colab": {
          "base_uri": "https://localhost:8080/"
        },
        "id": "zTN_haFMgF_O",
        "outputId": "dbf4decb-7d6d-4a99-9898-bdc39e613969"
      },
      "execution_count": null,
      "outputs": [
        {
          "output_type": "stream",
          "name": "stdout",
          "text": [
            "native-country_Holand-Netherlands\n"
          ]
        }
      ]
    },
    {
      "cell_type": "code",
      "source": [
        "test['native-country_Holand-Netherlands']=0"
      ],
      "metadata": {
        "id": "U9LByxd9hUVj"
      },
      "execution_count": null,
      "outputs": []
    },
    {
      "cell_type": "code",
      "source": [
        "print(test)"
      ],
      "metadata": {
        "colab": {
          "base_uri": "https://localhost:8080/"
        },
        "id": "UpfzpRv9hasB",
        "outputId": "5ecd4058-8539-47f2-da68-c673a88a1dc7"
      },
      "execution_count": null,
      "outputs": [
        {
          "output_type": "stream",
          "name": "stdout",
          "text": [
            "                        age         fnlwgt  education-num  sex  capital-gain  \\\n",
            "0      |1x3 Cross validator  189435.677784      10.072907    1   1081.905104   \n",
            "1                        25  226802.000000       7.000000    1      0.000000   \n",
            "2                        38   89814.000000       9.000000    1      0.000000   \n",
            "3                        28  336951.000000      12.000000    1      0.000000   \n",
            "4                        44  160323.000000      10.000000    1   7688.000000   \n",
            "...                     ...            ...            ...  ...           ...   \n",
            "16277                    39  215419.000000      13.000000    0      0.000000   \n",
            "16278                    64  321403.000000       9.000000    1      0.000000   \n",
            "16279                    38  374983.000000      13.000000    1      0.000000   \n",
            "16280                    44   83891.000000      13.000000    1   5455.000000   \n",
            "16281                    35  182148.000000      13.000000    1      0.000000   \n",
            "\n",
            "       capital-loss  hours-per-week  income  workclass_Federal-gov  \\\n",
            "0         87.899269       40.392236       0                    0.0   \n",
            "1          0.000000       40.000000       0                    0.0   \n",
            "2          0.000000       50.000000       0                    0.0   \n",
            "3          0.000000       40.000000       1                    0.0   \n",
            "4          0.000000       40.000000       1                    0.0   \n",
            "...             ...             ...     ...                    ...   \n",
            "16277      0.000000       36.000000       0                    0.0   \n",
            "16278      0.000000       40.000000       0                    0.0   \n",
            "16279      0.000000       50.000000       0                    0.0   \n",
            "16280      0.000000       40.000000       0                    0.0   \n",
            "16281      0.000000       60.000000       1                    0.0   \n",
            "\n",
            "       workclass_Local-gov  ...  native-country_Puerto-Rico  \\\n",
            "0                      0.0  ...                         0.0   \n",
            "1                      0.0  ...                         0.0   \n",
            "2                      0.0  ...                         0.0   \n",
            "3                      1.0  ...                         0.0   \n",
            "4                      0.0  ...                         0.0   \n",
            "...                    ...  ...                         ...   \n",
            "16277                  0.0  ...                         0.0   \n",
            "16278                  0.0  ...                         0.0   \n",
            "16279                  0.0  ...                         0.0   \n",
            "16280                  0.0  ...                         0.0   \n",
            "16281                  0.0  ...                         0.0   \n",
            "\n",
            "       native-country_Scotland  native-country_South  native-country_Taiwan  \\\n",
            "0                          0.0                   0.0                    0.0   \n",
            "1                          0.0                   0.0                    0.0   \n",
            "2                          0.0                   0.0                    0.0   \n",
            "3                          0.0                   0.0                    0.0   \n",
            "4                          0.0                   0.0                    0.0   \n",
            "...                        ...                   ...                    ...   \n",
            "16277                      0.0                   0.0                    0.0   \n",
            "16278                      0.0                   0.0                    0.0   \n",
            "16279                      0.0                   0.0                    0.0   \n",
            "16280                      0.0                   0.0                    0.0   \n",
            "16281                      0.0                   0.0                    0.0   \n",
            "\n",
            "       native-country_Thailand  native-country_Trinadad&Tobago  \\\n",
            "0                          0.0                             0.0   \n",
            "1                          0.0                             0.0   \n",
            "2                          0.0                             0.0   \n",
            "3                          0.0                             0.0   \n",
            "4                          0.0                             0.0   \n",
            "...                        ...                             ...   \n",
            "16277                      0.0                             0.0   \n",
            "16278                      0.0                             0.0   \n",
            "16279                      0.0                             0.0   \n",
            "16280                      0.0                             0.0   \n",
            "16281                      0.0                             0.0   \n",
            "\n",
            "       native-country_United-States  native-country_Vietnam  \\\n",
            "0                               1.0                     0.0   \n",
            "1                               1.0                     0.0   \n",
            "2                               1.0                     0.0   \n",
            "3                               1.0                     0.0   \n",
            "4                               1.0                     0.0   \n",
            "...                             ...                     ...   \n",
            "16277                           1.0                     0.0   \n",
            "16278                           1.0                     0.0   \n",
            "16279                           1.0                     0.0   \n",
            "16280                           1.0                     0.0   \n",
            "16281                           1.0                     0.0   \n",
            "\n",
            "       native-country_Yugoslavia  native-country_Holand-Netherlands  \n",
            "0                            0.0                                  0  \n",
            "1                            0.0                                  0  \n",
            "2                            0.0                                  0  \n",
            "3                            0.0                                  0  \n",
            "4                            0.0                                  0  \n",
            "...                          ...                                ...  \n",
            "16277                        0.0                                  0  \n",
            "16278                        0.0                                  0  \n",
            "16279                        0.0                                  0  \n",
            "16280                        0.0                                  0  \n",
            "16281                        0.0                                  0  \n",
            "\n",
            "[16282 rows x 105 columns]\n"
          ]
        }
      ]
    },
    {
      "cell_type": "code",
      "source": [
        "ytrain=train.pop('income')\n",
        "ytest=test.pop('income')"
      ],
      "metadata": {
        "id": "jDtHyZi9juzE"
      },
      "execution_count": null,
      "outputs": []
    },
    {
      "cell_type": "code",
      "source": [
        "xtrain=train\n",
        "xtest=test"
      ],
      "metadata": {
        "id": "b5j7HhWwkKsW"
      },
      "execution_count": null,
      "outputs": []
    },
    {
      "cell_type": "code",
      "source": [
        "print(xtrain)"
      ],
      "metadata": {
        "colab": {
          "base_uri": "https://localhost:8080/"
        },
        "id": "YzjmCBMVkgH-",
        "outputId": "ee7cfe35-811b-4f89-fc33-839af85f0e79"
      },
      "execution_count": null,
      "outputs": [
        {
          "output_type": "stream",
          "name": "stdout",
          "text": [
            "       age  fnlwgt  education-num  sex  capital-gain  capital-loss  \\\n",
            "0       39   77516             13    1          2174             0   \n",
            "1       50   83311             13    1             0             0   \n",
            "2       38  215646              9    1             0             0   \n",
            "3       53  234721              7    1             0             0   \n",
            "4       28  338409             13    0             0             0   \n",
            "...    ...     ...            ...  ...           ...           ...   \n",
            "32556   27  257302             12    0             0             0   \n",
            "32557   40  154374              9    1             0             0   \n",
            "32558   58  151910              9    0             0             0   \n",
            "32559   22  201490              9    1             0             0   \n",
            "32560   52  287927              9    0         15024             0   \n",
            "\n",
            "       hours-per-week  workclass_Federal-gov  workclass_Local-gov  \\\n",
            "0                  40                    0.0                  0.0   \n",
            "1                  13                    0.0                  0.0   \n",
            "2                  40                    0.0                  0.0   \n",
            "3                  40                    0.0                  0.0   \n",
            "4                  40                    0.0                  0.0   \n",
            "...               ...                    ...                  ...   \n",
            "32556              38                    0.0                  0.0   \n",
            "32557              40                    0.0                  0.0   \n",
            "32558              40                    0.0                  0.0   \n",
            "32559              20                    0.0                  0.0   \n",
            "32560              40                    0.0                  0.0   \n",
            "\n",
            "       workclass_Never-worked  ...  native-country_Portugal  \\\n",
            "0                         0.0  ...                      0.0   \n",
            "1                         0.0  ...                      0.0   \n",
            "2                         0.0  ...                      0.0   \n",
            "3                         0.0  ...                      0.0   \n",
            "4                         0.0  ...                      0.0   \n",
            "...                       ...  ...                      ...   \n",
            "32556                     0.0  ...                      0.0   \n",
            "32557                     0.0  ...                      0.0   \n",
            "32558                     0.0  ...                      0.0   \n",
            "32559                     0.0  ...                      0.0   \n",
            "32560                     0.0  ...                      0.0   \n",
            "\n",
            "       native-country_Puerto-Rico  native-country_Scotland  \\\n",
            "0                             0.0                      0.0   \n",
            "1                             0.0                      0.0   \n",
            "2                             0.0                      0.0   \n",
            "3                             0.0                      0.0   \n",
            "4                             0.0                      0.0   \n",
            "...                           ...                      ...   \n",
            "32556                         0.0                      0.0   \n",
            "32557                         0.0                      0.0   \n",
            "32558                         0.0                      0.0   \n",
            "32559                         0.0                      0.0   \n",
            "32560                         0.0                      0.0   \n",
            "\n",
            "       native-country_South  native-country_Taiwan  native-country_Thailand  \\\n",
            "0                       0.0                    0.0                      0.0   \n",
            "1                       0.0                    0.0                      0.0   \n",
            "2                       0.0                    0.0                      0.0   \n",
            "3                       0.0                    0.0                      0.0   \n",
            "4                       0.0                    0.0                      0.0   \n",
            "...                     ...                    ...                      ...   \n",
            "32556                   0.0                    0.0                      0.0   \n",
            "32557                   0.0                    0.0                      0.0   \n",
            "32558                   0.0                    0.0                      0.0   \n",
            "32559                   0.0                    0.0                      0.0   \n",
            "32560                   0.0                    0.0                      0.0   \n",
            "\n",
            "       native-country_Trinadad&Tobago  native-country_United-States  \\\n",
            "0                                 0.0                           1.0   \n",
            "1                                 0.0                           1.0   \n",
            "2                                 0.0                           1.0   \n",
            "3                                 0.0                           1.0   \n",
            "4                                 0.0                           0.0   \n",
            "...                               ...                           ...   \n",
            "32556                             0.0                           1.0   \n",
            "32557                             0.0                           1.0   \n",
            "32558                             0.0                           1.0   \n",
            "32559                             0.0                           1.0   \n",
            "32560                             0.0                           1.0   \n",
            "\n",
            "       native-country_Vietnam  native-country_Yugoslavia  \n",
            "0                         0.0                        0.0  \n",
            "1                         0.0                        0.0  \n",
            "2                         0.0                        0.0  \n",
            "3                         0.0                        0.0  \n",
            "4                         0.0                        0.0  \n",
            "...                       ...                        ...  \n",
            "32556                     0.0                        0.0  \n",
            "32557                     0.0                        0.0  \n",
            "32558                     0.0                        0.0  \n",
            "32559                     0.0                        0.0  \n",
            "32560                     0.0                        0.0  \n",
            "\n",
            "[32561 rows x 104 columns]\n"
          ]
        }
      ]
    },
    {
      "cell_type": "code",
      "source": [
        "print(ytrain)"
      ],
      "metadata": {
        "colab": {
          "base_uri": "https://localhost:8080/"
        },
        "id": "mjdWBZvGkr08",
        "outputId": "61d446dd-de75-451d-ac9f-b8a4727c19f0"
      },
      "execution_count": null,
      "outputs": [
        {
          "output_type": "stream",
          "name": "stdout",
          "text": [
            "0        0\n",
            "1        0\n",
            "2        0\n",
            "3        0\n",
            "4        0\n",
            "        ..\n",
            "32556    0\n",
            "32557    1\n",
            "32558    0\n",
            "32559    0\n",
            "32560    1\n",
            "Name: income, Length: 32561, dtype: int64\n"
          ]
        }
      ]
    },
    {
      "cell_type": "code",
      "source": [
        "for i in (xtest.dtypes):\n",
        "  print(i)"
      ],
      "metadata": {
        "colab": {
          "base_uri": "https://localhost:8080/"
        },
        "id": "yQ9s2QYBnqlI",
        "outputId": "46d3e068-baf2-4d6a-8756-873642d69b11"
      },
      "execution_count": null,
      "outputs": [
        {
          "output_type": "stream",
          "name": "stdout",
          "text": [
            "object\n",
            "float64\n",
            "float64\n",
            "int64\n",
            "float64\n",
            "float64\n",
            "float64\n",
            "float64\n",
            "float64\n",
            "float64\n",
            "float64\n",
            "float64\n",
            "float64\n",
            "float64\n",
            "float64\n",
            "float64\n",
            "float64\n",
            "float64\n",
            "float64\n",
            "float64\n",
            "float64\n",
            "float64\n",
            "float64\n",
            "float64\n",
            "float64\n",
            "float64\n",
            "float64\n",
            "float64\n",
            "float64\n",
            "float64\n",
            "float64\n",
            "float64\n",
            "float64\n",
            "float64\n",
            "float64\n",
            "float64\n",
            "float64\n",
            "float64\n",
            "float64\n",
            "float64\n",
            "float64\n",
            "float64\n",
            "float64\n",
            "float64\n",
            "float64\n",
            "float64\n",
            "float64\n",
            "float64\n",
            "float64\n",
            "float64\n",
            "float64\n",
            "float64\n",
            "float64\n",
            "float64\n",
            "float64\n",
            "float64\n",
            "float64\n",
            "float64\n",
            "float64\n",
            "float64\n",
            "float64\n",
            "float64\n",
            "float64\n",
            "float64\n",
            "float64\n",
            "float64\n",
            "float64\n",
            "float64\n",
            "float64\n",
            "float64\n",
            "float64\n",
            "float64\n",
            "float64\n",
            "float64\n",
            "float64\n",
            "float64\n",
            "float64\n",
            "float64\n",
            "float64\n",
            "float64\n",
            "float64\n",
            "float64\n",
            "float64\n",
            "float64\n",
            "float64\n",
            "float64\n",
            "float64\n",
            "float64\n",
            "float64\n",
            "float64\n",
            "float64\n",
            "float64\n",
            "float64\n",
            "float64\n",
            "float64\n",
            "float64\n",
            "float64\n",
            "float64\n",
            "float64\n",
            "float64\n",
            "float64\n",
            "float64\n",
            "float64\n",
            "int64\n"
          ]
        }
      ]
    },
    {
      "cell_type": "code",
      "source": [
        "print(xtest['age'])"
      ],
      "metadata": {
        "colab": {
          "base_uri": "https://localhost:8080/"
        },
        "id": "s7Jm_vNfp9gc",
        "outputId": "e0cf5995-b970-4888-942b-424033111642"
      },
      "execution_count": null,
      "outputs": [
        {
          "output_type": "stream",
          "name": "stdout",
          "text": [
            "0        |1x3 Cross validator\n",
            "1                          25\n",
            "2                          38\n",
            "3                          28\n",
            "4                          44\n",
            "                 ...         \n",
            "16277                      39\n",
            "16278                      64\n",
            "16279                      38\n",
            "16280                      44\n",
            "16281                      35\n",
            "Name: age, Length: 16282, dtype: object\n"
          ]
        }
      ]
    },
    {
      "cell_type": "code",
      "source": [
        "xtest=xtest.drop(0)\n",
        "ytest=ytest.drop(0)\n",
        "print(xtest)"
      ],
      "metadata": {
        "colab": {
          "base_uri": "https://localhost:8080/"
        },
        "id": "dQb5JimyrOX3",
        "outputId": "eb4acde6-bdcb-4c03-f550-ad0c67b52602"
      },
      "execution_count": null,
      "outputs": [
        {
          "output_type": "stream",
          "name": "stdout",
          "text": [
            "      age    fnlwgt  education-num  sex  capital-gain  capital-loss  \\\n",
            "1      25  226802.0            7.0    1           0.0           0.0   \n",
            "2      38   89814.0            9.0    1           0.0           0.0   \n",
            "3      28  336951.0           12.0    1           0.0           0.0   \n",
            "4      44  160323.0           10.0    1        7688.0           0.0   \n",
            "5      18  103497.0           10.0    0           0.0           0.0   \n",
            "...    ..       ...            ...  ...           ...           ...   \n",
            "16277  39  215419.0           13.0    0           0.0           0.0   \n",
            "16278  64  321403.0            9.0    1           0.0           0.0   \n",
            "16279  38  374983.0           13.0    1           0.0           0.0   \n",
            "16280  44   83891.0           13.0    1        5455.0           0.0   \n",
            "16281  35  182148.0           13.0    1           0.0           0.0   \n",
            "\n",
            "       hours-per-week  workclass_Federal-gov  workclass_Local-gov  \\\n",
            "1                40.0                    0.0                  0.0   \n",
            "2                50.0                    0.0                  0.0   \n",
            "3                40.0                    0.0                  1.0   \n",
            "4                40.0                    0.0                  0.0   \n",
            "5                30.0                    0.0                  0.0   \n",
            "...               ...                    ...                  ...   \n",
            "16277            36.0                    0.0                  0.0   \n",
            "16278            40.0                    0.0                  0.0   \n",
            "16279            50.0                    0.0                  0.0   \n",
            "16280            40.0                    0.0                  0.0   \n",
            "16281            60.0                    0.0                  0.0   \n",
            "\n",
            "       workclass_Never-worked  ...  native-country_Puerto-Rico  \\\n",
            "1                         0.0  ...                         0.0   \n",
            "2                         0.0  ...                         0.0   \n",
            "3                         0.0  ...                         0.0   \n",
            "4                         0.0  ...                         0.0   \n",
            "5                         0.0  ...                         0.0   \n",
            "...                       ...  ...                         ...   \n",
            "16277                     0.0  ...                         0.0   \n",
            "16278                     0.0  ...                         0.0   \n",
            "16279                     0.0  ...                         0.0   \n",
            "16280                     0.0  ...                         0.0   \n",
            "16281                     0.0  ...                         0.0   \n",
            "\n",
            "       native-country_Scotland  native-country_South  native-country_Taiwan  \\\n",
            "1                          0.0                   0.0                    0.0   \n",
            "2                          0.0                   0.0                    0.0   \n",
            "3                          0.0                   0.0                    0.0   \n",
            "4                          0.0                   0.0                    0.0   \n",
            "5                          0.0                   0.0                    0.0   \n",
            "...                        ...                   ...                    ...   \n",
            "16277                      0.0                   0.0                    0.0   \n",
            "16278                      0.0                   0.0                    0.0   \n",
            "16279                      0.0                   0.0                    0.0   \n",
            "16280                      0.0                   0.0                    0.0   \n",
            "16281                      0.0                   0.0                    0.0   \n",
            "\n",
            "       native-country_Thailand  native-country_Trinadad&Tobago  \\\n",
            "1                          0.0                             0.0   \n",
            "2                          0.0                             0.0   \n",
            "3                          0.0                             0.0   \n",
            "4                          0.0                             0.0   \n",
            "5                          0.0                             0.0   \n",
            "...                        ...                             ...   \n",
            "16277                      0.0                             0.0   \n",
            "16278                      0.0                             0.0   \n",
            "16279                      0.0                             0.0   \n",
            "16280                      0.0                             0.0   \n",
            "16281                      0.0                             0.0   \n",
            "\n",
            "       native-country_United-States  native-country_Vietnam  \\\n",
            "1                               1.0                     0.0   \n",
            "2                               1.0                     0.0   \n",
            "3                               1.0                     0.0   \n",
            "4                               1.0                     0.0   \n",
            "5                               1.0                     0.0   \n",
            "...                             ...                     ...   \n",
            "16277                           1.0                     0.0   \n",
            "16278                           1.0                     0.0   \n",
            "16279                           1.0                     0.0   \n",
            "16280                           1.0                     0.0   \n",
            "16281                           1.0                     0.0   \n",
            "\n",
            "       native-country_Yugoslavia  native-country_Holand-Netherlands  \n",
            "1                            0.0                                  0  \n",
            "2                            0.0                                  0  \n",
            "3                            0.0                                  0  \n",
            "4                            0.0                                  0  \n",
            "5                            0.0                                  0  \n",
            "...                          ...                                ...  \n",
            "16277                        0.0                                  0  \n",
            "16278                        0.0                                  0  \n",
            "16279                        0.0                                  0  \n",
            "16280                        0.0                                  0  \n",
            "16281                        0.0                                  0  \n",
            "\n",
            "[16281 rows x 104 columns]\n"
          ]
        }
      ]
    },
    {
      "cell_type": "code",
      "source": [
        "xtrain['age']=pd.to_numeric(xtrain['age'])\n",
        "xtest['age']=pd.to_numeric(xtest['age'])"
      ],
      "metadata": {
        "id": "4Z5wCHxep9da"
      },
      "execution_count": null,
      "outputs": []
    },
    {
      "cell_type": "markdown",
      "source": [
        "# **Model Building**"
      ],
      "metadata": {
        "id": "UUOvAboMh65s"
      }
    },
    {
      "cell_type": "markdown",
      "source": [
        "## *Decision Trees*"
      ],
      "metadata": {
        "id": "ouObztZlQ0aS"
      }
    },
    {
      "cell_type": "code",
      "source": [
        "from sklearn.tree import DecisionTreeClassifier\n",
        "from sklearn import metrics\n",
        "from sklearn import tree\n",
        "import matplotlib.pyplot as plt"
      ],
      "metadata": {
        "id": "C164Ka6kh3aM"
      },
      "execution_count": null,
      "outputs": []
    },
    {
      "cell_type": "code",
      "source": [
        "clf = DecisionTreeClassifier()\n",
        "clf = clf.fit(xtrain,ytrain)\n",
        "ypred = clf.predict(xtest)\n",
        "print(\"Accuracy:\",metrics.accuracy_score(ytest, ypred))"
      ],
      "metadata": {
        "colab": {
          "base_uri": "https://localhost:8080/"
        },
        "id": "Q1gr7Y0QisNq",
        "outputId": "1cd88a6b-1267-4c61-abc5-584e7ab9496f"
      },
      "execution_count": null,
      "outputs": [
        {
          "output_type": "stream",
          "name": "stdout",
          "text": [
            "Accuracy: 0.7998280203918678\n"
          ]
        },
        {
          "output_type": "stream",
          "name": "stderr",
          "text": [
            "/usr/local/lib/python3.7/dist-packages/sklearn/base.py:493: FutureWarning: The feature names should match those that were passed during fit. Starting version 1.2, an error will be raised.\n",
            "Feature names must be in the same order as they were in fit.\n",
            "\n",
            "  warnings.warn(message, FutureWarning)\n"
          ]
        }
      ]
    },
    {
      "cell_type": "code",
      "source": [
        "clf = DecisionTreeClassifier(criterion='entropy')\n",
        "clf = clf.fit(xtrain,ytrain)\n",
        "ypred = clf.predict(xtest)\n",
        "print(\"Accuracy:\",metrics.accuracy_score(ytest, ypred))"
      ],
      "metadata": {
        "colab": {
          "base_uri": "https://localhost:8080/"
        },
        "id": "bHBJ6U8kud2l",
        "outputId": "f3bbb9a1-d8f2-496e-d527-f81d2e56c4d5"
      },
      "execution_count": null,
      "outputs": [
        {
          "output_type": "stream",
          "name": "stdout",
          "text": [
            "Accuracy: 0.8083655795098581\n"
          ]
        },
        {
          "output_type": "stream",
          "name": "stderr",
          "text": [
            "/usr/local/lib/python3.7/dist-packages/sklearn/base.py:493: FutureWarning: The feature names should match those that were passed during fit. Starting version 1.2, an error will be raised.\n",
            "Feature names must be in the same order as they were in fit.\n",
            "\n",
            "  warnings.warn(message, FutureWarning)\n"
          ]
        }
      ]
    },
    {
      "cell_type": "code",
      "source": [
        "clf = DecisionTreeClassifier(criterion='entropy', splitter='random')\n",
        "clf = clf.fit(xtrain,ytrain)\n",
        "ypred = clf.predict(xtest)\n",
        "print(\"Accuracy:\",metrics.accuracy_score(ytest, ypred))"
      ],
      "metadata": {
        "colab": {
          "base_uri": "https://localhost:8080/"
        },
        "id": "6-JEk0Lmud82",
        "outputId": "bef1fa22-0000-4492-f873-9fb936b2e956"
      },
      "execution_count": null,
      "outputs": [
        {
          "output_type": "stream",
          "name": "stdout",
          "text": [
            "Accuracy: 0.8158589767213316\n"
          ]
        },
        {
          "output_type": "stream",
          "name": "stderr",
          "text": [
            "/usr/local/lib/python3.7/dist-packages/sklearn/base.py:493: FutureWarning: The feature names should match those that were passed during fit. Starting version 1.2, an error will be raised.\n",
            "Feature names must be in the same order as they were in fit.\n",
            "\n",
            "  warnings.warn(message, FutureWarning)\n"
          ]
        }
      ]
    },
    {
      "cell_type": "code",
      "source": [
        "clf = DecisionTreeClassifier(criterion='entropy', splitter='random')\n",
        "clf = clf.fit(xtrain,ytrain)\n",
        "ypred = clf.predict(xtest)\n",
        "print(\"Accuracy:\",metrics.accuracy_score(ytest, ypred))"
      ],
      "metadata": {
        "colab": {
          "base_uri": "https://localhost:8080/"
        },
        "id": "sRH5SpTaTYq5",
        "outputId": "3722da70-7f7e-4b22-bb14-36d7e9bcf3a7"
      },
      "execution_count": null,
      "outputs": [
        {
          "output_type": "stream",
          "name": "stdout",
          "text": [
            "Accuracy: 0.816288925741662\n"
          ]
        },
        {
          "output_type": "stream",
          "name": "stderr",
          "text": [
            "/usr/local/lib/python3.7/dist-packages/sklearn/base.py:493: FutureWarning: The feature names should match those that were passed during fit. Starting version 1.2, an error will be raised.\n",
            "Feature names must be in the same order as they were in fit.\n",
            "\n",
            "  warnings.warn(message, FutureWarning)\n"
          ]
        }
      ]
    },
    {
      "cell_type": "code",
      "source": [
        "clf = DecisionTreeClassifier(criterion='entropy', splitter='random')\n",
        "clf = clf.fit(xtrain,ytrain)\n",
        "ypred = clf.predict(xtest)\n",
        "print(\"Accuracy:\",metrics.accuracy_score(ytest, ypred))"
      ],
      "metadata": {
        "colab": {
          "base_uri": "https://localhost:8080/"
        },
        "id": "388XRWOMTcru",
        "outputId": "00d5ab0a-38cc-4472-e44a-ac8e5b85f3a0"
      },
      "execution_count": null,
      "outputs": [
        {
          "output_type": "stream",
          "name": "stdout",
          "text": [
            "Accuracy: 0.8160432405871875\n"
          ]
        },
        {
          "output_type": "stream",
          "name": "stderr",
          "text": [
            "/usr/local/lib/python3.7/dist-packages/sklearn/base.py:493: FutureWarning: The feature names should match those that were passed during fit. Starting version 1.2, an error will be raised.\n",
            "Feature names must be in the same order as they were in fit.\n",
            "\n",
            "  warnings.warn(message, FutureWarning)\n"
          ]
        }
      ]
    },
    {
      "cell_type": "code",
      "source": [
        "clf = DecisionTreeClassifier(criterion='entropy', splitter='random')\n",
        "clf = clf.fit(xtrain,ytrain)\n",
        "ypred = clf.predict(xtest)\n",
        "print(\"Accuracy:\",metrics.accuracy_score(ytest, ypred))"
      ],
      "metadata": {
        "outputId": "ff5a3d65-e39e-47ba-c9a2-76be4b4b19f0",
        "colab": {
          "base_uri": "https://localhost:8080/"
        },
        "id": "3kixOBaYTmOH"
      },
      "execution_count": null,
      "outputs": [
        {
          "output_type": "stream",
          "name": "stdout",
          "text": [
            "Accuracy: 0.8106995884773662\n"
          ]
        },
        {
          "output_type": "stream",
          "name": "stderr",
          "text": [
            "/usr/local/lib/python3.7/dist-packages/sklearn/base.py:493: FutureWarning: The feature names should match those that were passed during fit. Starting version 1.2, an error will be raised.\n",
            "Feature names must be in the same order as they were in fit.\n",
            "\n",
            "  warnings.warn(message, FutureWarning)\n"
          ]
        }
      ]
    },
    {
      "cell_type": "code",
      "source": [
        "clf = DecisionTreeClassifier(criterion='entropy', splitter='random')\n",
        "clf = clf.fit(xtrain,ytrain)\n",
        "ypred = clf.predict(xtest)\n",
        "print(\"Accuracy:\",metrics.accuracy_score(ytest, ypred))"
      ],
      "metadata": {
        "outputId": "a02f283d-488d-422d-c5da-ed632069bc59",
        "colab": {
          "base_uri": "https://localhost:8080/"
        },
        "id": "jI_BSmyiTlm2"
      },
      "execution_count": null,
      "outputs": [
        {
          "output_type": "stream",
          "name": "stdout",
          "text": [
            "Accuracy: 0.8215711565628647\n"
          ]
        },
        {
          "output_type": "stream",
          "name": "stderr",
          "text": [
            "/usr/local/lib/python3.7/dist-packages/sklearn/base.py:493: FutureWarning: The feature names should match those that were passed during fit. Starting version 1.2, an error will be raised.\n",
            "Feature names must be in the same order as they were in fit.\n",
            "\n",
            "  warnings.warn(message, FutureWarning)\n"
          ]
        }
      ]
    },
    {
      "cell_type": "code",
      "source": [
        "clf = DecisionTreeClassifier(criterion='gini', splitter='random')\n",
        "clf = clf.fit(xtrain,ytrain)\n",
        "ypred = clf.predict(xtest)\n",
        "print(\"Accuracy:\",metrics.accuracy_score(ytest, ypred))"
      ],
      "metadata": {
        "colab": {
          "base_uri": "https://localhost:8080/"
        },
        "id": "iD88-EpXTqir",
        "outputId": "1b6bace1-596e-4bad-adb1-ee758e20c7c7"
      },
      "execution_count": null,
      "outputs": [
        {
          "output_type": "stream",
          "name": "stdout",
          "text": [
            "Accuracy: 0.8200356243473989\n"
          ]
        },
        {
          "output_type": "stream",
          "name": "stderr",
          "text": [
            "/usr/local/lib/python3.7/dist-packages/sklearn/base.py:493: FutureWarning: The feature names should match those that were passed during fit. Starting version 1.2, an error will be raised.\n",
            "Feature names must be in the same order as they were in fit.\n",
            "\n",
            "  warnings.warn(message, FutureWarning)\n"
          ]
        }
      ]
    },
    {
      "cell_type": "code",
      "source": [
        "clf = DecisionTreeClassifier(criterion='gini', splitter='random')\n",
        "clf = clf.fit(xtrain,ytrain)\n",
        "ypred = clf.predict(xtest)\n",
        "print(\"Accuracy:\",metrics.accuracy_score(ytest, ypred))"
      ],
      "metadata": {
        "outputId": "77d2d07a-0254-4908-8e00-76c5f2beb5cd",
        "colab": {
          "base_uri": "https://localhost:8080/"
        },
        "id": "2pcbX_irTq4b"
      },
      "execution_count": null,
      "outputs": [
        {
          "output_type": "stream",
          "name": "stdout",
          "text": [
            "Accuracy: 0.8155518702782384\n"
          ]
        },
        {
          "output_type": "stream",
          "name": "stderr",
          "text": [
            "/usr/local/lib/python3.7/dist-packages/sklearn/base.py:493: FutureWarning: The feature names should match those that were passed during fit. Starting version 1.2, an error will be raised.\n",
            "Feature names must be in the same order as they were in fit.\n",
            "\n",
            "  warnings.warn(message, FutureWarning)\n"
          ]
        }
      ]
    },
    {
      "cell_type": "code",
      "source": [
        "clf = DecisionTreeClassifier(criterion='gini', splitter='random', max_depth=2)\n",
        "clf = clf.fit(xtrain,ytrain)\n",
        "ypred = clf.predict(xtest)\n",
        "tree.plot_tree(clf)\n",
        "print(\"Accuracy:\",metrics.accuracy_score(ytest, ypred))"
      ],
      "metadata": {
        "colab": {
          "base_uri": "https://localhost:8080/",
          "height": 355
        },
        "id": "NScadzvd5TR6",
        "outputId": "f4ea1cc3-375f-467e-946f-4a733b1a7be9"
      },
      "execution_count": null,
      "outputs": [
        {
          "output_type": "stream",
          "name": "stderr",
          "text": [
            "/usr/local/lib/python3.7/dist-packages/sklearn/base.py:493: FutureWarning: The feature names should match those that were passed during fit. Starting version 1.2, an error will be raised.\n",
            "Feature names must be in the same order as they were in fit.\n",
            "\n",
            "  warnings.warn(message, FutureWarning)\n"
          ]
        },
        {
          "output_type": "stream",
          "name": "stdout",
          "text": [
            "Accuracy: 0.7933787850869112\n"
          ]
        },
        {
          "output_type": "display_data",
          "data": {
            "text/plain": [
              "<Figure size 432x288 with 1 Axes>"
            ],
            "image/png": "[encoded data removed]"
          },
          "metadata": {
            "needs_background": "light"
          }
        }
      ]
    },
    {
      "cell_type": "code",
      "source": [
        "clf = DecisionTreeClassifier(criterion='gini', splitter='random', max_depth=5)\n",
        "clf = clf.fit(xtrain,ytrain)\n",
        "ypred = clf.predict(xtest)\n",
        "tree.plot_tree(clf)\n",
        "print(\"Accuracy:\",metrics.accuracy_score(ytest, ypred))"
      ],
      "metadata": {
        "colab": {
          "base_uri": "https://localhost:8080/",
          "height": 355
        },
        "id": "uga5Ep956pUo",
        "outputId": "fda18366-6600-476e-f5d5-1992bd11b382"
      },
      "execution_count": null,
      "outputs": [
        {
          "output_type": "stream",
          "name": "stderr",
          "text": [
            "/usr/local/lib/python3.7/dist-packages/sklearn/base.py:493: FutureWarning: The feature names should match those that were passed during fit. Starting version 1.2, an error will be raised.\n",
            "Feature names must be in the same order as they were in fit.\n",
            "\n",
            "  warnings.warn(message, FutureWarning)\n"
          ]
        },
        {
          "output_type": "stream",
          "name": "stdout",
          "text": [
            "Accuracy: 0.8305386647011854\n"
          ]
        },
        {
          "output_type": "display_data",
          "data": {
            "text/plain": [
              "<Figure size 432x288 with 1 Axes>"
            ],
            "image/png": "[encoded data removed]"
          },
          "metadata": {
            "needs_background": "light"
          }
        }
      ]
    },
    {
      "cell_type": "code",
      "source": [
        "clf = DecisionTreeClassifier(criterion='entropy', splitter='random', max_depth=5)\n",
        "clf = clf.fit(xtrain,ytrain)\n",
        "ypred = clf.predict(xtest)\n",
        "tree.plot_tree(clf)\n",
        "print(\"Accuracy:\",metrics.accuracy_score(ytest, ypred))"
      ],
      "metadata": {
        "colab": {
          "base_uri": "https://localhost:8080/",
          "height": 355
        },
        "id": "uXlOJd3N6zHs",
        "outputId": "b1d9242f-e8a4-401d-9631-761c36a945f6"
      },
      "execution_count": null,
      "outputs": [
        {
          "output_type": "stream",
          "name": "stderr",
          "text": [
            "/usr/local/lib/python3.7/dist-packages/sklearn/base.py:493: FutureWarning: The feature names should match those that were passed during fit. Starting version 1.2, an error will be raised.\n",
            "Feature names must be in the same order as they were in fit.\n",
            "\n",
            "  warnings.warn(message, FutureWarning)\n"
          ]
        },
        {
          "output_type": "stream",
          "name": "stdout",
          "text": [
            "Accuracy: 0.825563540323076\n"
          ]
        },
        {
          "output_type": "display_data",
          "data": {
            "text/plain": [
              "<Figure size 432x288 with 1 Axes>"
            ],
            "image/png": "[encoded data removed]"
          },
          "metadata": {
            "needs_background": "light"
          }
        }
      ]
    },
    {
      "cell_type": "code",
      "source": [
        "clf = DecisionTreeClassifier(splitter='random')\n",
        "clf = clf.fit(xtrain,ytrain)\n",
        "ypred = clf.predict(xtest)\n",
        "tree.plot_tree(clf)\n",
        "print(\"Accuracy:\",metrics.accuracy_score(ytest, ypred))"
      ],
      "metadata": {
        "colab": {
          "base_uri": "https://localhost:8080/",
          "height": 357
        },
        "id": "mHdNSYTuthEl",
        "outputId": "f7a819c7-8f7a-4562-805d-84ebbfabff48"
      },
      "execution_count": null,
      "outputs": [
        {
          "output_type": "stream",
          "name": "stderr",
          "text": [
            "/usr/local/lib/python3.7/dist-packages/sklearn/base.py:493: FutureWarning: The feature names should match those that were passed during fit. Starting version 1.2, an error will be raised.\n",
            "Feature names must be in the same order as they were in fit.\n",
            "\n",
            "  warnings.warn(message, FutureWarning)\n"
          ]
        },
        {
          "output_type": "stream",
          "name": "stdout",
          "text": [
            "Accuracy: 0.8118665929611203\n"
          ]
        },
        {
          "output_type": "display_data",
          "data": {
            "text/plain": [
              "<Figure size 432x288 with 1 Axes>"
            ],
            "image/png": "[encoded data removed]"
          },
          "metadata": {
            "needs_background": "light"
          }
        }
      ]
    },
    {
      "cell_type": "code",
      "source": [
        "from sklearn.neural_network import MLPClassifier"
      ],
      "metadata": {
        "id": "UU7EHXTIwx11"
      },
      "execution_count": null,
      "outputs": []
    },
    {
      "cell_type": "code",
      "source": [
        "clf = MLPClassifier(hidden_layer_sizes=(100,100,), max_iter=500).fit(xtrain, ytrain)\n",
        "print('Score : ',clf.score(xtest, ytest))"
      ],
      "metadata": {
        "colab": {
          "base_uri": "https://localhost:8080/"
        },
        "id": "cAi5roCIxFg3",
        "outputId": "b8634edf-8bdc-44d7-d962-05550b1474cd"
      },
      "execution_count": null,
      "outputs": [
        {
          "output_type": "stream",
          "name": "stdout",
          "text": [
            "Score :  0.8047417234813586\n"
          ]
        },
        {
          "output_type": "stream",
          "name": "stderr",
          "text": [
            "/usr/local/lib/python3.7/dist-packages/sklearn/base.py:493: FutureWarning: The feature names should match those that were passed during fit. Starting version 1.2, an error will be raised.\n",
            "Feature names must be in the same order as they were in fit.\n",
            "\n",
            "  warnings.warn(message, FutureWarning)\n"
          ]
        }
      ]
    },
    {
      "cell_type": "code",
      "source": [
        "clf = MLPClassifier(solver='sgd',hidden_layer_sizes=(100,100,), max_iter=500).fit(xtrain, ytrain)\n",
        "print('Score : ',clf.score(xtest, ytest))"
      ],
      "metadata": {
        "colab": {
          "base_uri": "https://localhost:8080/"
        },
        "id": "yPLeR-payqXs",
        "outputId": "554d4950-c6ef-44b9-aeba-ca0ada4aac1d"
      },
      "execution_count": null,
      "outputs": [
        {
          "output_type": "stream",
          "name": "stdout",
          "text": [
            "Score :  0.7637737239727289\n"
          ]
        },
        {
          "output_type": "stream",
          "name": "stderr",
          "text": [
            "/usr/local/lib/python3.7/dist-packages/sklearn/base.py:493: FutureWarning: The feature names should match those that were passed during fit. Starting version 1.2, an error will be raised.\n",
            "Feature names must be in the same order as they were in fit.\n",
            "\n",
            "  warnings.warn(message, FutureWarning)\n"
          ]
        }
      ]
    },
    {
      "cell_type": "code",
      "source": [
        "clf = MLPClassifier(solver='lbfgs',hidden_layer_sizes=(100,100,), max_iter=500).fit(xtrain, ytrain)\n",
        "print('Score : ',clf.score(xtest, ytest))"
      ],
      "metadata": {
        "colab": {
          "base_uri": "https://localhost:8080/"
        },
        "id": "jPpKb3fwy-PW",
        "outputId": "eb89443e-775b-497b-82a5-15251b5b7759"
      },
      "execution_count": null,
      "outputs": [
        {
          "output_type": "stream",
          "name": "stdout",
          "text": [
            "Score :  0.7637737239727289\n"
          ]
        },
        {
          "output_type": "stream",
          "name": "stderr",
          "text": [
            "/usr/local/lib/python3.7/dist-packages/sklearn/neural_network/_multilayer_perceptron.py:549: ConvergenceWarning: lbfgs failed to converge (status=2):\n",
            "ABNORMAL_TERMINATION_IN_LNSRCH.\n",
            "\n",
            "Increase the number of iterations (max_iter) or scale the data as shown in:\n",
            "    https://scikit-learn.org/stable/modules/preprocessing.html\n",
            "  self.n_iter_ = _check_optimize_result(\"lbfgs\", opt_res, self.max_iter)\n",
            "/usr/local/lib/python3.7/dist-packages/sklearn/base.py:493: FutureWarning: The feature names should match those that were passed during fit. Starting version 1.2, an error will be raised.\n",
            "Feature names must be in the same order as they were in fit.\n",
            "\n",
            "  warnings.warn(message, FutureWarning)\n"
          ]
        }
      ]
    },
    {
      "cell_type": "code",
      "source": [
        "clf = MLPClassifier(hidden_layer_sizes=(100,), max_iter=500).fit(xtrain, ytrain)\n",
        "print('Score : ',clf.score(xtest, ytest))"
      ],
      "metadata": {
        "colab": {
          "base_uri": "https://localhost:8080/"
        },
        "id": "KG4vt7Drzkdr",
        "outputId": "743acb6f-fcca-48d3-d21e-68a5cf55c0e3"
      },
      "execution_count": null,
      "outputs": [
        {
          "output_type": "stream",
          "name": "stdout",
          "text": [
            "Score :  0.6851544745408759\n"
          ]
        },
        {
          "output_type": "stream",
          "name": "stderr",
          "text": [
            "/usr/local/lib/python3.7/dist-packages/sklearn/base.py:493: FutureWarning: The feature names should match those that were passed during fit. Starting version 1.2, an error will be raised.\n",
            "Feature names must be in the same order as they were in fit.\n",
            "\n",
            "  warnings.warn(message, FutureWarning)\n"
          ]
        }
      ]
    },
    {
      "cell_type": "code",
      "source": [
        "clf = MLPClassifier(hidden_layer_sizes=(100,100,100), max_iter=500).fit(xtrain, ytrain)\n",
        "print('Score : ',clf.score(xtest, ytest))"
      ],
      "metadata": {
        "colab": {
          "base_uri": "https://localhost:8080/"
        },
        "id": "MKCc2vNa0em1",
        "outputId": "2d3c35e4-a49a-40bd-fa6c-a3b80c55548c"
      },
      "execution_count": null,
      "outputs": [
        {
          "output_type": "stream",
          "name": "stdout",
          "text": [
            "Score :  0.7656777839199066\n"
          ]
        },
        {
          "output_type": "stream",
          "name": "stderr",
          "text": [
            "/usr/local/lib/python3.7/dist-packages/sklearn/base.py:493: FutureWarning: The feature names should match those that were passed during fit. Starting version 1.2, an error will be raised.\n",
            "Feature names must be in the same order as they were in fit.\n",
            "\n",
            "  warnings.warn(message, FutureWarning)\n"
          ]
        }
      ]
    },
    {
      "cell_type": "code",
      "source": [
        "clf = MLPClassifier(activation='tanh',hidden_layer_sizes=(100,100,), max_iter=500).fit(xtrain, ytrain)\n",
        "print('Score : ',clf.score(xtest, ytest))"
      ],
      "metadata": {
        "colab": {
          "base_uri": "https://localhost:8080/"
        },
        "id": "YXLnhc7by-gH",
        "outputId": "a6bc3a12-fabf-4e94-9bf7-b5a089214057"
      },
      "execution_count": null,
      "outputs": [
        {
          "output_type": "stream",
          "name": "stdout",
          "text": [
            "Score :  0.7660463116516184\n"
          ]
        },
        {
          "output_type": "stream",
          "name": "stderr",
          "text": [
            "/usr/local/lib/python3.7/dist-packages/sklearn/base.py:493: FutureWarning: The feature names should match those that were passed during fit. Starting version 1.2, an error will be raised.\n",
            "Feature names must be in the same order as they were in fit.\n",
            "\n",
            "  warnings.warn(message, FutureWarning)\n"
          ]
        }
      ]
    },
    {
      "cell_type": "code",
      "source": [
        "clf = MLPClassifier(activation='tanh',hidden_layer_sizes=(100,100,100,), max_iter=500).fit(xtrain, ytrain)\n",
        "print('Score : ',clf.score(xtest, ytest))"
      ],
      "metadata": {
        "colab": {
          "base_uri": "https://localhost:8080/"
        },
        "id": "CEsyGzTZz_cr",
        "outputId": "0f11f5ca-c920-4140-ae48-f3bd45342552"
      },
      "execution_count": null,
      "outputs": [
        {
          "output_type": "stream",
          "name": "stdout",
          "text": [
            "Score :  0.7715742276272957\n"
          ]
        },
        {
          "output_type": "stream",
          "name": "stderr",
          "text": [
            "/usr/local/lib/python3.7/dist-packages/sklearn/base.py:493: FutureWarning: The feature names should match those that were passed during fit. Starting version 1.2, an error will be raised.\n",
            "Feature names must be in the same order as they were in fit.\n",
            "\n",
            "  warnings.warn(message, FutureWarning)\n"
          ]
        }
      ]
    },
    {
      "cell_type": "code",
      "source": [
        "clf = MLPClassifier(activation='logistic',hidden_layer_sizes=(100,100,), max_iter=500).fit(xtrain, ytrain)\n",
        "print('Score : ',clf.score(xtest, ytest))"
      ],
      "metadata": {
        "colab": {
          "base_uri": "https://localhost:8080/"
        },
        "id": "PW4YWeIN-xz6",
        "outputId": "4fe29fc8-5e8a-4798-bcec-d23274e01375"
      },
      "execution_count": null,
      "outputs": [
        {
          "output_type": "stream",
          "name": "stdout",
          "text": [
            "Score :  0.7691173760825503\n"
          ]
        },
        {
          "output_type": "stream",
          "name": "stderr",
          "text": [
            "/usr/local/lib/python3.7/dist-packages/sklearn/base.py:493: FutureWarning: The feature names should match those that were passed during fit. Starting version 1.2, an error will be raised.\n",
            "Feature names must be in the same order as they were in fit.\n",
            "\n",
            "  warnings.warn(message, FutureWarning)\n"
          ]
        }
      ]
    },
    {
      "cell_type": "code",
      "source": [
        "clf = MLPClassifier(activation='identity',hidden_layer_sizes=(100,100,), max_iter=500).fit(xtrain, ytrain)\n",
        "print('Score : ',clf.score(xtest, ytest))"
      ],
      "metadata": {
        "colab": {
          "base_uri": "https://localhost:8080/"
        },
        "id": "Oi13wh6H-88d",
        "outputId": "1b7ffd7c-e4c4-4899-c39d-83fb7693e3bc"
      },
      "execution_count": null,
      "outputs": [
        {
          "output_type": "stream",
          "name": "stdout",
          "text": [
            "Score :  0.774890977212702\n"
          ]
        },
        {
          "output_type": "stream",
          "name": "stderr",
          "text": [
            "/usr/local/lib/python3.7/dist-packages/sklearn/base.py:493: FutureWarning: The feature names should match those that were passed during fit. Starting version 1.2, an error will be raised.\n",
            "Feature names must be in the same order as they were in fit.\n",
            "\n",
            "  warnings.warn(message, FutureWarning)\n"
          ]
        }
      ]
    }
  ]
}