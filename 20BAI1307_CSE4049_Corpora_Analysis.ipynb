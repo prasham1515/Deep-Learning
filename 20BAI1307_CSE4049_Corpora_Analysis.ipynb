{
  "nbformat": 4,
  "nbformat_minor": 0,
  "metadata": {
    "colab": {
      "provenance": []
    },
    "kernelspec": {
      "name": "python3",
      "display_name": "Python 3"
    },
    "language_info": {
      "name": "python"
    },
    "widgets": {
      "application/vnd.jupyter.widget-state+json": {
        "64fbee75bc97488d880e395e00bde8e6": {
          "model_module": "@jupyter-widgets/controls",
          "model_name": "HBoxModel",
          "model_module_version": "1.5.0",
          "state": {
            "_dom_classes": [],
            "_model_module": "@jupyter-widgets/controls",
            "_model_module_version": "1.5.0",
            "_model_name": "HBoxModel",
            "_view_count": null,
            "_view_module": "@jupyter-widgets/controls",
            "_view_module_version": "1.5.0",
            "_view_name": "HBoxView",
            "box_style": "",
            "children": [
              "IPY_MODEL_3b9e779e814e47ecb1eb542b6e4629b6",
              "IPY_MODEL_7328e010ee8e49bf84121ae2f790d590",
              "IPY_MODEL_cba755a33a0340fa9aedbcc4bd9d529b"
            ],
            "layout": "IPY_MODEL_d70ae2a1dd604064ba02744441d04f9c"
          }
        },
        "3b9e779e814e47ecb1eb542b6e4629b6": {
          "model_module": "@jupyter-widgets/controls",
          "model_name": "HTMLModel",
          "model_module_version": "1.5.0",
          "state": {
            "_dom_classes": [],
            "_model_module": "@jupyter-widgets/controls",
            "_model_module_version": "1.5.0",
            "_model_name": "HTMLModel",
            "_view_count": null,
            "_view_module": "@jupyter-widgets/controls",
            "_view_module_version": "1.5.0",
            "_view_name": "HTMLView",
            "description": "",
            "description_tooltip": null,
            "layout": "IPY_MODEL_51bcb4363285475c8f5779fbc6c1ea78",
            "placeholder": "​",
            "style": "IPY_MODEL_388dfef22d3442d9be81935aa21ab3e3",
            "value": "Downloading https://raw.githubusercontent.com/stanfordnlp/stanza-resources/main/resources_1.5.0.json: "
          }
        },
        "7328e010ee8e49bf84121ae2f790d590": {
          "model_module": "@jupyter-widgets/controls",
          "model_name": "FloatProgressModel",
          "model_module_version": "1.5.0",
          "state": {
            "_dom_classes": [],
            "_model_module": "@jupyter-widgets/controls",
            "_model_module_version": "1.5.0",
            "_model_name": "FloatProgressModel",
            "_view_count": null,
            "_view_module": "@jupyter-widgets/controls",
            "_view_module_version": "1.5.0",
            "_view_name": "ProgressView",
            "bar_style": "success",
            "description": "",
            "description_tooltip": null,
            "layout": "IPY_MODEL_868d6f18d0774fdeb70709ad3272ca8c",
            "max": 30101,
            "min": 0,
            "orientation": "horizontal",
            "style": "IPY_MODEL_722668c092a747ad8226c306cdfa3d0d",
            "value": 30101
          }
        },
        "cba755a33a0340fa9aedbcc4bd9d529b": {
          "model_module": "@jupyter-widgets/controls",
          "model_name": "HTMLModel",
          "model_module_version": "1.5.0",
          "state": {
            "_dom_classes": [],
            "_model_module": "@jupyter-widgets/controls",
            "_model_module_version": "1.5.0",
            "_model_name": "HTMLModel",
            "_view_count": null,
            "_view_module": "@jupyter-widgets/controls",
            "_view_module_version": "1.5.0",
            "_view_name": "HTMLView",
            "description": "",
            "description_tooltip": null,
            "layout": "IPY_MODEL_25fe0491a92b4a0181fec0be020570ee",
            "placeholder": "​",
            "style": "IPY_MODEL_ada852e8a4be4d778128374f9dc853aa",
            "value": " 216k/? [00:00&lt;00:00, 6.21MB/s]"
          }
        },
        "d70ae2a1dd604064ba02744441d04f9c": {
          "model_module": "@jupyter-widgets/base",
          "model_name": "LayoutModel",
          "model_module_version": "1.2.0",
          "state": {
            "_model_module": "@jupyter-widgets/base",
            "_model_module_version": "1.2.0",
            "_model_name": "LayoutModel",
            "_view_count": null,
            "_view_module": "@jupyter-widgets/base",
            "_view_module_version": "1.2.0",
            "_view_name": "LayoutView",
            "align_content": null,
            "align_items": null,
            "align_self": null,
            "border": null,
            "bottom": null,
            "display": null,
            "flex": null,
            "flex_flow": null,
            "grid_area": null,
            "grid_auto_columns": null,
            "grid_auto_flow": null,
            "grid_auto_rows": null,
            "grid_column": null,
            "grid_gap": null,
            "grid_row": null,
            "grid_template_areas": null,
            "grid_template_columns": null,
            "grid_template_rows": null,
            "height": null,
            "justify_content": null,
            "justify_items": null,
            "left": null,
            "margin": null,
            "max_height": null,
            "max_width": null,
            "min_height": null,
            "min_width": null,
            "object_fit": null,
            "object_position": null,
            "order": null,
            "overflow": null,
            "overflow_x": null,
            "overflow_y": null,
            "padding": null,
            "right": null,
            "top": null,
            "visibility": null,
            "width": null
          }
        },
        "51bcb4363285475c8f5779fbc6c1ea78": {
          "model_module": "@jupyter-widgets/base",
          "model_name": "LayoutModel",
          "model_module_version": "1.2.0",
          "state": {
            "_model_module": "@jupyter-widgets/base",
            "_model_module_version": "1.2.0",
            "_model_name": "LayoutModel",
            "_view_count": null,
            "_view_module": "@jupyter-widgets/base",
            "_view_module_version": "1.2.0",
            "_view_name": "LayoutView",
            "align_content": null,
            "align_items": null,
            "align_self": null,
            "border": null,
            "bottom": null,
            "display": null,
            "flex": null,
            "flex_flow": null,
            "grid_area": null,
            "grid_auto_columns": null,
            "grid_auto_flow": null,
            "grid_auto_rows": null,
            "grid_column": null,
            "grid_gap": null,
            "grid_row": null,
            "grid_template_areas": null,
            "grid_template_columns": null,
            "grid_template_rows": null,
            "height": null,
            "justify_content": null,
            "justify_items": null,
            "left": null,
            "margin": null,
            "max_height": null,
            "max_width": null,
            "min_height": null,
            "min_width": null,
            "object_fit": null,
            "object_position": null,
            "order": null,
            "overflow": null,
            "overflow_x": null,
            "overflow_y": null,
            "padding": null,
            "right": null,
            "top": null,
            "visibility": null,
            "width": null
          }
        },
        "388dfef22d3442d9be81935aa21ab3e3": {
          "model_module": "@jupyter-widgets/controls",
          "model_name": "DescriptionStyleModel",
          "model_module_version": "1.5.0",
          "state": {
            "_model_module": "@jupyter-widgets/controls",
            "_model_module_version": "1.5.0",
            "_model_name": "DescriptionStyleModel",
            "_view_count": null,
            "_view_module": "@jupyter-widgets/base",
            "_view_module_version": "1.2.0",
            "_view_name": "StyleView",
            "description_width": ""
          }
        },
        "868d6f18d0774fdeb70709ad3272ca8c": {
          "model_module": "@jupyter-widgets/base",
          "model_name": "LayoutModel",
          "model_module_version": "1.2.0",
          "state": {
            "_model_module": "@jupyter-widgets/base",
            "_model_module_version": "1.2.0",
            "_model_name": "LayoutModel",
            "_view_count": null,
            "_view_module": "@jupyter-widgets/base",
            "_view_module_version": "1.2.0",
            "_view_name": "LayoutView",
            "align_content": null,
            "align_items": null,
            "align_self": null,
            "border": null,
            "bottom": null,
            "display": null,
            "flex": null,
            "flex_flow": null,
            "grid_area": null,
            "grid_auto_columns": null,
            "grid_auto_flow": null,
            "grid_auto_rows": null,
            "grid_column": null,
            "grid_gap": null,
            "grid_row": null,
            "grid_template_areas": null,
            "grid_template_columns": null,
            "grid_template_rows": null,
            "height": null,
            "justify_content": null,
            "justify_items": null,
            "left": null,
            "margin": null,
            "max_height": null,
            "max_width": null,
            "min_height": null,
            "min_width": null,
            "object_fit": null,
            "object_position": null,
            "order": null,
            "overflow": null,
            "overflow_x": null,
            "overflow_y": null,
            "padding": null,
            "right": null,
            "top": null,
            "visibility": null,
            "width": null
          }
        },
        "722668c092a747ad8226c306cdfa3d0d": {
          "model_module": "@jupyter-widgets/controls",
          "model_name": "ProgressStyleModel",
          "model_module_version": "1.5.0",
          "state": {
            "_model_module": "@jupyter-widgets/controls",
            "_model_module_version": "1.5.0",
            "_model_name": "ProgressStyleModel",
            "_view_count": null,
            "_view_module": "@jupyter-widgets/base",
            "_view_module_version": "1.2.0",
            "_view_name": "StyleView",
            "bar_color": null,
            "description_width": ""
          }
        },
        "25fe0491a92b4a0181fec0be020570ee": {
          "model_module": "@jupyter-widgets/base",
          "model_name": "LayoutModel",
          "model_module_version": "1.2.0",
          "state": {
            "_model_module": "@jupyter-widgets/base",
            "_model_module_version": "1.2.0",
            "_model_name": "LayoutModel",
            "_view_count": null,
            "_view_module": "@jupyter-widgets/base",
            "_view_module_version": "1.2.0",
            "_view_name": "LayoutView",
            "align_content": null,
            "align_items": null,
            "align_self": null,
            "border": null,
            "bottom": null,
            "display": null,
            "flex": null,
            "flex_flow": null,
            "grid_area": null,
            "grid_auto_columns": null,
            "grid_auto_flow": null,
            "grid_auto_rows": null,
            "grid_column": null,
            "grid_gap": null,
            "grid_row": null,
            "grid_template_areas": null,
            "grid_template_columns": null,
            "grid_template_rows": null,
            "height": null,
            "justify_content": null,
            "justify_items": null,
            "left": null,
            "margin": null,
            "max_height": null,
            "max_width": null,
            "min_height": null,
            "min_width": null,
            "object_fit": null,
            "object_position": null,
            "order": null,
            "overflow": null,
            "overflow_x": null,
            "overflow_y": null,
            "padding": null,
            "right": null,
            "top": null,
            "visibility": null,
            "width": null
          }
        },
        "ada852e8a4be4d778128374f9dc853aa": {
          "model_module": "@jupyter-widgets/controls",
          "model_name": "DescriptionStyleModel",
          "model_module_version": "1.5.0",
          "state": {
            "_model_module": "@jupyter-widgets/controls",
            "_model_module_version": "1.5.0",
            "_model_name": "DescriptionStyleModel",
            "_view_count": null,
            "_view_module": "@jupyter-widgets/base",
            "_view_module_version": "1.2.0",
            "_view_name": "StyleView",
            "description_width": ""
          }
        },
        "d95a43b4a1064e628f2602ea63cf08c4": {
          "model_module": "@jupyter-widgets/controls",
          "model_name": "HBoxModel",
          "model_module_version": "1.5.0",
          "state": {
            "_dom_classes": [],
            "_model_module": "@jupyter-widgets/controls",
            "_model_module_version": "1.5.0",
            "_model_name": "HBoxModel",
            "_view_count": null,
            "_view_module": "@jupyter-widgets/controls",
            "_view_module_version": "1.5.0",
            "_view_name": "HBoxView",
            "box_style": "",
            "children": [
              "IPY_MODEL_7ca08bbb87e44e54bb37b48a6fca6be4",
              "IPY_MODEL_3fbeb51533ff4a4c9e6a9d91618733e0",
              "IPY_MODEL_350c2fb6ec214e3f94fa78cccb5ae4ba"
            ],
            "layout": "IPY_MODEL_b98a99c9897f41a1870d05d69a94651e"
          }
        },
        "7ca08bbb87e44e54bb37b48a6fca6be4": {
          "model_module": "@jupyter-widgets/controls",
          "model_name": "HTMLModel",
          "model_module_version": "1.5.0",
          "state": {
            "_dom_classes": [],
            "_model_module": "@jupyter-widgets/controls",
            "_model_module_version": "1.5.0",
            "_model_name": "HTMLModel",
            "_view_count": null,
            "_view_module": "@jupyter-widgets/controls",
            "_view_module_version": "1.5.0",
            "_view_name": "HTMLView",
            "description": "",
            "description_tooltip": null,
            "layout": "IPY_MODEL_db569bbeb1b147d8953ea6e28c390e99",
            "placeholder": "​",
            "style": "IPY_MODEL_53fbcb7a51ac4351a1d80534f9370b85",
            "value": "Downloading https://huggingface.co/stanfordnlp/stanza-en/resolve/v1.5.0/models/default.zip: 100%"
          }
        },
        "3fbeb51533ff4a4c9e6a9d91618733e0": {
          "model_module": "@jupyter-widgets/controls",
          "model_name": "FloatProgressModel",
          "model_module_version": "1.5.0",
          "state": {
            "_dom_classes": [],
            "_model_module": "@jupyter-widgets/controls",
            "_model_module_version": "1.5.0",
            "_model_name": "FloatProgressModel",
            "_view_count": null,
            "_view_module": "@jupyter-widgets/controls",
            "_view_module_version": "1.5.0",
            "_view_name": "ProgressView",
            "bar_style": "success",
            "description": "",
            "description_tooltip": null,
            "layout": "IPY_MODEL_4eeaab4067564d74aa277e95d380ecbb",
            "max": 594107770,
            "min": 0,
            "orientation": "horizontal",
            "style": "IPY_MODEL_8ad0ce201319492aa7fd945304f58cf7",
            "value": 594107770
          }
        },
        "350c2fb6ec214e3f94fa78cccb5ae4ba": {
          "model_module": "@jupyter-widgets/controls",
          "model_name": "HTMLModel",
          "model_module_version": "1.5.0",
          "state": {
            "_dom_classes": [],
            "_model_module": "@jupyter-widgets/controls",
            "_model_module_version": "1.5.0",
            "_model_name": "HTMLModel",
            "_view_count": null,
            "_view_module": "@jupyter-widgets/controls",
            "_view_module_version": "1.5.0",
            "_view_name": "HTMLView",
            "description": "",
            "description_tooltip": null,
            "layout": "IPY_MODEL_12773ac96cbc4c50bcf1494d6ff1576f",
            "placeholder": "​",
            "style": "IPY_MODEL_e8543cc4cd4042ce8b0aec4dba981e05",
            "value": " 594M/594M [00:07&lt;00:00, 82.0MB/s]"
          }
        },
        "b98a99c9897f41a1870d05d69a94651e": {
          "model_module": "@jupyter-widgets/base",
          "model_name": "LayoutModel",
          "model_module_version": "1.2.0",
          "state": {
            "_model_module": "@jupyter-widgets/base",
            "_model_module_version": "1.2.0",
            "_model_name": "LayoutModel",
            "_view_count": null,
            "_view_module": "@jupyter-widgets/base",
            "_view_module_version": "1.2.0",
            "_view_name": "LayoutView",
            "align_content": null,
            "align_items": null,
            "align_self": null,
            "border": null,
            "bottom": null,
            "display": null,
            "flex": null,
            "flex_flow": null,
            "grid_area": null,
            "grid_auto_columns": null,
            "grid_auto_flow": null,
            "grid_auto_rows": null,
            "grid_column": null,
            "grid_gap": null,
            "grid_row": null,
            "grid_template_areas": null,
            "grid_template_columns": null,
            "grid_template_rows": null,
            "height": null,
            "justify_content": null,
            "justify_items": null,
            "left": null,
            "margin": null,
            "max_height": null,
            "max_width": null,
            "min_height": null,
            "min_width": null,
            "object_fit": null,
            "object_position": null,
            "order": null,
            "overflow": null,
            "overflow_x": null,
            "overflow_y": null,
            "padding": null,
            "right": null,
            "top": null,
            "visibility": null,
            "width": null
          }
        },
        "db569bbeb1b147d8953ea6e28c390e99": {
          "model_module": "@jupyter-widgets/base",
          "model_name": "LayoutModel",
          "model_module_version": "1.2.0",
          "state": {
            "_model_module": "@jupyter-widgets/base",
            "_model_module_version": "1.2.0",
            "_model_name": "LayoutModel",
            "_view_count": null,
            "_view_module": "@jupyter-widgets/base",
            "_view_module_version": "1.2.0",
            "_view_name": "LayoutView",
            "align_content": null,
            "align_items": null,
            "align_self": null,
            "border": null,
            "bottom": null,
            "display": null,
            "flex": null,
            "flex_flow": null,
            "grid_area": null,
            "grid_auto_columns": null,
            "grid_auto_flow": null,
            "grid_auto_rows": null,
            "grid_column": null,
            "grid_gap": null,
            "grid_row": null,
            "grid_template_areas": null,
            "grid_template_columns": null,
            "grid_template_rows": null,
            "height": null,
            "justify_content": null,
            "justify_items": null,
            "left": null,
            "margin": null,
            "max_height": null,
            "max_width": null,
            "min_height": null,
            "min_width": null,
            "object_fit": null,
            "object_position": null,
            "order": null,
            "overflow": null,
            "overflow_x": null,
            "overflow_y": null,
            "padding": null,
            "right": null,
            "top": null,
            "visibility": null,
            "width": null
          }
        },
        "53fbcb7a51ac4351a1d80534f9370b85": {
          "model_module": "@jupyter-widgets/controls",
          "model_name": "DescriptionStyleModel",
          "model_module_version": "1.5.0",
          "state": {
            "_model_module": "@jupyter-widgets/controls",
            "_model_module_version": "1.5.0",
            "_model_name": "DescriptionStyleModel",
            "_view_count": null,
            "_view_module": "@jupyter-widgets/base",
            "_view_module_version": "1.2.0",
            "_view_name": "StyleView",
            "description_width": ""
          }
        },
        "4eeaab4067564d74aa277e95d380ecbb": {
          "model_module": "@jupyter-widgets/base",
          "model_name": "LayoutModel",
          "model_module_version": "1.2.0",
          "state": {
            "_model_module": "@jupyter-widgets/base",
            "_model_module_version": "1.2.0",
            "_model_name": "LayoutModel",
            "_view_count": null,
            "_view_module": "@jupyter-widgets/base",
            "_view_module_version": "1.2.0",
            "_view_name": "LayoutView",
            "align_content": null,
            "align_items": null,
            "align_self": null,
            "border": null,
            "bottom": null,
            "display": null,
            "flex": null,
            "flex_flow": null,
            "grid_area": null,
            "grid_auto_columns": null,
            "grid_auto_flow": null,
            "grid_auto_rows": null,
            "grid_column": null,
            "grid_gap": null,
            "grid_row": null,
            "grid_template_areas": null,
            "grid_template_columns": null,
            "grid_template_rows": null,
            "height": null,
            "justify_content": null,
            "justify_items": null,
            "left": null,
            "margin": null,
            "max_height": null,
            "max_width": null,
            "min_height": null,
            "min_width": null,
            "object_fit": null,
            "object_position": null,
            "order": null,
            "overflow": null,
            "overflow_x": null,
            "overflow_y": null,
            "padding": null,
            "right": null,
            "top": null,
            "visibility": null,
            "width": null
          }
        },
        "8ad0ce201319492aa7fd945304f58cf7": {
          "model_module": "@jupyter-widgets/controls",
          "model_name": "ProgressStyleModel",
          "model_module_version": "1.5.0",
          "state": {
            "_model_module": "@jupyter-widgets/controls",
            "_model_module_version": "1.5.0",
            "_model_name": "ProgressStyleModel",
            "_view_count": null,
            "_view_module": "@jupyter-widgets/base",
            "_view_module_version": "1.2.0",
            "_view_name": "StyleView",
            "bar_color": null,
            "description_width": ""
          }
        },
        "12773ac96cbc4c50bcf1494d6ff1576f": {
          "model_module": "@jupyter-widgets/base",
          "model_name": "LayoutModel",
          "model_module_version": "1.2.0",
          "state": {
            "_model_module": "@jupyter-widgets/base",
            "_model_module_version": "1.2.0",
            "_model_name": "LayoutModel",
            "_view_count": null,
            "_view_module": "@jupyter-widgets/base",
            "_view_module_version": "1.2.0",
            "_view_name": "LayoutView",
            "align_content": null,
            "align_items": null,
            "align_self": null,
            "border": null,
            "bottom": null,
            "display": null,
            "flex": null,
            "flex_flow": null,
            "grid_area": null,
            "grid_auto_columns": null,
            "grid_auto_flow": null,
            "grid_auto_rows": null,
            "grid_column": null,
            "grid_gap": null,
            "grid_row": null,
            "grid_template_areas": null,
            "grid_template_columns": null,
            "grid_template_rows": null,
            "height": null,
            "justify_content": null,
            "justify_items": null,
            "left": null,
            "margin": null,
            "max_height": null,
            "max_width": null,
            "min_height": null,
            "min_width": null,
            "object_fit": null,
            "object_position": null,
            "order": null,
            "overflow": null,
            "overflow_x": null,
            "overflow_y": null,
            "padding": null,
            "right": null,
            "top": null,
            "visibility": null,
            "width": null
          }
        },
        "e8543cc4cd4042ce8b0aec4dba981e05": {
          "model_module": "@jupyter-widgets/controls",
          "model_name": "DescriptionStyleModel",
          "model_module_version": "1.5.0",
          "state": {
            "_model_module": "@jupyter-widgets/controls",
            "_model_module_version": "1.5.0",
            "_model_name": "DescriptionStyleModel",
            "_view_count": null,
            "_view_module": "@jupyter-widgets/base",
            "_view_module_version": "1.2.0",
            "_view_name": "StyleView",
            "description_width": ""
          }
        },
        "3b65e76245ef470998f5906e882f67b6": {
          "model_module": "@jupyter-widgets/controls",
          "model_name": "HBoxModel",
          "model_module_version": "1.5.0",
          "state": {
            "_dom_classes": [],
            "_model_module": "@jupyter-widgets/controls",
            "_model_module_version": "1.5.0",
            "_model_name": "HBoxModel",
            "_view_count": null,
            "_view_module": "@jupyter-widgets/controls",
            "_view_module_version": "1.5.0",
            "_view_name": "HBoxView",
            "box_style": "",
            "children": [
              "IPY_MODEL_f1ccb321537f49bfb5daaa6e935e4f78",
              "IPY_MODEL_4d895148ab2c49b785928ba0175abcb6",
              "IPY_MODEL_baa9d68f98d04bb59d27a50c93102e99"
            ],
            "layout": "IPY_MODEL_da1e7b5bdacf49e18a8384628f1b539e"
          }
        },
        "f1ccb321537f49bfb5daaa6e935e4f78": {
          "model_module": "@jupyter-widgets/controls",
          "model_name": "HTMLModel",
          "model_module_version": "1.5.0",
          "state": {
            "_dom_classes": [],
            "_model_module": "@jupyter-widgets/controls",
            "_model_module_version": "1.5.0",
            "_model_name": "HTMLModel",
            "_view_count": null,
            "_view_module": "@jupyter-widgets/controls",
            "_view_module_version": "1.5.0",
            "_view_name": "HTMLView",
            "description": "",
            "description_tooltip": null,
            "layout": "IPY_MODEL_5fcdd266d62e46a2b1663470f77c09f5",
            "placeholder": "​",
            "style": "IPY_MODEL_1995f0207a714549a1ac3b45fdfd0e2a",
            "value": "Downloading https://raw.githubusercontent.com/stanfordnlp/stanza-resources/main/resources_1.5.0.json: "
          }
        },
        "4d895148ab2c49b785928ba0175abcb6": {
          "model_module": "@jupyter-widgets/controls",
          "model_name": "FloatProgressModel",
          "model_module_version": "1.5.0",
          "state": {
            "_dom_classes": [],
            "_model_module": "@jupyter-widgets/controls",
            "_model_module_version": "1.5.0",
            "_model_name": "FloatProgressModel",
            "_view_count": null,
            "_view_module": "@jupyter-widgets/controls",
            "_view_module_version": "1.5.0",
            "_view_name": "ProgressView",
            "bar_style": "success",
            "description": "",
            "description_tooltip": null,
            "layout": "IPY_MODEL_b6396dcc70cf416d822f85567259e95a",
            "max": 30101,
            "min": 0,
            "orientation": "horizontal",
            "style": "IPY_MODEL_75fb36cb8f4a49ab80d2d3ee9c10bc3e",
            "value": 30101
          }
        },
        "baa9d68f98d04bb59d27a50c93102e99": {
          "model_module": "@jupyter-widgets/controls",
          "model_name": "HTMLModel",
          "model_module_version": "1.5.0",
          "state": {
            "_dom_classes": [],
            "_model_module": "@jupyter-widgets/controls",
            "_model_module_version": "1.5.0",
            "_model_name": "HTMLModel",
            "_view_count": null,
            "_view_module": "@jupyter-widgets/controls",
            "_view_module_version": "1.5.0",
            "_view_name": "HTMLView",
            "description": "",
            "description_tooltip": null,
            "layout": "IPY_MODEL_aa01581c2adf496a8e40f562b448f141",
            "placeholder": "​",
            "style": "IPY_MODEL_e783434780dd4a1588f2e181b418e560",
            "value": " 216k/? [00:00&lt;00:00, 5.90MB/s]"
          }
        },
        "da1e7b5bdacf49e18a8384628f1b539e": {
          "model_module": "@jupyter-widgets/base",
          "model_name": "LayoutModel",
          "model_module_version": "1.2.0",
          "state": {
            "_model_module": "@jupyter-widgets/base",
            "_model_module_version": "1.2.0",
            "_model_name": "LayoutModel",
            "_view_count": null,
            "_view_module": "@jupyter-widgets/base",
            "_view_module_version": "1.2.0",
            "_view_name": "LayoutView",
            "align_content": null,
            "align_items": null,
            "align_self": null,
            "border": null,
            "bottom": null,
            "display": null,
            "flex": null,
            "flex_flow": null,
            "grid_area": null,
            "grid_auto_columns": null,
            "grid_auto_flow": null,
            "grid_auto_rows": null,
            "grid_column": null,
            "grid_gap": null,
            "grid_row": null,
            "grid_template_areas": null,
            "grid_template_columns": null,
            "grid_template_rows": null,
            "height": null,
            "justify_content": null,
            "justify_items": null,
            "left": null,
            "margin": null,
            "max_height": null,
            "max_width": null,
            "min_height": null,
            "min_width": null,
            "object_fit": null,
            "object_position": null,
            "order": null,
            "overflow": null,
            "overflow_x": null,
            "overflow_y": null,
            "padding": null,
            "right": null,
            "top": null,
            "visibility": null,
            "width": null
          }
        },
        "5fcdd266d62e46a2b1663470f77c09f5": {
          "model_module": "@jupyter-widgets/base",
          "model_name": "LayoutModel",
          "model_module_version": "1.2.0",
          "state": {
            "_model_module": "@jupyter-widgets/base",
            "_model_module_version": "1.2.0",
            "_model_name": "LayoutModel",
            "_view_count": null,
            "_view_module": "@jupyter-widgets/base",
            "_view_module_version": "1.2.0",
            "_view_name": "LayoutView",
            "align_content": null,
            "align_items": null,
            "align_self": null,
            "border": null,
            "bottom": null,
            "display": null,
            "flex": null,
            "flex_flow": null,
            "grid_area": null,
            "grid_auto_columns": null,
            "grid_auto_flow": null,
            "grid_auto_rows": null,
            "grid_column": null,
            "grid_gap": null,
            "grid_row": null,
            "grid_template_areas": null,
            "grid_template_columns": null,
            "grid_template_rows": null,
            "height": null,
            "justify_content": null,
            "justify_items": null,
            "left": null,
            "margin": null,
            "max_height": null,
            "max_width": null,
            "min_height": null,
            "min_width": null,
            "object_fit": null,
            "object_position": null,
            "order": null,
            "overflow": null,
            "overflow_x": null,
            "overflow_y": null,
            "padding": null,
            "right": null,
            "top": null,
            "visibility": null,
            "width": null
          }
        },
        "1995f0207a714549a1ac3b45fdfd0e2a": {
          "model_module": "@jupyter-widgets/controls",
          "model_name": "DescriptionStyleModel",
          "model_module_version": "1.5.0",
          "state": {
            "_model_module": "@jupyter-widgets/controls",
            "_model_module_version": "1.5.0",
            "_model_name": "DescriptionStyleModel",
            "_view_count": null,
            "_view_module": "@jupyter-widgets/base",
            "_view_module_version": "1.2.0",
            "_view_name": "StyleView",
            "description_width": ""
          }
        },
        "b6396dcc70cf416d822f85567259e95a": {
          "model_module": "@jupyter-widgets/base",
          "model_name": "LayoutModel",
          "model_module_version": "1.2.0",
          "state": {
            "_model_module": "@jupyter-widgets/base",
            "_model_module_version": "1.2.0",
            "_model_name": "LayoutModel",
            "_view_count": null,
            "_view_module": "@jupyter-widgets/base",
            "_view_module_version": "1.2.0",
            "_view_name": "LayoutView",
            "align_content": null,
            "align_items": null,
            "align_self": null,
            "border": null,
            "bottom": null,
            "display": null,
            "flex": null,
            "flex_flow": null,
            "grid_area": null,
            "grid_auto_columns": null,
            "grid_auto_flow": null,
            "grid_auto_rows": null,
            "grid_column": null,
            "grid_gap": null,
            "grid_row": null,
            "grid_template_areas": null,
            "grid_template_columns": null,
            "grid_template_rows": null,
            "height": null,
            "justify_content": null,
            "justify_items": null,
            "left": null,
            "margin": null,
            "max_height": null,
            "max_width": null,
            "min_height": null,
            "min_width": null,
            "object_fit": null,
            "object_position": null,
            "order": null,
            "overflow": null,
            "overflow_x": null,
            "overflow_y": null,
            "padding": null,
            "right": null,
            "top": null,
            "visibility": null,
            "width": null
          }
        },
        "75fb36cb8f4a49ab80d2d3ee9c10bc3e": {
          "model_module": "@jupyter-widgets/controls",
          "model_name": "ProgressStyleModel",
          "model_module_version": "1.5.0",
          "state": {
            "_model_module": "@jupyter-widgets/controls",
            "_model_module_version": "1.5.0",
            "_model_name": "ProgressStyleModel",
            "_view_count": null,
            "_view_module": "@jupyter-widgets/base",
            "_view_module_version": "1.2.0",
            "_view_name": "StyleView",
            "bar_color": null,
            "description_width": ""
          }
        },
        "aa01581c2adf496a8e40f562b448f141": {
          "model_module": "@jupyter-widgets/base",
          "model_name": "LayoutModel",
          "model_module_version": "1.2.0",
          "state": {
            "_model_module": "@jupyter-widgets/base",
            "_model_module_version": "1.2.0",
            "_model_name": "LayoutModel",
            "_view_count": null,
            "_view_module": "@jupyter-widgets/base",
            "_view_module_version": "1.2.0",
            "_view_name": "LayoutView",
            "align_content": null,
            "align_items": null,
            "align_self": null,
            "border": null,
            "bottom": null,
            "display": null,
            "flex": null,
            "flex_flow": null,
            "grid_area": null,
            "grid_auto_columns": null,
            "grid_auto_flow": null,
            "grid_auto_rows": null,
            "grid_column": null,
            "grid_gap": null,
            "grid_row": null,
            "grid_template_areas": null,
            "grid_template_columns": null,
            "grid_template_rows": null,
            "height": null,
            "justify_content": null,
            "justify_items": null,
            "left": null,
            "margin": null,
            "max_height": null,
            "max_width": null,
            "min_height": null,
            "min_width": null,
            "object_fit": null,
            "object_position": null,
            "order": null,
            "overflow": null,
            "overflow_x": null,
            "overflow_y": null,
            "padding": null,
            "right": null,
            "top": null,
            "visibility": null,
            "width": null
          }
        },
        "e783434780dd4a1588f2e181b418e560": {
          "model_module": "@jupyter-widgets/controls",
          "model_name": "DescriptionStyleModel",
          "model_module_version": "1.5.0",
          "state": {
            "_model_module": "@jupyter-widgets/controls",
            "_model_module_version": "1.5.0",
            "_model_name": "DescriptionStyleModel",
            "_view_count": null,
            "_view_module": "@jupyter-widgets/base",
            "_view_module_version": "1.2.0",
            "_view_name": "StyleView",
            "description_width": ""
          }
        }
      }
    }
  },
  "cells": [
    {
      "cell_type": "markdown",
      "source": [
        "###Spacy, nltk, stanza\n",
        "\n",
        "###Stemming, chunking, lemmatization, position tagging"
      ],
      "metadata": {
        "id": "ncmJ1ZlHb1cY"
      }
    },
    {
      "cell_type": "code",
      "source": [
        "import spacy"
      ],
      "metadata": {
        "id": "pcNLeD2Ffdho"
      },
      "execution_count": null,
      "outputs": []
    },
    {
      "cell_type": "code",
      "source": [
        "import nltk\n",
        "from nltk import pos_tag\n",
        "from nltk.corpus import stopwords\n",
        "from nltk.stem import PorterStemmer, WordNetLemmatizer\n",
        "from nltk.tokenize import word_tokenize\n",
        "from nltk.chunk import RegexpParser"
      ],
      "metadata": {
        "id": "4gx1GdzsiZNZ"
      },
      "execution_count": null,
      "outputs": []
    },
    {
      "cell_type": "code",
      "source": [
        "!pip install git+https://github.com/stanfordnlp/stanza.git"
      ],
      "metadata": {
        "colab": {
          "base_uri": "https://localhost:8080/"
        },
        "id": "ssECjs1ukDf1",
        "outputId": "23362a54-1f5c-4f05-e855-f99115893868"
      },
      "execution_count": null,
      "outputs": [
        {
          "output_type": "stream",
          "name": "stdout",
          "text": [
            "Collecting git+https://github.com/stanfordnlp/stanza.git\n",
            "  Cloning https://github.com/stanfordnlp/stanza.git to /tmp/pip-req-build-rea67kdr\n",
            "  Running command git clone --filter=blob:none --quiet https://github.com/stanfordnlp/stanza.git /tmp/pip-req-build-rea67kdr\n",
            "  Resolved https://github.com/stanfordnlp/stanza.git to commit c530c9af647d521262b56b717bcc38b0cfc5f1b8\n",
            "  Preparing metadata (setup.py) ... \u001b[?25l\u001b[?25hdone\n",
            "Collecting emoji (from stanza==1.5.0)\n",
            "  Downloading emoji-2.8.0-py2.py3-none-any.whl (358 kB)\n",
            "\u001b[2K     \u001b[90m━━━━━━━━━━━━━━━━━━━━━━━━━━━━━━━━━━━━━━━\u001b[0m \u001b[32m358.9/358.9 kB\u001b[0m \u001b[31m4.8 MB/s\u001b[0m eta \u001b[36m0:00:00\u001b[0m\n",
            "\u001b[?25hRequirement already satisfied: numpy in /usr/local/lib/python3.10/dist-packages (from stanza==1.5.0) (1.23.5)\n",
            "Requirement already satisfied: protobuf in /usr/local/lib/python3.10/dist-packages (from stanza==1.5.0) (3.20.3)\n",
            "Requirement already satisfied: requests in /usr/local/lib/python3.10/dist-packages (from stanza==1.5.0) (2.31.0)\n",
            "Requirement already satisfied: six in /usr/local/lib/python3.10/dist-packages (from stanza==1.5.0) (1.16.0)\n",
            "Requirement already satisfied: torch>=1.3.0 in /usr/local/lib/python3.10/dist-packages (from stanza==1.5.0) (2.0.1+cu118)\n",
            "Requirement already satisfied: tqdm in /usr/local/lib/python3.10/dist-packages (from stanza==1.5.0) (4.66.1)\n",
            "Requirement already satisfied: filelock in /usr/local/lib/python3.10/dist-packages (from torch>=1.3.0->stanza==1.5.0) (3.12.2)\n",
            "Requirement already satisfied: typing-extensions in /usr/local/lib/python3.10/dist-packages (from torch>=1.3.0->stanza==1.5.0) (4.7.1)\n",
            "Requirement already satisfied: sympy in /usr/local/lib/python3.10/dist-packages (from torch>=1.3.0->stanza==1.5.0) (1.12)\n",
            "Requirement already satisfied: networkx in /usr/local/lib/python3.10/dist-packages (from torch>=1.3.0->stanza==1.5.0) (3.1)\n",
            "Requirement already satisfied: jinja2 in /usr/local/lib/python3.10/dist-packages (from torch>=1.3.0->stanza==1.5.0) (3.1.2)\n",
            "Requirement already satisfied: triton==2.0.0 in /usr/local/lib/python3.10/dist-packages (from torch>=1.3.0->stanza==1.5.0) (2.0.0)\n",
            "Requirement already satisfied: cmake in /usr/local/lib/python3.10/dist-packages (from triton==2.0.0->torch>=1.3.0->stanza==1.5.0) (3.27.2)\n",
            "Requirement already satisfied: lit in /usr/local/lib/python3.10/dist-packages (from triton==2.0.0->torch>=1.3.0->stanza==1.5.0) (16.0.6)\n",
            "Requirement already satisfied: charset-normalizer<4,>=2 in /usr/local/lib/python3.10/dist-packages (from requests->stanza==1.5.0) (3.2.0)\n",
            "Requirement already satisfied: idna<4,>=2.5 in /usr/local/lib/python3.10/dist-packages (from requests->stanza==1.5.0) (3.4)\n",
            "Requirement already satisfied: urllib3<3,>=1.21.1 in /usr/local/lib/python3.10/dist-packages (from requests->stanza==1.5.0) (2.0.4)\n",
            "Requirement already satisfied: certifi>=2017.4.17 in /usr/local/lib/python3.10/dist-packages (from requests->stanza==1.5.0) (2023.7.22)\n",
            "Requirement already satisfied: MarkupSafe>=2.0 in /usr/local/lib/python3.10/dist-packages (from jinja2->torch>=1.3.0->stanza==1.5.0) (2.1.3)\n",
            "Requirement already satisfied: mpmath>=0.19 in /usr/local/lib/python3.10/dist-packages (from sympy->torch>=1.3.0->stanza==1.5.0) (1.3.0)\n",
            "Building wheels for collected packages: stanza\n",
            "  Building wheel for stanza (setup.py) ... \u001b[?25l\u001b[?25hdone\n",
            "  Created wheel for stanza: filename=stanza-1.5.0-py3-none-any.whl size=801154 sha256=97bcaac0e89ee9709852fe076300ad1e1171d6c2573d8a03200bbfce879409ba\n",
            "  Stored in directory: /tmp/pip-ephem-wheel-cache-wnwfz0qj/wheels/de/ef/00/57f99c0d83685d3e4565844fda1faa05378ff6e1ca998cd10a\n",
            "Successfully built stanza\n",
            "Installing collected packages: emoji, stanza\n",
            "Successfully installed emoji-2.8.0 stanza-1.5.0\n"
          ]
        }
      ]
    },
    {
      "cell_type": "code",
      "source": [
        "import stanza"
      ],
      "metadata": {
        "id": "7WBzsii4jy5K"
      },
      "execution_count": null,
      "outputs": []
    },
    {
      "cell_type": "code",
      "source": [
        "sentence = \"From a little after two o’clock until almost sundown of the long still hot weary dead September afternoon they sat in what Miss Coldfield still called the office because her father had called it that–a dim hot airless room with the blinds all closed and fastened for forty-three summers because when she was a girl someone had believed that light and moving air carried heat and that dark was always cooler, and which (as the sun shone fuller and fuller on that side of the house) became latticed with yellow slashes full of dust motes which Qunetin thought of as being flecks of the dead old dried paint itself blown inward from the scaling blinds as wind might have blown them.\""
      ],
      "metadata": {
        "id": "EMdLo4b9gDk_"
      },
      "execution_count": null,
      "outputs": []
    },
    {
      "cell_type": "markdown",
      "source": [
        "# Spacy"
      ],
      "metadata": {
        "id": "uSenmGWIgWfw"
      }
    },
    {
      "cell_type": "code",
      "source": [
        "nlp1 = spacy.load(\"en_core_web_sm\")\n",
        "doc = nlp1(sentence)"
      ],
      "metadata": {
        "id": "SEuv9WMVb0JX"
      },
      "execution_count": null,
      "outputs": []
    },
    {
      "cell_type": "code",
      "execution_count": null,
      "metadata": {
        "colab": {
          "base_uri": "https://localhost:8080/"
        },
        "id": "npu4EPMVHqqX",
        "outputId": "6fafcb7e-5ab6-45ef-e719-347a10f24d22"
      },
      "outputs": [
        {
          "output_type": "stream",
          "name": "stdout",
          "text": [
            "Chunks: ['two o’clock', 'they', 'what', 'Miss Coldfield', 'the office', 'her father', 'it', 'that–a dim hot airless room', 'the blinds', 'all', 'forty-three summers', 'she', 'a girl', 'someone', 'light and moving air', 'heat', 'that dark', 'which', 'the sun', 'that side', 'the house', 'yellow slashes', 'dust motes', 'which', 'Qunetin', 'flecks', 'the dead old dried paint', 'itself', 'the scaling blinds', 'wind', 'them', 'sundown', 'sat', 'called', 'called', 'closed', 'fastened', 'believed', 'moving', 'carried', 'shone', 'latticed', 'thought', 'dried', 'blown', 'blown']\n"
          ]
        }
      ],
      "source": [
        "chunks = []\n",
        "for chunk in doc.noun_chunks:\n",
        "    chunks.append(chunk.text)\n",
        "for chunk in doc:\n",
        "    if \"VERB\" in chunk.pos_:\n",
        "        chunks.append(chunk.text)\n",
        "print(\"Chunks:\", chunks)"
      ]
    },
    {
      "cell_type": "code",
      "source": [
        "lemmatized_tokens = [token.lemma_ for token in doc]\n",
        "print(\"Lemmatized tokens:\", lemmatized_tokens)"
      ],
      "metadata": {
        "colab": {
          "base_uri": "https://localhost:8080/"
        },
        "id": "EeOJLSOfbxK1",
        "outputId": "3f1f6726-8dc3-4011-a6c5-1e162eb16dc5"
      },
      "execution_count": null,
      "outputs": [
        {
          "output_type": "stream",
          "name": "stdout",
          "text": [
            "Lemmatized tokens: ['from', 'a', 'little', 'after', 'two', 'o’clock', 'until', 'almost', 'sundown', 'of', 'the', 'long', 'still', 'hot', 'weary', 'dead', 'September', 'afternoon', 'they', 'sit', 'in', 'what', 'Miss', 'Coldfield', 'still', 'call', 'the', 'office', 'because', 'her', 'father', 'have', 'call', 'it', 'that', '–', 'a', 'dim', 'hot', 'airless', 'room', 'with', 'the', 'blind', 'all', 'close', 'and', 'fasten', 'for', 'forty', '-', 'three', 'summer', 'because', 'when', 'she', 'be', 'a', 'girl', 'someone', 'have', 'believe', 'that', 'light', 'and', 'move', 'air', 'carry', 'heat', 'and', 'that', 'dark', 'be', 'always', 'cool', ',', 'and', 'which', '(', 'as', 'the', 'sun', 'shine', 'fuller', 'and', 'full', 'on', 'that', 'side', 'of', 'the', 'house', ')', 'became', 'lattice', 'with', 'yellow', 'slash', 'full', 'of', 'dust', 'mote', 'which', 'Qunetin', 'think', 'of', 'as', 'be', 'fleck', 'of', 'the', 'dead', 'old', 'dry', 'paint', 'itself', 'blow', 'inward', 'from', 'the', 'scaling', 'blind', 'as', 'wind', 'might', 'have', 'blow', 'they', '.']\n"
          ]
        }
      ]
    },
    {
      "cell_type": "code",
      "source": [
        "pos_tags = [(token.text, token.pos_) for token in doc]\n",
        "print(\"POS tags:\", pos_tags)"
      ],
      "metadata": {
        "colab": {
          "base_uri": "https://localhost:8080/"
        },
        "id": "mNM3RIj3hjAH",
        "outputId": "1188c179-d76c-4911-ceb4-86924da1b911"
      },
      "execution_count": null,
      "outputs": [
        {
          "output_type": "stream",
          "name": "stdout",
          "text": [
            "POS tags: [('From', 'ADP'), ('a', 'DET'), ('little', 'ADJ'), ('after', 'ADP'), ('two', 'NUM'), ('o’clock', 'NOUN'), ('until', 'ADP'), ('almost', 'ADV'), ('sundown', 'VERB'), ('of', 'ADP'), ('the', 'DET'), ('long', 'ADJ'), ('still', 'ADV'), ('hot', 'ADJ'), ('weary', 'ADJ'), ('dead', 'ADJ'), ('September', 'PROPN'), ('afternoon', 'NOUN'), ('they', 'PRON'), ('sat', 'VERB'), ('in', 'ADP'), ('what', 'PRON'), ('Miss', 'PROPN'), ('Coldfield', 'PROPN'), ('still', 'ADV'), ('called', 'VERB'), ('the', 'DET'), ('office', 'NOUN'), ('because', 'SCONJ'), ('her', 'PRON'), ('father', 'NOUN'), ('had', 'AUX'), ('called', 'VERB'), ('it', 'PRON'), ('that', 'DET'), ('–', 'PUNCT'), ('a', 'DET'), ('dim', 'ADJ'), ('hot', 'ADJ'), ('airless', 'NOUN'), ('room', 'NOUN'), ('with', 'ADP'), ('the', 'DET'), ('blinds', 'NOUN'), ('all', 'PRON'), ('closed', 'VERB'), ('and', 'CCONJ'), ('fastened', 'VERB'), ('for', 'ADP'), ('forty', 'NUM'), ('-', 'PUNCT'), ('three', 'NUM'), ('summers', 'NOUN'), ('because', 'SCONJ'), ('when', 'SCONJ'), ('she', 'PRON'), ('was', 'AUX'), ('a', 'DET'), ('girl', 'NOUN'), ('someone', 'PRON'), ('had', 'AUX'), ('believed', 'VERB'), ('that', 'SCONJ'), ('light', 'NOUN'), ('and', 'CCONJ'), ('moving', 'VERB'), ('air', 'NOUN'), ('carried', 'VERB'), ('heat', 'NOUN'), ('and', 'CCONJ'), ('that', 'DET'), ('dark', 'NOUN'), ('was', 'AUX'), ('always', 'ADV'), ('cooler', 'ADJ'), (',', 'PUNCT'), ('and', 'CCONJ'), ('which', 'PRON'), ('(', 'PUNCT'), ('as', 'SCONJ'), ('the', 'DET'), ('sun', 'NOUN'), ('shone', 'VERB'), ('fuller', 'ADV'), ('and', 'CCONJ'), ('fuller', 'ADJ'), ('on', 'ADP'), ('that', 'DET'), ('side', 'NOUN'), ('of', 'ADP'), ('the', 'DET'), ('house', 'NOUN'), (')', 'PUNCT'), ('became', 'AUX'), ('latticed', 'VERB'), ('with', 'ADP'), ('yellow', 'ADJ'), ('slashes', 'NOUN'), ('full', 'ADJ'), ('of', 'ADP'), ('dust', 'NOUN'), ('motes', 'NOUN'), ('which', 'PRON'), ('Qunetin', 'PROPN'), ('thought', 'VERB'), ('of', 'ADP'), ('as', 'ADP'), ('being', 'AUX'), ('flecks', 'NOUN'), ('of', 'ADP'), ('the', 'DET'), ('dead', 'ADJ'), ('old', 'ADJ'), ('dried', 'VERB'), ('paint', 'NOUN'), ('itself', 'PRON'), ('blown', 'VERB'), ('inward', 'ADV'), ('from', 'ADP'), ('the', 'DET'), ('scaling', 'NOUN'), ('blinds', 'NOUN'), ('as', 'SCONJ'), ('wind', 'NOUN'), ('might', 'AUX'), ('have', 'AUX'), ('blown', 'VERB'), ('them', 'PRON'), ('.', 'PUNCT')]\n"
          ]
        }
      ]
    },
    {
      "cell_type": "markdown",
      "source": [
        "### Stemming is not supported by spacy"
      ],
      "metadata": {
        "id": "i-lFlJnyUN4c"
      }
    },
    {
      "cell_type": "markdown",
      "source": [
        "## NLTK"
      ],
      "metadata": {
        "id": "Muk9tWM2hsy2"
      }
    },
    {
      "cell_type": "code",
      "source": [
        "nltk.download('punkt')\n",
        "nltk.download('stopwords')\n",
        "nltk.download('wordnet')\n",
        "nltk.download('averaged_perceptron_tagger')"
      ],
      "metadata": {
        "colab": {
          "base_uri": "https://localhost:8080/"
        },
        "id": "-bcr4DTIigJk",
        "outputId": "58f6948c-7aa0-43f1-ad35-794127e98010"
      },
      "execution_count": null,
      "outputs": [
        {
          "output_type": "stream",
          "name": "stderr",
          "text": [
            "[nltk_data] Downloading package punkt to /root/nltk_data...\n",
            "[nltk_data]   Unzipping tokenizers/punkt.zip.\n",
            "[nltk_data] Downloading package stopwords to /root/nltk_data...\n",
            "[nltk_data]   Unzipping corpora/stopwords.zip.\n",
            "[nltk_data] Downloading package wordnet to /root/nltk_data...\n",
            "[nltk_data] Downloading package averaged_perceptron_tagger to\n",
            "[nltk_data]     /root/nltk_data...\n",
            "[nltk_data]   Unzipping taggers/averaged_perceptron_tagger.zip.\n"
          ]
        },
        {
          "output_type": "execute_result",
          "data": {
            "text/plain": [
              "True"
            ]
          },
          "metadata": {},
          "execution_count": 10
        }
      ]
    },
    {
      "cell_type": "code",
      "source": [
        "tokens = word_tokenize(sentence)\n",
        "stemmer = PorterStemmer()\n",
        "stemmed_tokens = [stemmer.stem(token) for token in tokens]\n",
        "\n",
        "print(\"Stemmed tokens:\", stemmed_tokens)"
      ],
      "metadata": {
        "colab": {
          "base_uri": "https://localhost:8080/"
        },
        "id": "xPkUjOfcigSm",
        "outputId": "0a4c5075-7f26-45dc-a406-9c4cd3ad9fe4"
      },
      "execution_count": null,
      "outputs": [
        {
          "output_type": "stream",
          "name": "stdout",
          "text": [
            "Stemmed tokens: ['from', 'a', 'littl', 'after', 'two', 'o', '’', 'clock', 'until', 'almost', 'sundown', 'of', 'the', 'long', 'still', 'hot', 'weari', 'dead', 'septemb', 'afternoon', 'they', 'sat', 'in', 'what', 'miss', 'coldfield', 'still', 'call', 'the', 'offic', 'becaus', 'her', 'father', 'had', 'call', 'it', 'that–a', 'dim', 'hot', 'airless', 'room', 'with', 'the', 'blind', 'all', 'close', 'and', 'fasten', 'for', 'forty-thre', 'summer', 'becaus', 'when', 'she', 'wa', 'a', 'girl', 'someon', 'had', 'believ', 'that', 'light', 'and', 'move', 'air', 'carri', 'heat', 'and', 'that', 'dark', 'wa', 'alway', 'cooler', ',', 'and', 'which', '(', 'as', 'the', 'sun', 'shone', 'fuller', 'and', 'fuller', 'on', 'that', 'side', 'of', 'the', 'hous', ')', 'becam', 'lattic', 'with', 'yellow', 'slash', 'full', 'of', 'dust', 'mote', 'which', 'qunetin', 'thought', 'of', 'as', 'be', 'fleck', 'of', 'the', 'dead', 'old', 'dri', 'paint', 'itself', 'blown', 'inward', 'from', 'the', 'scale', 'blind', 'as', 'wind', 'might', 'have', 'blown', 'them', '.']\n"
          ]
        }
      ]
    },
    {
      "cell_type": "code",
      "source": [
        "chunk_grammar = r\"\"\"NP: {<DT>?<JJ>*<NN>}\"\"\"\n",
        "chunk_parser = RegexpParser(chunk_grammar)\n",
        "chunks = chunk_parser.parse(pos_tags)\n",
        "\n",
        "print(\"Chunks:\", chunks)"
      ],
      "metadata": {
        "colab": {
          "base_uri": "https://localhost:8080/"
        },
        "id": "bIXYTbmkigcC",
        "outputId": "58c55a9a-58da-466e-d306-c9875df2f6af"
      },
      "execution_count": null,
      "outputs": [
        {
          "output_type": "stream",
          "name": "stdout",
          "text": [
            "Chunks: (S\n",
            "  From/ADP\n",
            "  a/DET\n",
            "  little/ADJ\n",
            "  after/ADP\n",
            "  two/NUM\n",
            "  o’clock/NOUN\n",
            "  until/ADP\n",
            "  almost/ADV\n",
            "  sundown/VERB\n",
            "  of/ADP\n",
            "  the/DET\n",
            "  long/ADJ\n",
            "  still/ADV\n",
            "  hot/ADJ\n",
            "  weary/ADJ\n",
            "  dead/ADJ\n",
            "  September/PROPN\n",
            "  afternoon/NOUN\n",
            "  they/PRON\n",
            "  sat/VERB\n",
            "  in/ADP\n",
            "  what/PRON\n",
            "  Miss/PROPN\n",
            "  Coldfield/PROPN\n",
            "  still/ADV\n",
            "  called/VERB\n",
            "  the/DET\n",
            "  office/NOUN\n",
            "  because/SCONJ\n",
            "  her/PRON\n",
            "  father/NOUN\n",
            "  had/AUX\n",
            "  called/VERB\n",
            "  it/PRON\n",
            "  that/DET\n",
            "  –/PUNCT\n",
            "  a/DET\n",
            "  dim/ADJ\n",
            "  hot/ADJ\n",
            "  airless/NOUN\n",
            "  room/NOUN\n",
            "  with/ADP\n",
            "  the/DET\n",
            "  blinds/NOUN\n",
            "  all/PRON\n",
            "  closed/VERB\n",
            "  and/CCONJ\n",
            "  fastened/VERB\n",
            "  for/ADP\n",
            "  forty/NUM\n",
            "  -/PUNCT\n",
            "  three/NUM\n",
            "  summers/NOUN\n",
            "  because/SCONJ\n",
            "  when/SCONJ\n",
            "  she/PRON\n",
            "  was/AUX\n",
            "  a/DET\n",
            "  girl/NOUN\n",
            "  someone/PRON\n",
            "  had/AUX\n",
            "  believed/VERB\n",
            "  that/SCONJ\n",
            "  light/NOUN\n",
            "  and/CCONJ\n",
            "  moving/VERB\n",
            "  air/NOUN\n",
            "  carried/VERB\n",
            "  heat/NOUN\n",
            "  and/CCONJ\n",
            "  that/DET\n",
            "  dark/NOUN\n",
            "  was/AUX\n",
            "  always/ADV\n",
            "  cooler/ADJ\n",
            "  ,/PUNCT\n",
            "  and/CCONJ\n",
            "  which/PRON\n",
            "  (/PUNCT\n",
            "  as/SCONJ\n",
            "  the/DET\n",
            "  sun/NOUN\n",
            "  shone/VERB\n",
            "  fuller/ADV\n",
            "  and/CCONJ\n",
            "  fuller/ADJ\n",
            "  on/ADP\n",
            "  that/DET\n",
            "  side/NOUN\n",
            "  of/ADP\n",
            "  the/DET\n",
            "  house/NOUN\n",
            "  )/PUNCT\n",
            "  became/AUX\n",
            "  latticed/VERB\n",
            "  with/ADP\n",
            "  yellow/ADJ\n",
            "  slashes/NOUN\n",
            "  full/ADJ\n",
            "  of/ADP\n",
            "  dust/NOUN\n",
            "  motes/NOUN\n",
            "  which/PRON\n",
            "  Qunetin/PROPN\n",
            "  thought/VERB\n",
            "  of/ADP\n",
            "  as/ADP\n",
            "  being/AUX\n",
            "  flecks/NOUN\n",
            "  of/ADP\n",
            "  the/DET\n",
            "  dead/ADJ\n",
            "  old/ADJ\n",
            "  dried/VERB\n",
            "  paint/NOUN\n",
            "  itself/PRON\n",
            "  blown/VERB\n",
            "  inward/ADV\n",
            "  from/ADP\n",
            "  the/DET\n",
            "  scaling/NOUN\n",
            "  blinds/NOUN\n",
            "  as/SCONJ\n",
            "  wind/NOUN\n",
            "  might/AUX\n",
            "  have/AUX\n",
            "  blown/VERB\n",
            "  them/PRON\n",
            "  ./PUNCT)\n"
          ]
        }
      ]
    },
    {
      "cell_type": "code",
      "source": [
        "lemmatizer = WordNetLemmatizer()\n",
        "lemmatized_tokens = [lemmatizer.lemmatize(token) for token in tokens]\n",
        "\n",
        "print(\"Lemmatized tokens:\", lemmatized_tokens)"
      ],
      "metadata": {
        "colab": {
          "base_uri": "https://localhost:8080/"
        },
        "id": "X-6CTXXCiglx",
        "outputId": "50e0dcff-1485-4a49-c70d-6144f592fed2"
      },
      "execution_count": null,
      "outputs": [
        {
          "output_type": "stream",
          "name": "stdout",
          "text": [
            "Lemmatized tokens: ['From', 'a', 'little', 'after', 'two', 'o', '’', 'clock', 'until', 'almost', 'sundown', 'of', 'the', 'long', 'still', 'hot', 'weary', 'dead', 'September', 'afternoon', 'they', 'sat', 'in', 'what', 'Miss', 'Coldfield', 'still', 'called', 'the', 'office', 'because', 'her', 'father', 'had', 'called', 'it', 'that–a', 'dim', 'hot', 'airless', 'room', 'with', 'the', 'blind', 'all', 'closed', 'and', 'fastened', 'for', 'forty-three', 'summer', 'because', 'when', 'she', 'wa', 'a', 'girl', 'someone', 'had', 'believed', 'that', 'light', 'and', 'moving', 'air', 'carried', 'heat', 'and', 'that', 'dark', 'wa', 'always', 'cooler', ',', 'and', 'which', '(', 'a', 'the', 'sun', 'shone', 'fuller', 'and', 'fuller', 'on', 'that', 'side', 'of', 'the', 'house', ')', 'became', 'latticed', 'with', 'yellow', 'slash', 'full', 'of', 'dust', 'mote', 'which', 'Qunetin', 'thought', 'of', 'a', 'being', 'fleck', 'of', 'the', 'dead', 'old', 'dried', 'paint', 'itself', 'blown', 'inward', 'from', 'the', 'scaling', 'blind', 'a', 'wind', 'might', 'have', 'blown', 'them', '.']\n"
          ]
        }
      ]
    },
    {
      "cell_type": "code",
      "source": [
        "pos_tags = pos_tag(tokens)\n",
        "\n",
        "print(\"POS tags:\", pos_tags)"
      ],
      "metadata": {
        "colab": {
          "base_uri": "https://localhost:8080/"
        },
        "id": "n55pv_DbihM7",
        "outputId": "5ea7507b-30e0-4fab-ecbe-58f2fc16271e"
      },
      "execution_count": null,
      "outputs": [
        {
          "output_type": "stream",
          "name": "stdout",
          "text": [
            "POS tags: [('From', 'IN'), ('a', 'DT'), ('little', 'JJ'), ('after', 'IN'), ('two', 'CD'), ('o', 'JJ'), ('’', 'FW'), ('clock', 'NN'), ('until', 'IN'), ('almost', 'RB'), ('sundown', 'VBN'), ('of', 'IN'), ('the', 'DT'), ('long', 'JJ'), ('still', 'RB'), ('hot', 'JJ'), ('weary', 'JJ'), ('dead', 'JJ'), ('September', 'NNP'), ('afternoon', 'NN'), ('they', 'PRP'), ('sat', 'VBD'), ('in', 'IN'), ('what', 'WP'), ('Miss', 'NNP'), ('Coldfield', 'NNP'), ('still', 'RB'), ('called', 'VBD'), ('the', 'DT'), ('office', 'NN'), ('because', 'IN'), ('her', 'PRP$'), ('father', 'NN'), ('had', 'VBD'), ('called', 'VBN'), ('it', 'PRP'), ('that–a', 'JJ'), ('dim', 'JJ'), ('hot', 'JJ'), ('airless', 'NN'), ('room', 'NN'), ('with', 'IN'), ('the', 'DT'), ('blinds', 'NNS'), ('all', 'DT'), ('closed', 'VBD'), ('and', 'CC'), ('fastened', 'VBD'), ('for', 'IN'), ('forty-three', 'JJ'), ('summers', 'NNS'), ('because', 'IN'), ('when', 'WRB'), ('she', 'PRP'), ('was', 'VBD'), ('a', 'DT'), ('girl', 'NN'), ('someone', 'NN'), ('had', 'VBD'), ('believed', 'VBN'), ('that', 'IN'), ('light', 'NN'), ('and', 'CC'), ('moving', 'VBG'), ('air', 'NN'), ('carried', 'VBD'), ('heat', 'NN'), ('and', 'CC'), ('that', 'IN'), ('dark', 'NN'), ('was', 'VBD'), ('always', 'RB'), ('cooler', 'NN'), (',', ','), ('and', 'CC'), ('which', 'WDT'), ('(', '('), ('as', 'IN'), ('the', 'DT'), ('sun', 'NN'), ('shone', 'NN'), ('fuller', 'NN'), ('and', 'CC'), ('fuller', 'NN'), ('on', 'IN'), ('that', 'DT'), ('side', 'NN'), ('of', 'IN'), ('the', 'DT'), ('house', 'NN'), (')', ')'), ('became', 'VBD'), ('latticed', 'JJ'), ('with', 'IN'), ('yellow', 'JJ'), ('slashes', 'NNS'), ('full', 'JJ'), ('of', 'IN'), ('dust', 'NN'), ('motes', 'NNS'), ('which', 'WDT'), ('Qunetin', 'NNP'), ('thought', 'NN'), ('of', 'IN'), ('as', 'IN'), ('being', 'VBG'), ('flecks', 'NNS'), ('of', 'IN'), ('the', 'DT'), ('dead', 'JJ'), ('old', 'JJ'), ('dried', 'VBN'), ('paint', 'NN'), ('itself', 'PRP'), ('blown', 'JJ'), ('inward', 'RB'), ('from', 'IN'), ('the', 'DT'), ('scaling', 'VBG'), ('blinds', 'NNS'), ('as', 'IN'), ('wind', 'NN'), ('might', 'MD'), ('have', 'VB'), ('blown', 'VBN'), ('them', 'PRP'), ('.', '.')]\n"
          ]
        }
      ]
    },
    {
      "cell_type": "markdown",
      "source": [
        "Stanza"
      ],
      "metadata": {
        "id": "Cahh1zsjjlBn"
      }
    },
    {
      "cell_type": "code",
      "source": [
        "stanza.download('en')\n",
        "\n",
        "nlp3 = stanza.Pipeline('en')\n",
        "\n",
        "doc = nlp3(sentence)"
      ],
      "metadata": {
        "colab": {
          "base_uri": "https://localhost:8080/",
          "height": 567,
          "referenced_widgets": [
            "64fbee75bc97488d880e395e00bde8e6",
            "3b9e779e814e47ecb1eb542b6e4629b6",
            "7328e010ee8e49bf84121ae2f790d590",
            "cba755a33a0340fa9aedbcc4bd9d529b",
            "d70ae2a1dd604064ba02744441d04f9c",
            "51bcb4363285475c8f5779fbc6c1ea78",
            "388dfef22d3442d9be81935aa21ab3e3",
            "868d6f18d0774fdeb70709ad3272ca8c",
            "722668c092a747ad8226c306cdfa3d0d",
            "25fe0491a92b4a0181fec0be020570ee",
            "ada852e8a4be4d778128374f9dc853aa",
            "d95a43b4a1064e628f2602ea63cf08c4",
            "7ca08bbb87e44e54bb37b48a6fca6be4",
            "3fbeb51533ff4a4c9e6a9d91618733e0",
            "350c2fb6ec214e3f94fa78cccb5ae4ba",
            "b98a99c9897f41a1870d05d69a94651e",
            "db569bbeb1b147d8953ea6e28c390e99",
            "53fbcb7a51ac4351a1d80534f9370b85",
            "4eeaab4067564d74aa277e95d380ecbb",
            "8ad0ce201319492aa7fd945304f58cf7",
            "12773ac96cbc4c50bcf1494d6ff1576f",
            "e8543cc4cd4042ce8b0aec4dba981e05",
            "3b65e76245ef470998f5906e882f67b6",
            "f1ccb321537f49bfb5daaa6e935e4f78",
            "4d895148ab2c49b785928ba0175abcb6",
            "baa9d68f98d04bb59d27a50c93102e99",
            "da1e7b5bdacf49e18a8384628f1b539e",
            "5fcdd266d62e46a2b1663470f77c09f5",
            "1995f0207a714549a1ac3b45fdfd0e2a",
            "b6396dcc70cf416d822f85567259e95a",
            "75fb36cb8f4a49ab80d2d3ee9c10bc3e",
            "aa01581c2adf496a8e40f562b448f141",
            "e783434780dd4a1588f2e181b418e560"
          ]
        },
        "id": "iIDgbFfekgCx",
        "outputId": "2c375327-20b8-4708-8f8a-085bba654e28"
      },
      "execution_count": null,
      "outputs": [
        {
          "output_type": "display_data",
          "data": {
            "text/plain": [
              "Downloading https://raw.githubusercontent.com/stanfordnlp/stanza-resources/main/resources_1.5.0.json:   0%|   …"
            ],
            "application/vnd.jupyter.widget-view+json": {
              "version_major": 2,
              "version_minor": 0,
              "model_id": "64fbee75bc97488d880e395e00bde8e6"
            }
          },
          "metadata": {}
        },
        {
          "output_type": "stream",
          "name": "stderr",
          "text": [
            "INFO:stanza:Downloading default packages for language: en (English) ...\n"
          ]
        },
        {
          "output_type": "display_data",
          "data": {
            "text/plain": [
              "Downloading https://huggingface.co/stanfordnlp/stanza-en/resolve/v1.5.0/models/default.zip:   0%|          | 0…"
            ],
            "application/vnd.jupyter.widget-view+json": {
              "version_major": 2,
              "version_minor": 0,
              "model_id": "d95a43b4a1064e628f2602ea63cf08c4"
            }
          },
          "metadata": {}
        },
        {
          "output_type": "stream",
          "name": "stderr",
          "text": [
            "INFO:stanza:Finished downloading models and saved to /root/stanza_resources.\n",
            "INFO:stanza:Checking for updates to resources.json in case models have been updated.  Note: this behavior can be turned off with download_method=None or download_method=DownloadMethod.REUSE_RESOURCES\n"
          ]
        },
        {
          "output_type": "display_data",
          "data": {
            "text/plain": [
              "Downloading https://raw.githubusercontent.com/stanfordnlp/stanza-resources/main/resources_1.5.0.json:   0%|   …"
            ],
            "application/vnd.jupyter.widget-view+json": {
              "version_major": 2,
              "version_minor": 0,
              "model_id": "3b65e76245ef470998f5906e882f67b6"
            }
          },
          "metadata": {}
        },
        {
          "output_type": "stream",
          "name": "stderr",
          "text": [
            "INFO:stanza:Loading these models for language: en (English):\n",
            "============================\n",
            "| Processor    | Package   |\n",
            "----------------------------\n",
            "| tokenize     | combined  |\n",
            "| pos          | combined  |\n",
            "| lemma        | combined  |\n",
            "| constituency | wsj       |\n",
            "| depparse     | combined  |\n",
            "| sentiment    | sstplus   |\n",
            "| ner          | ontonotes |\n",
            "============================\n",
            "\n",
            "INFO:stanza:Using device: cpu\n",
            "INFO:stanza:Loading: tokenize\n",
            "INFO:stanza:Loading: pos\n",
            "INFO:stanza:Loading: lemma\n",
            "INFO:stanza:Loading: constituency\n",
            "INFO:stanza:Loading: depparse\n",
            "INFO:stanza:Loading: sentiment\n",
            "INFO:stanza:Loading: ner\n",
            "INFO:stanza:Done loading processors!\n"
          ]
        }
      ]
    },
    {
      "cell_type": "code",
      "source": [
        "lemmatized_tokens = [word.lemma for sent in doc.sentences for word in sent.words]\n",
        "\n",
        "print(\"Lemmatized tokens:\", lemmatized_tokens)"
      ],
      "metadata": {
        "colab": {
          "base_uri": "https://localhost:8080/"
        },
        "id": "6r9rsbBmkv_r",
        "outputId": "658c6b24-e059-4ab5-dde6-59eaf08d5abd"
      },
      "execution_count": null,
      "outputs": [
        {
          "output_type": "stream",
          "name": "stdout",
          "text": [
            "Lemmatized tokens: ['from', 'a', 'little', 'after', 'two', \"o'clock\", 'until', 'almost', 'sundown', 'of', 'the', 'long', 'still', 'hot', 'weary', 'dead', 'September', 'afternoon', 'they', 'sit', 'in', 'what', 'Miss', 'Coldfield', 'still', 'call', 'the', 'office', 'because', 'she', 'father', 'have', 'call', 'it', 'that', '–a', 'dim', 'hot', 'airless', 'room', 'with', 'the', 'blind', 'all', 'close', 'and', 'fasten', 'for', 'forty', '-', 'three', 'summer', 'because', 'when', 'she', 'be', 'a', 'girl', 'someone', 'have', 'believe', 'that', 'light', 'and', 'move', 'air', 'carry', 'heat', 'and', 'that', 'dark', 'be', 'always', 'cool', ',', 'and', 'which', '(', 'as', 'the', 'sun', 'shine', 'full', 'and', 'full', 'on', 'that', 'side', 'of', 'the', 'house', ')', 'become', 'latticed', 'with', 'yellow', 'slash', 'full', 'of', 'dust', 'mote', 'which', 'Qunetin', 'think', 'of', 'as', 'be', 'fleck', 'of', 'the', 'dead', 'old', 'dry', 'paint', 'itself', 'blow', 'inward', 'from', 'the', 'scaling', 'blind', 'as', 'wind', 'might', 'have', 'blow', 'they', '.']\n"
          ]
        }
      ]
    },
    {
      "cell_type": "code",
      "source": [
        "pos_tags = [f\"{word.text}/{word.upos}\" for sent in doc.sentences for word in sent.words]\n",
        "\n",
        "print(\"POS tags:\", pos_tags)"
      ],
      "metadata": {
        "colab": {
          "base_uri": "https://localhost:8080/"
        },
        "id": "SkmDqNyQkwNe",
        "outputId": "ef990060-fe87-4a83-e535-e444c6dad5c9"
      },
      "execution_count": null,
      "outputs": [
        {
          "output_type": "stream",
          "name": "stdout",
          "text": [
            "POS tags: ['From/ADP', 'a/DET', 'little/ADJ', 'after/ADP', 'two/NUM', 'o’clock/NOUN', 'until/ADP', 'almost/ADV', 'sundown/NOUN', 'of/ADP', 'the/DET', 'long/ADJ', 'still/ADV', 'hot/ADJ', 'weary/ADJ', 'dead/ADJ', 'September/PROPN', 'afternoon/NOUN', 'they/PRON', 'sat/VERB', 'in/ADP', 'what/PRON', 'Miss/PROPN', 'Coldfield/PROPN', 'still/ADV', 'called/VERB', 'the/DET', 'office/NOUN', 'because/SCONJ', 'her/PRON', 'father/NOUN', 'had/AUX', 'called/VERB', 'it/PRON', 'that/SCONJ', '–a/DET', 'dim/ADJ', 'hot/ADJ', 'airless/ADJ', 'room/NOUN', 'with/ADP', 'the/DET', 'blinds/NOUN', 'all/DET', 'closed/VERB', 'and/CCONJ', 'fastened/VERB', 'for/ADP', 'forty/NUM', '-/PUNCT', 'three/NUM', 'summers/NOUN', 'because/SCONJ', 'when/ADV', 'she/PRON', 'was/AUX', 'a/DET', 'girl/NOUN', 'someone/PRON', 'had/AUX', 'believed/VERB', 'that/SCONJ', 'light/NOUN', 'and/CCONJ', 'moving/VERB', 'air/NOUN', 'carried/VERB', 'heat/NOUN', 'and/CCONJ', 'that/DET', 'dark/NOUN', 'was/AUX', 'always/ADV', 'cooler/ADJ', ',/PUNCT', 'and/CCONJ', 'which/PRON', '(/PUNCT', 'as/SCONJ', 'the/DET', 'sun/NOUN', 'shone/VERB', 'fuller/ADJ', 'and/CCONJ', 'fuller/ADJ', 'on/ADP', 'that/DET', 'side/NOUN', 'of/ADP', 'the/DET', 'house/NOUN', ')/PUNCT', 'became/VERB', 'latticed/ADJ', 'with/ADP', 'yellow/ADJ', 'slashes/NOUN', 'full/ADJ', 'of/ADP', 'dust/NOUN', 'motes/NOUN', 'which/PRON', 'Qunetin/PROPN', 'thought/VERB', 'of/ADP', 'as/SCONJ', 'being/AUX', 'flecks/NOUN', 'of/ADP', 'the/DET', 'dead/ADJ', 'old/ADJ', 'dried/VERB', 'paint/NOUN', 'itself/PRON', 'blown/VERB', 'inward/ADV', 'from/ADP', 'the/DET', 'scaling/NOUN', 'blinds/NOUN', 'as/SCONJ', 'wind/NOUN', 'might/AUX', 'have/AUX', 'blown/VERB', 'them/PRON', './PUNCT']\n"
          ]
        }
      ]
    },
    {
      "cell_type": "markdown",
      "source": [
        "### stemming and chunking are not supported by stanza"
      ],
      "metadata": {
        "id": "1URBFeUNUdyJ"
      }
    },
    {
      "cell_type": "markdown",
      "source": [
        "# In conclusion, Spacy ad Stanza can process longer sentences compared to nltk"
      ],
      "metadata": {
        "id": "Q6T0ePNre4bK"
      }
    }
  ]
}