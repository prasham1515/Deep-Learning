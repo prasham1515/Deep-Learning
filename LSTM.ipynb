{
 "cells": [
  {
   "cell_type": "markdown",
   "id": "1392a77c",
   "metadata": {},
   "source": [
    "# LSTM"
   ]
  },
  {
   "cell_type": "markdown",
   "id": "5e7f8266",
   "metadata": {},
   "source": [
    "## Importing modules"
   ]
  },
  {
   "cell_type": "code",
   "execution_count": 1,
   "id": "a17adbfc",
   "metadata": {},
   "outputs": [],
   "source": [
    "import pandas as pd\n",
    "import numpy as np\n",
    "import matplotlib.pyplot as plt\n",
    "import seaborn as sns\n",
    "from sklearn.preprocessing import MinMaxScaler\n",
    "from keras.models import Sequential\n",
    "from keras.layers import Dense\n",
    "from keras.layers import LSTM\n",
    "from keras.layers import Dropout"
   ]
  },
  {
   "cell_type": "markdown",
   "id": "9be944e7",
   "metadata": {},
   "source": [
    "## Reading the datasets"
   ]
  },
  {
   "cell_type": "code",
   "execution_count": 2,
   "id": "752ed4f4",
   "metadata": {},
   "outputs": [],
   "source": [
    "train=pd.read_csv('stock train.csv')"
   ]
  },
  {
   "cell_type": "code",
   "execution_count": 3,
   "id": "f7be3ba2",
   "metadata": {},
   "outputs": [],
   "source": [
    "test=pd.read_csv('stock test.csv')"
   ]
  },
  {
   "cell_type": "code",
   "execution_count": 4,
   "id": "447738a9",
   "metadata": {},
   "outputs": [
    {
     "data": {
      "text/html": [
       "<div>\n",
       "<style scoped>\n",
       "    .dataframe tbody tr th:only-of-type {\n",
       "        vertical-align: middle;\n",
       "    }\n",
       "\n",
       "    .dataframe tbody tr th {\n",
       "        vertical-align: top;\n",
       "    }\n",
       "\n",
       "    .dataframe thead th {\n",
       "        text-align: right;\n",
       "    }\n",
       "</style>\n",
       "<table border=\"1\" class=\"dataframe\">\n",
       "  <thead>\n",
       "    <tr style=\"text-align: right;\">\n",
       "      <th></th>\n",
       "      <th>Date</th>\n",
       "      <th>Open</th>\n",
       "      <th>High</th>\n",
       "      <th>Low</th>\n",
       "      <th>Close</th>\n",
       "      <th>Volume</th>\n",
       "    </tr>\n",
       "  </thead>\n",
       "  <tbody>\n",
       "    <tr>\n",
       "      <th>0</th>\n",
       "      <td>1/3/2012</td>\n",
       "      <td>325.25</td>\n",
       "      <td>332.83</td>\n",
       "      <td>324.97</td>\n",
       "      <td>663.59</td>\n",
       "      <td>7,380,500</td>\n",
       "    </tr>\n",
       "    <tr>\n",
       "      <th>1</th>\n",
       "      <td>1/4/2012</td>\n",
       "      <td>331.27</td>\n",
       "      <td>333.87</td>\n",
       "      <td>329.08</td>\n",
       "      <td>666.45</td>\n",
       "      <td>5,749,400</td>\n",
       "    </tr>\n",
       "    <tr>\n",
       "      <th>2</th>\n",
       "      <td>1/5/2012</td>\n",
       "      <td>329.83</td>\n",
       "      <td>330.75</td>\n",
       "      <td>326.89</td>\n",
       "      <td>657.21</td>\n",
       "      <td>6,590,300</td>\n",
       "    </tr>\n",
       "    <tr>\n",
       "      <th>3</th>\n",
       "      <td>1/6/2012</td>\n",
       "      <td>328.34</td>\n",
       "      <td>328.77</td>\n",
       "      <td>323.68</td>\n",
       "      <td>648.24</td>\n",
       "      <td>5,405,900</td>\n",
       "    </tr>\n",
       "    <tr>\n",
       "      <th>4</th>\n",
       "      <td>1/9/2012</td>\n",
       "      <td>322.04</td>\n",
       "      <td>322.29</td>\n",
       "      <td>309.46</td>\n",
       "      <td>620.76</td>\n",
       "      <td>11,688,800</td>\n",
       "    </tr>\n",
       "    <tr>\n",
       "      <th>...</th>\n",
       "      <td>...</td>\n",
       "      <td>...</td>\n",
       "      <td>...</td>\n",
       "      <td>...</td>\n",
       "      <td>...</td>\n",
       "      <td>...</td>\n",
       "    </tr>\n",
       "    <tr>\n",
       "      <th>1253</th>\n",
       "      <td>12/23/2016</td>\n",
       "      <td>790.90</td>\n",
       "      <td>792.74</td>\n",
       "      <td>787.28</td>\n",
       "      <td>789.91</td>\n",
       "      <td>623,400</td>\n",
       "    </tr>\n",
       "    <tr>\n",
       "      <th>1254</th>\n",
       "      <td>12/27/2016</td>\n",
       "      <td>790.68</td>\n",
       "      <td>797.86</td>\n",
       "      <td>787.66</td>\n",
       "      <td>791.55</td>\n",
       "      <td>789,100</td>\n",
       "    </tr>\n",
       "    <tr>\n",
       "      <th>1255</th>\n",
       "      <td>12/28/2016</td>\n",
       "      <td>793.70</td>\n",
       "      <td>794.23</td>\n",
       "      <td>783.20</td>\n",
       "      <td>785.05</td>\n",
       "      <td>1,153,800</td>\n",
       "    </tr>\n",
       "    <tr>\n",
       "      <th>1256</th>\n",
       "      <td>12/29/2016</td>\n",
       "      <td>783.33</td>\n",
       "      <td>785.93</td>\n",
       "      <td>778.92</td>\n",
       "      <td>782.79</td>\n",
       "      <td>744,300</td>\n",
       "    </tr>\n",
       "    <tr>\n",
       "      <th>1257</th>\n",
       "      <td>12/30/2016</td>\n",
       "      <td>782.75</td>\n",
       "      <td>782.78</td>\n",
       "      <td>770.41</td>\n",
       "      <td>771.82</td>\n",
       "      <td>1,770,000</td>\n",
       "    </tr>\n",
       "  </tbody>\n",
       "</table>\n",
       "<p>1258 rows × 6 columns</p>\n",
       "</div>"
      ],
      "text/plain": [
       "            Date    Open    High     Low   Close      Volume\n",
       "0       1/3/2012  325.25  332.83  324.97  663.59   7,380,500\n",
       "1       1/4/2012  331.27  333.87  329.08  666.45   5,749,400\n",
       "2       1/5/2012  329.83  330.75  326.89  657.21   6,590,300\n",
       "3       1/6/2012  328.34  328.77  323.68  648.24   5,405,900\n",
       "4       1/9/2012  322.04  322.29  309.46  620.76  11,688,800\n",
       "...          ...     ...     ...     ...     ...         ...\n",
       "1253  12/23/2016  790.90  792.74  787.28  789.91     623,400\n",
       "1254  12/27/2016  790.68  797.86  787.66  791.55     789,100\n",
       "1255  12/28/2016  793.70  794.23  783.20  785.05   1,153,800\n",
       "1256  12/29/2016  783.33  785.93  778.92  782.79     744,300\n",
       "1257  12/30/2016  782.75  782.78  770.41  771.82   1,770,000\n",
       "\n",
       "[1258 rows x 6 columns]"
      ]
     },
     "execution_count": 4,
     "metadata": {},
     "output_type": "execute_result"
    }
   ],
   "source": [
    "train"
   ]
  },
  {
   "cell_type": "code",
   "execution_count": 5,
   "id": "440acb36",
   "metadata": {},
   "outputs": [
    {
     "data": {
      "text/html": [
       "<div>\n",
       "<style scoped>\n",
       "    .dataframe tbody tr th:only-of-type {\n",
       "        vertical-align: middle;\n",
       "    }\n",
       "\n",
       "    .dataframe tbody tr th {\n",
       "        vertical-align: top;\n",
       "    }\n",
       "\n",
       "    .dataframe thead th {\n",
       "        text-align: right;\n",
       "    }\n",
       "</style>\n",
       "<table border=\"1\" class=\"dataframe\">\n",
       "  <thead>\n",
       "    <tr style=\"text-align: right;\">\n",
       "      <th></th>\n",
       "      <th>Date</th>\n",
       "      <th>Open</th>\n",
       "      <th>High</th>\n",
       "      <th>Low</th>\n",
       "      <th>Close</th>\n",
       "      <th>Volume</th>\n",
       "    </tr>\n",
       "  </thead>\n",
       "  <tbody>\n",
       "    <tr>\n",
       "      <th>0</th>\n",
       "      <td>1/3/2017</td>\n",
       "      <td>778.81</td>\n",
       "      <td>789.63</td>\n",
       "      <td>775.80</td>\n",
       "      <td>786.14</td>\n",
       "      <td>1,657,300</td>\n",
       "    </tr>\n",
       "    <tr>\n",
       "      <th>1</th>\n",
       "      <td>1/4/2017</td>\n",
       "      <td>788.36</td>\n",
       "      <td>791.34</td>\n",
       "      <td>783.16</td>\n",
       "      <td>786.90</td>\n",
       "      <td>1,073,000</td>\n",
       "    </tr>\n",
       "    <tr>\n",
       "      <th>2</th>\n",
       "      <td>1/5/2017</td>\n",
       "      <td>786.08</td>\n",
       "      <td>794.48</td>\n",
       "      <td>785.02</td>\n",
       "      <td>794.02</td>\n",
       "      <td>1,335,200</td>\n",
       "    </tr>\n",
       "    <tr>\n",
       "      <th>3</th>\n",
       "      <td>1/6/2017</td>\n",
       "      <td>795.26</td>\n",
       "      <td>807.90</td>\n",
       "      <td>792.20</td>\n",
       "      <td>806.15</td>\n",
       "      <td>1,640,200</td>\n",
       "    </tr>\n",
       "    <tr>\n",
       "      <th>4</th>\n",
       "      <td>1/9/2017</td>\n",
       "      <td>806.40</td>\n",
       "      <td>809.97</td>\n",
       "      <td>802.83</td>\n",
       "      <td>806.65</td>\n",
       "      <td>1,272,400</td>\n",
       "    </tr>\n",
       "    <tr>\n",
       "      <th>5</th>\n",
       "      <td>1/10/2017</td>\n",
       "      <td>807.86</td>\n",
       "      <td>809.13</td>\n",
       "      <td>803.51</td>\n",
       "      <td>804.79</td>\n",
       "      <td>1,176,800</td>\n",
       "    </tr>\n",
       "    <tr>\n",
       "      <th>6</th>\n",
       "      <td>1/11/2017</td>\n",
       "      <td>805.00</td>\n",
       "      <td>808.15</td>\n",
       "      <td>801.37</td>\n",
       "      <td>807.91</td>\n",
       "      <td>1,065,900</td>\n",
       "    </tr>\n",
       "    <tr>\n",
       "      <th>7</th>\n",
       "      <td>1/12/2017</td>\n",
       "      <td>807.14</td>\n",
       "      <td>807.39</td>\n",
       "      <td>799.17</td>\n",
       "      <td>806.36</td>\n",
       "      <td>1,353,100</td>\n",
       "    </tr>\n",
       "    <tr>\n",
       "      <th>8</th>\n",
       "      <td>1/13/2017</td>\n",
       "      <td>807.48</td>\n",
       "      <td>811.22</td>\n",
       "      <td>806.69</td>\n",
       "      <td>807.88</td>\n",
       "      <td>1,099,200</td>\n",
       "    </tr>\n",
       "    <tr>\n",
       "      <th>9</th>\n",
       "      <td>1/17/2017</td>\n",
       "      <td>807.08</td>\n",
       "      <td>807.14</td>\n",
       "      <td>800.37</td>\n",
       "      <td>804.61</td>\n",
       "      <td>1,362,100</td>\n",
       "    </tr>\n",
       "    <tr>\n",
       "      <th>10</th>\n",
       "      <td>1/18/2017</td>\n",
       "      <td>805.81</td>\n",
       "      <td>806.21</td>\n",
       "      <td>800.99</td>\n",
       "      <td>806.07</td>\n",
       "      <td>1,294,400</td>\n",
       "    </tr>\n",
       "    <tr>\n",
       "      <th>11</th>\n",
       "      <td>1/19/2017</td>\n",
       "      <td>805.12</td>\n",
       "      <td>809.48</td>\n",
       "      <td>801.80</td>\n",
       "      <td>802.17</td>\n",
       "      <td>919,300</td>\n",
       "    </tr>\n",
       "    <tr>\n",
       "      <th>12</th>\n",
       "      <td>1/20/2017</td>\n",
       "      <td>806.91</td>\n",
       "      <td>806.91</td>\n",
       "      <td>801.69</td>\n",
       "      <td>805.02</td>\n",
       "      <td>1,670,000</td>\n",
       "    </tr>\n",
       "    <tr>\n",
       "      <th>13</th>\n",
       "      <td>1/23/2017</td>\n",
       "      <td>807.25</td>\n",
       "      <td>820.87</td>\n",
       "      <td>803.74</td>\n",
       "      <td>819.31</td>\n",
       "      <td>1,963,600</td>\n",
       "    </tr>\n",
       "    <tr>\n",
       "      <th>14</th>\n",
       "      <td>1/24/2017</td>\n",
       "      <td>822.30</td>\n",
       "      <td>825.90</td>\n",
       "      <td>817.82</td>\n",
       "      <td>823.87</td>\n",
       "      <td>1,474,000</td>\n",
       "    </tr>\n",
       "    <tr>\n",
       "      <th>15</th>\n",
       "      <td>1/25/2017</td>\n",
       "      <td>829.62</td>\n",
       "      <td>835.77</td>\n",
       "      <td>825.06</td>\n",
       "      <td>835.67</td>\n",
       "      <td>1,494,500</td>\n",
       "    </tr>\n",
       "    <tr>\n",
       "      <th>16</th>\n",
       "      <td>1/26/2017</td>\n",
       "      <td>837.81</td>\n",
       "      <td>838.00</td>\n",
       "      <td>827.01</td>\n",
       "      <td>832.15</td>\n",
       "      <td>2,973,900</td>\n",
       "    </tr>\n",
       "    <tr>\n",
       "      <th>17</th>\n",
       "      <td>1/27/2017</td>\n",
       "      <td>834.71</td>\n",
       "      <td>841.95</td>\n",
       "      <td>820.44</td>\n",
       "      <td>823.31</td>\n",
       "      <td>2,965,800</td>\n",
       "    </tr>\n",
       "    <tr>\n",
       "      <th>18</th>\n",
       "      <td>1/30/2017</td>\n",
       "      <td>814.66</td>\n",
       "      <td>815.84</td>\n",
       "      <td>799.80</td>\n",
       "      <td>802.32</td>\n",
       "      <td>3,246,600</td>\n",
       "    </tr>\n",
       "    <tr>\n",
       "      <th>19</th>\n",
       "      <td>1/31/2017</td>\n",
       "      <td>796.86</td>\n",
       "      <td>801.25</td>\n",
       "      <td>790.52</td>\n",
       "      <td>796.79</td>\n",
       "      <td>2,160,600</td>\n",
       "    </tr>\n",
       "  </tbody>\n",
       "</table>\n",
       "</div>"
      ],
      "text/plain": [
       "         Date    Open    High     Low   Close     Volume\n",
       "0    1/3/2017  778.81  789.63  775.80  786.14  1,657,300\n",
       "1    1/4/2017  788.36  791.34  783.16  786.90  1,073,000\n",
       "2    1/5/2017  786.08  794.48  785.02  794.02  1,335,200\n",
       "3    1/6/2017  795.26  807.90  792.20  806.15  1,640,200\n",
       "4    1/9/2017  806.40  809.97  802.83  806.65  1,272,400\n",
       "5   1/10/2017  807.86  809.13  803.51  804.79  1,176,800\n",
       "6   1/11/2017  805.00  808.15  801.37  807.91  1,065,900\n",
       "7   1/12/2017  807.14  807.39  799.17  806.36  1,353,100\n",
       "8   1/13/2017  807.48  811.22  806.69  807.88  1,099,200\n",
       "9   1/17/2017  807.08  807.14  800.37  804.61  1,362,100\n",
       "10  1/18/2017  805.81  806.21  800.99  806.07  1,294,400\n",
       "11  1/19/2017  805.12  809.48  801.80  802.17    919,300\n",
       "12  1/20/2017  806.91  806.91  801.69  805.02  1,670,000\n",
       "13  1/23/2017  807.25  820.87  803.74  819.31  1,963,600\n",
       "14  1/24/2017  822.30  825.90  817.82  823.87  1,474,000\n",
       "15  1/25/2017  829.62  835.77  825.06  835.67  1,494,500\n",
       "16  1/26/2017  837.81  838.00  827.01  832.15  2,973,900\n",
       "17  1/27/2017  834.71  841.95  820.44  823.31  2,965,800\n",
       "18  1/30/2017  814.66  815.84  799.80  802.32  3,246,600\n",
       "19  1/31/2017  796.86  801.25  790.52  796.79  2,160,600"
      ]
     },
     "execution_count": 5,
     "metadata": {},
     "output_type": "execute_result"
    }
   ],
   "source": [
    "test"
   ]
  },
  {
   "cell_type": "markdown",
   "id": "dd0e0d67",
   "metadata": {},
   "source": [
    "## Preprocessing the train and test set"
   ]
  },
  {
   "cell_type": "code",
   "execution_count": 6,
   "id": "26b7aa97",
   "metadata": {},
   "outputs": [],
   "source": [
    "training_set = train.iloc[:, 1:2].values"
   ]
  },
  {
   "cell_type": "code",
   "execution_count": 7,
   "id": "1c556be9",
   "metadata": {},
   "outputs": [
    {
     "data": {
      "text/plain": [
       "array([[325.25],\n",
       "       [331.27],\n",
       "       [329.83],\n",
       "       ...,\n",
       "       [793.7 ],\n",
       "       [783.33],\n",
       "       [782.75]])"
      ]
     },
     "execution_count": 7,
     "metadata": {},
     "output_type": "execute_result"
    }
   ],
   "source": [
    "training_set"
   ]
  },
  {
   "cell_type": "code",
   "execution_count": 9,
   "id": "0d28f11c",
   "metadata": {},
   "outputs": [],
   "source": [
    "sc = MinMaxScaler()\n",
    "scaled = sc.fit_transform(training_set)"
   ]
  },
  {
   "cell_type": "code",
   "execution_count": 10,
   "id": "4e5364b9",
   "metadata": {},
   "outputs": [
    {
     "data": {
      "text/plain": [
       "array([[0.08581368],\n",
       "       [0.09701243],\n",
       "       [0.09433366],\n",
       "       ...,\n",
       "       [0.95725128],\n",
       "       [0.93796041],\n",
       "       [0.93688146]])"
      ]
     },
     "execution_count": 10,
     "metadata": {},
     "output_type": "execute_result"
    }
   ],
   "source": [
    "scaled"
   ]
  },
  {
   "cell_type": "code",
   "execution_count": 11,
   "id": "7709cf90",
   "metadata": {},
   "outputs": [],
   "source": [
    "xtrain = []\n",
    "ytrain = []\n",
    "for i in range(60, len(scaled)):\n",
    "    xtrain.append(scaled[i-60: i, 0])\n",
    "    ytrain.append(scaled[i, 0])\n",
    "xtrain, ytrain = np.array(xtrain), np.array(ytrain)"
   ]
  },
  {
   "cell_type": "code",
   "execution_count": 12,
   "id": "3ec995c9",
   "metadata": {},
   "outputs": [
    {
     "data": {
      "text/plain": [
       "array([[0.08581368, 0.09701243, 0.09433366, ..., 0.07846566, 0.08034452,\n",
       "        0.08497656],\n",
       "       [0.09701243, 0.09433366, 0.09156187, ..., 0.08034452, 0.08497656,\n",
       "        0.08627874],\n",
       "       [0.09433366, 0.09156187, 0.07984225, ..., 0.08497656, 0.08627874,\n",
       "        0.08471612],\n",
       "       ...,\n",
       "       [0.92106928, 0.92438053, 0.93048218, ..., 0.95475854, 0.95204256,\n",
       "        0.95163331],\n",
       "       [0.92438053, 0.93048218, 0.9299055 , ..., 0.95204256, 0.95163331,\n",
       "        0.95725128],\n",
       "       [0.93048218, 0.9299055 , 0.93113327, ..., 0.95163331, 0.95725128,\n",
       "        0.93796041]])"
      ]
     },
     "execution_count": 12,
     "metadata": {},
     "output_type": "execute_result"
    }
   ],
   "source": [
    "xtrain"
   ]
  },
  {
   "cell_type": "code",
   "execution_count": 13,
   "id": "e5dfc6e0",
   "metadata": {},
   "outputs": [
    {
     "data": {
      "text/plain": [
       "array([0.08627874, 0.08471612, 0.07454052, ..., 0.95725128, 0.93796041,\n",
       "       0.93688146])"
      ]
     },
     "execution_count": 13,
     "metadata": {},
     "output_type": "execute_result"
    }
   ],
   "source": [
    "ytrain"
   ]
  },
  {
   "cell_type": "code",
   "execution_count": 14,
   "id": "92c9345b",
   "metadata": {},
   "outputs": [
    {
     "data": {
      "text/plain": [
       "1198"
      ]
     },
     "execution_count": 14,
     "metadata": {},
     "output_type": "execute_result"
    }
   ],
   "source": [
    "xtrain.shape[0]"
   ]
  },
  {
   "cell_type": "code",
   "execution_count": 15,
   "id": "b632e4b2",
   "metadata": {},
   "outputs": [
    {
     "data": {
      "text/plain": [
       "60"
      ]
     },
     "execution_count": 15,
     "metadata": {},
     "output_type": "execute_result"
    }
   ],
   "source": [
    "xtrain.shape[1]"
   ]
  },
  {
   "cell_type": "code",
   "execution_count": 16,
   "id": "fd3ebaa0",
   "metadata": {},
   "outputs": [],
   "source": [
    "xtrain = np.reshape(xtrain, (xtrain.shape[0], xtrain.shape[1], 1))"
   ]
  },
  {
   "cell_type": "code",
   "execution_count": 17,
   "id": "60088813",
   "metadata": {},
   "outputs": [
    {
     "data": {
      "text/plain": [
       "array([[[0.08581368],\n",
       "        [0.09701243],\n",
       "        [0.09433366],\n",
       "        ...,\n",
       "        [0.07846566],\n",
       "        [0.08034452],\n",
       "        [0.08497656]],\n",
       "\n",
       "       [[0.09701243],\n",
       "        [0.09433366],\n",
       "        [0.09156187],\n",
       "        ...,\n",
       "        [0.08034452],\n",
       "        [0.08497656],\n",
       "        [0.08627874]],\n",
       "\n",
       "       [[0.09433366],\n",
       "        [0.09156187],\n",
       "        [0.07984225],\n",
       "        ...,\n",
       "        [0.08497656],\n",
       "        [0.08627874],\n",
       "        [0.08471612]],\n",
       "\n",
       "       ...,\n",
       "\n",
       "       [[0.92106928],\n",
       "        [0.92438053],\n",
       "        [0.93048218],\n",
       "        ...,\n",
       "        [0.95475854],\n",
       "        [0.95204256],\n",
       "        [0.95163331]],\n",
       "\n",
       "       [[0.92438053],\n",
       "        [0.93048218],\n",
       "        [0.9299055 ],\n",
       "        ...,\n",
       "        [0.95204256],\n",
       "        [0.95163331],\n",
       "        [0.95725128]],\n",
       "\n",
       "       [[0.93048218],\n",
       "        [0.9299055 ],\n",
       "        [0.93113327],\n",
       "        ...,\n",
       "        [0.95163331],\n",
       "        [0.95725128],\n",
       "        [0.93796041]]])"
      ]
     },
     "execution_count": 17,
     "metadata": {},
     "output_type": "execute_result"
    }
   ],
   "source": [
    "xtrain"
   ]
  },
  {
   "cell_type": "code",
   "execution_count": 18,
   "id": "f791225c",
   "metadata": {},
   "outputs": [
    {
     "data": {
      "text/plain": [
       "(1198, 60, 1)"
      ]
     },
     "execution_count": 18,
     "metadata": {},
     "output_type": "execute_result"
    }
   ],
   "source": [
    "xtrain.shape"
   ]
  },
  {
   "cell_type": "code",
   "execution_count": 19,
   "id": "d918a05a",
   "metadata": {},
   "outputs": [],
   "source": [
    "real = test.iloc[:, 1: 2].values"
   ]
  },
  {
   "cell_type": "code",
   "execution_count": 20,
   "id": "336604a3",
   "metadata": {},
   "outputs": [],
   "source": [
    "merge = pd.concat((train['Open'],test['Open']), axis = 0)"
   ]
  },
  {
   "cell_type": "code",
   "execution_count": 21,
   "id": "80ad87ec",
   "metadata": {},
   "outputs": [
    {
     "data": {
      "text/plain": [
       "0     325.25\n",
       "1     331.27\n",
       "2     329.83\n",
       "3     328.34\n",
       "4     322.04\n",
       "       ...  \n",
       "15    829.62\n",
       "16    837.81\n",
       "17    834.71\n",
       "18    814.66\n",
       "19    796.86\n",
       "Name: Open, Length: 1278, dtype: float64"
      ]
     },
     "execution_count": 21,
     "metadata": {},
     "output_type": "execute_result"
    }
   ],
   "source": [
    "merge"
   ]
  },
  {
   "cell_type": "code",
   "execution_count": 22,
   "id": "46680d20",
   "metadata": {},
   "outputs": [
    {
     "name": "stderr",
     "output_type": "stream",
     "text": [
      "C:\\Users\\prash\\AppData\\Local\\Temp\\ipykernel_20036\\174145298.py:1: FutureWarning: The behavior of `series[i:j]` with an integer-dtype index is deprecated. In a future version, this will be treated as *label-based* indexing, consistent with e.g. `series[i]` lookups. To retain the old behavior, use `series.iloc[i:j]`. To get the future behavior, use `series.loc[i:j]`.\n",
      "  inputs =  merge[len(merge)-len(test)- 60: ].values\n"
     ]
    }
   ],
   "source": [
    "inputs =  merge[len(merge)-len(test)- 60: ].values"
   ]
  },
  {
   "cell_type": "code",
   "execution_count": 23,
   "id": "d86529d2",
   "metadata": {},
   "outputs": [
    {
     "data": {
      "text/plain": [
       "array([779.  , 779.66, 777.71, 786.66, 783.76, 781.22, 781.65, 779.8 ,\n",
       "       787.85, 798.24, 803.3 , 795.  , 804.9 , 816.68, 806.34, 801.  ,\n",
       "       808.35, 795.47, 782.89, 778.2 , 767.25, 750.66, 774.5 , 783.4 ,\n",
       "       779.94, 791.17, 756.54, 755.6 , 746.97, 755.2 , 766.92, 771.37,\n",
       "       762.61, 772.63, 767.73, 764.26, 760.  , 771.53, 770.07, 757.44,\n",
       "       744.59, 757.71, 764.73, 761.  , 772.48, 780.  , 785.04, 793.9 ,\n",
       "       797.4 , 797.34, 800.4 , 790.22, 796.76, 795.84, 792.36, 790.9 ,\n",
       "       790.68, 793.7 , 783.33, 782.75, 778.81, 788.36, 786.08, 795.26,\n",
       "       806.4 , 807.86, 805.  , 807.14, 807.48, 807.08, 805.81, 805.12,\n",
       "       806.91, 807.25, 822.3 , 829.62, 837.81, 834.71, 814.66, 796.86])"
      ]
     },
     "execution_count": 23,
     "metadata": {},
     "output_type": "execute_result"
    }
   ],
   "source": [
    "inputs"
   ]
  },
  {
   "cell_type": "code",
   "execution_count": 24,
   "id": "b0e47f9e",
   "metadata": {},
   "outputs": [],
   "source": [
    "inputs = inputs.reshape(-1, 1)\n",
    "inputs = sc.transform(inputs)"
   ]
  },
  {
   "cell_type": "code",
   "execution_count": 25,
   "id": "9582b384",
   "metadata": {},
   "outputs": [
    {
     "data": {
      "text/plain": [
       "array([[0.9299055 ],\n",
       "       [0.93113327],\n",
       "       [0.92750577],\n",
       "       [0.94415507],\n",
       "       [0.93876032],\n",
       "       [0.93403527],\n",
       "       [0.93483518],\n",
       "       [0.9313937 ],\n",
       "       [0.94636878],\n",
       "       [0.96569685],\n",
       "       [0.97510976],\n",
       "       [0.95966962],\n",
       "       [0.97808617],\n",
       "       [1.        ],\n",
       "       [0.98076494],\n",
       "       [0.97083116],\n",
       "       [0.98450406],\n",
       "       [0.96054394],\n",
       "       [0.9371419 ],\n",
       "       [0.92841729],\n",
       "       [0.90804747],\n",
       "       [0.8771858 ],\n",
       "       [0.92153434],\n",
       "       [0.93809063],\n",
       "       [0.93165414],\n",
       "       [0.95254483],\n",
       "       [0.88812412],\n",
       "       [0.88637547],\n",
       "       [0.87032145],\n",
       "       [0.88563137],\n",
       "       [0.90743359],\n",
       "       [0.91571173],\n",
       "       [0.89941588],\n",
       "       [0.91805566],\n",
       "       [0.9089404 ],\n",
       "       [0.9024853 ],\n",
       "       [0.89456061],\n",
       "       [0.91600938],\n",
       "       [0.9132934 ],\n",
       "       [0.88979835],\n",
       "       [0.86589404],\n",
       "       [0.89030062],\n",
       "       [0.90335962],\n",
       "       [0.89642086],\n",
       "       [0.91777662],\n",
       "       [0.93176576],\n",
       "       [0.94114145],\n",
       "       [0.95762334],\n",
       "       [0.96413424],\n",
       "       [0.96402262],\n",
       "       [0.96971501],\n",
       "       [0.95077759],\n",
       "       [0.96294367],\n",
       "       [0.96123223],\n",
       "       [0.95475854],\n",
       "       [0.95204256],\n",
       "       [0.95163331],\n",
       "       [0.95725128],\n",
       "       [0.93796041],\n",
       "       [0.93688146],\n",
       "       [0.92955205],\n",
       "       [0.94731751],\n",
       "       [0.94307612],\n",
       "       [0.96015329],\n",
       "       [0.98087655],\n",
       "       [0.98359253],\n",
       "       [0.97827219],\n",
       "       [0.98225314],\n",
       "       [0.98288563],\n",
       "       [0.98214153],\n",
       "       [0.979779  ],\n",
       "       [0.97849542],\n",
       "       [0.98182528],\n",
       "       [0.98245777],\n",
       "       [1.01045465],\n",
       "       [1.02407173],\n",
       "       [1.03930724],\n",
       "       [1.03354044],\n",
       "       [0.99624228],\n",
       "       [0.9631297 ]])"
      ]
     },
     "execution_count": 25,
     "metadata": {},
     "output_type": "execute_result"
    }
   ],
   "source": [
    "inputs"
   ]
  },
  {
   "cell_type": "code",
   "execution_count": 26,
   "id": "05aa83c8",
   "metadata": {},
   "outputs": [],
   "source": [
    "xtest = []\n",
    "for i in range(60, len(inputs)): \n",
    "    xtest.append(inputs[i-60: i, 0])\n",
    "    \n",
    "xtest = np.array(xtest)\n",
    "xtest = np.reshape(xtest, newshape = (xtest.shape[0], xtest.shape[1], 1))"
   ]
  },
  {
   "cell_type": "code",
   "execution_count": 27,
   "id": "74fe9bd0",
   "metadata": {},
   "outputs": [
    {
     "data": {
      "text/plain": [
       "array([[[0.9299055 ],\n",
       "        [0.93113327],\n",
       "        [0.92750577],\n",
       "        ...,\n",
       "        [0.95725128],\n",
       "        [0.93796041],\n",
       "        [0.93688146]],\n",
       "\n",
       "       [[0.93113327],\n",
       "        [0.92750577],\n",
       "        [0.94415507],\n",
       "        ...,\n",
       "        [0.93796041],\n",
       "        [0.93688146],\n",
       "        [0.92955205]],\n",
       "\n",
       "       [[0.92750577],\n",
       "        [0.94415507],\n",
       "        [0.93876032],\n",
       "        ...,\n",
       "        [0.93688146],\n",
       "        [0.92955205],\n",
       "        [0.94731751]],\n",
       "\n",
       "       ...,\n",
       "\n",
       "       [[0.96054394],\n",
       "        [0.9371419 ],\n",
       "        [0.92841729],\n",
       "        ...,\n",
       "        [1.01045465],\n",
       "        [1.02407173],\n",
       "        [1.03930724]],\n",
       "\n",
       "       [[0.9371419 ],\n",
       "        [0.92841729],\n",
       "        [0.90804747],\n",
       "        ...,\n",
       "        [1.02407173],\n",
       "        [1.03930724],\n",
       "        [1.03354044]],\n",
       "\n",
       "       [[0.92841729],\n",
       "        [0.90804747],\n",
       "        [0.8771858 ],\n",
       "        ...,\n",
       "        [1.03930724],\n",
       "        [1.03354044],\n",
       "        [0.99624228]]])"
      ]
     },
     "execution_count": 27,
     "metadata": {},
     "output_type": "execute_result"
    }
   ],
   "source": [
    "xtest"
   ]
  },
  {
   "cell_type": "code",
   "execution_count": 28,
   "id": "ff3609d0",
   "metadata": {},
   "outputs": [
    {
     "data": {
      "text/plain": [
       "(20, 60, 1)"
      ]
     },
     "execution_count": 28,
     "metadata": {},
     "output_type": "execute_result"
    }
   ],
   "source": [
    "xtest.shape"
   ]
  },
  {
   "cell_type": "markdown",
   "id": "e2e1b3ba",
   "metadata": {},
   "source": [
    "## Making a triangle based model"
   ]
  },
  {
   "cell_type": "code",
   "execution_count": 30,
   "id": "f89c05cf",
   "metadata": {},
   "outputs": [],
   "source": [
    "regressor = Sequential()\n",
    "\n",
    "regressor.add(LSTM(units = 45, return_sequences = True, input_shape = (xtrain.shape[1], 1)))\n",
    "regressor.add(Dropout(rate = 0.2))\n",
    "\n",
    "regressor.add(LSTM(units = 35, return_sequences = True))\n",
    "regressor.add(Dropout(rate = 0.2))\n",
    "\n",
    "regressor.add(LSTM(units = 25, return_sequences = True))\n",
    "regressor.add(Dropout(rate = 0.2))\n",
    "\n",
    "regressor.add(LSTM(units = 15, return_sequences = True))\n",
    "regressor.add(Dropout(rate = 0.2))\n",
    "\n",
    "regressor.add(LSTM(units = 5, return_sequences = False))\n",
    "regressor.add(Dropout(rate = 0.2))\n",
    "\n",
    "regressor.add(Dense(units = 1))"
   ]
  },
  {
   "cell_type": "code",
   "execution_count": 31,
   "id": "84335cb1",
   "metadata": {},
   "outputs": [],
   "source": [
    "regressor.compile(optimizer = 'adam', loss = 'mean_squared_error')"
   ]
  },
  {
   "cell_type": "code",
   "execution_count": 32,
   "id": "90476eac",
   "metadata": {},
   "outputs": [
    {
     "name": "stdout",
     "output_type": "stream",
     "text": [
      "Model: \"sequential\"\n",
      "_________________________________________________________________\n",
      " Layer (type)                Output Shape              Param #   \n",
      "=================================================================\n",
      " lstm (LSTM)                 (None, 60, 45)            8460      \n",
      "                                                                 \n",
      " dropout (Dropout)           (None, 60, 45)            0         \n",
      "                                                                 \n",
      " lstm_1 (LSTM)               (None, 60, 35)            11340     \n",
      "                                                                 \n",
      " dropout_1 (Dropout)         (None, 60, 35)            0         \n",
      "                                                                 \n",
      " lstm_2 (LSTM)               (None, 60, 25)            6100      \n",
      "                                                                 \n",
      " dropout_2 (Dropout)         (None, 60, 25)            0         \n",
      "                                                                 \n",
      " lstm_3 (LSTM)               (None, 60, 15)            2460      \n",
      "                                                                 \n",
      " dropout_3 (Dropout)         (None, 60, 15)            0         \n",
      "                                                                 \n",
      " lstm_4 (LSTM)               (None, 5)                 420       \n",
      "                                                                 \n",
      " dropout_4 (Dropout)         (None, 5)                 0         \n",
      "                                                                 \n",
      " dense (Dense)               (None, 1)                 6         \n",
      "                                                                 \n",
      "=================================================================\n",
      "Total params: 28,786\n",
      "Trainable params: 28,786\n",
      "Non-trainable params: 0\n",
      "_________________________________________________________________\n"
     ]
    }
   ],
   "source": [
    "regressor.summary()"
   ]
  },
  {
   "attachments": {
    "image.png": {
     "image/png": "[encoded data removed]"
    }
   },
   "cell_type": "markdown",
   "id": "2f3ecc6e",
   "metadata": {},
   "source": [
    "![image.png](attachment:image.png)"
   ]
  },
  {
   "cell_type": "code",
   "execution_count": 33,
   "id": "9a89a1d5",
   "metadata": {
    "scrolled": false
   },
   "outputs": [
    {
     "name": "stdout",
     "output_type": "stream",
     "text": [
      "Epoch 1/100\n",
      "38/38 [==============================] - 10s 28ms/step - loss: 0.0917\n",
      "Epoch 2/100\n",
      "38/38 [==============================] - 1s 24ms/step - loss: 0.0238\n",
      "Epoch 3/100\n",
      "38/38 [==============================] - 1s 22ms/step - loss: 0.0208\n",
      "Epoch 4/100\n",
      "38/38 [==============================] - 1s 24ms/step - loss: 0.0204\n",
      "Epoch 5/100\n",
      "38/38 [==============================] - 1s 23ms/step - loss: 0.0180\n",
      "Epoch 6/100\n",
      "38/38 [==============================] - 1s 23ms/step - loss: 0.0173\n",
      "Epoch 7/100\n",
      "38/38 [==============================] - 1s 22ms/step - loss: 0.0160\n",
      "Epoch 8/100\n",
      "38/38 [==============================] - 1s 22ms/step - loss: 0.0160\n",
      "Epoch 9/100\n",
      "38/38 [==============================] - 1s 23ms/step - loss: 0.0170\n",
      "Epoch 10/100\n",
      "38/38 [==============================] - 1s 23ms/step - loss: 0.0129\n",
      "Epoch 11/100\n",
      "38/38 [==============================] - 1s 23ms/step - loss: 0.0143\n",
      "Epoch 12/100\n",
      "38/38 [==============================] - 1s 23ms/step - loss: 0.0123\n",
      "Epoch 13/100\n",
      "38/38 [==============================] - 1s 23ms/step - loss: 0.0137\n",
      "Epoch 14/100\n",
      "38/38 [==============================] - 1s 23ms/step - loss: 0.0117\n",
      "Epoch 15/100\n",
      "38/38 [==============================] - 1s 21ms/step - loss: 0.0115\n",
      "Epoch 16/100\n",
      "38/38 [==============================] - 1s 24ms/step - loss: 0.0104\n",
      "Epoch 17/100\n",
      "38/38 [==============================] - 1s 22ms/step - loss: 0.0110\n",
      "Epoch 18/100\n",
      "38/38 [==============================] - 1s 22ms/step - loss: 0.0112\n",
      "Epoch 19/100\n",
      "38/38 [==============================] - 1s 22ms/step - loss: 0.0115\n",
      "Epoch 20/100\n",
      "38/38 [==============================] - 1s 23ms/step - loss: 0.0106\n",
      "Epoch 21/100\n",
      "38/38 [==============================] - 1s 22ms/step - loss: 0.0084\n",
      "Epoch 22/100\n",
      "38/38 [==============================] - 1s 22ms/step - loss: 0.0100\n",
      "Epoch 23/100\n",
      "38/38 [==============================] - 1s 24ms/step - loss: 0.0087\n",
      "Epoch 24/100\n",
      "38/38 [==============================] - 1s 22ms/step - loss: 0.0093\n",
      "Epoch 25/100\n",
      "38/38 [==============================] - 1s 23ms/step - loss: 0.0086\n",
      "Epoch 26/100\n",
      "38/38 [==============================] - 1s 23ms/step - loss: 0.0082\n",
      "Epoch 27/100\n",
      "38/38 [==============================] - 1s 23ms/step - loss: 0.0090\n",
      "Epoch 28/100\n",
      "38/38 [==============================] - 1s 22ms/step - loss: 0.0071\n",
      "Epoch 29/100\n",
      "38/38 [==============================] - 1s 25ms/step - loss: 0.0080\n",
      "Epoch 30/100\n",
      "38/38 [==============================] - 1s 23ms/step - loss: 0.0077\n",
      "Epoch 31/100\n",
      "38/38 [==============================] - 1s 22ms/step - loss: 0.0080\n",
      "Epoch 32/100\n",
      "38/38 [==============================] - 1s 23ms/step - loss: 0.0065\n",
      "Epoch 33/100\n",
      "38/38 [==============================] - 1s 22ms/step - loss: 0.0077\n",
      "Epoch 34/100\n",
      "38/38 [==============================] - 1s 22ms/step - loss: 0.0074\n",
      "Epoch 35/100\n",
      "38/38 [==============================] - 1s 22ms/step - loss: 0.0056\n",
      "Epoch 36/100\n",
      "38/38 [==============================] - 1s 23ms/step - loss: 0.0065\n",
      "Epoch 37/100\n",
      "38/38 [==============================] - 1s 23ms/step - loss: 0.0067\n",
      "Epoch 38/100\n",
      "38/38 [==============================] - 1s 22ms/step - loss: 0.0068\n",
      "Epoch 39/100\n",
      "38/38 [==============================] - 1s 23ms/step - loss: 0.0065\n",
      "Epoch 40/100\n",
      "38/38 [==============================] - 1s 23ms/step - loss: 0.0063\n",
      "Epoch 41/100\n",
      "38/38 [==============================] - 1s 23ms/step - loss: 0.0066\n",
      "Epoch 42/100\n",
      "38/38 [==============================] - 1s 22ms/step - loss: 0.0063\n",
      "Epoch 43/100\n",
      "38/38 [==============================] - 1s 23ms/step - loss: 0.0059\n",
      "Epoch 44/100\n",
      "38/38 [==============================] - 1s 23ms/step - loss: 0.0061\n",
      "Epoch 45/100\n",
      "38/38 [==============================] - 1s 23ms/step - loss: 0.0064\n",
      "Epoch 46/100\n",
      "38/38 [==============================] - 1s 22ms/step - loss: 0.0056\n",
      "Epoch 47/100\n",
      "38/38 [==============================] - 1s 22ms/step - loss: 0.0058\n",
      "Epoch 48/100\n",
      "38/38 [==============================] - 1s 22ms/step - loss: 0.0058\n",
      "Epoch 49/100\n",
      "38/38 [==============================] - 1s 23ms/step - loss: 0.0056\n",
      "Epoch 50/100\n",
      "38/38 [==============================] - 1s 22ms/step - loss: 0.0062\n",
      "Epoch 51/100\n",
      "38/38 [==============================] - 1s 22ms/step - loss: 0.0058\n",
      "Epoch 52/100\n",
      "38/38 [==============================] - 1s 23ms/step - loss: 0.0054\n",
      "Epoch 53/100\n",
      "38/38 [==============================] - 1s 22ms/step - loss: 0.0060\n",
      "Epoch 54/100\n",
      "38/38 [==============================] - 1s 22ms/step - loss: 0.0055\n",
      "Epoch 55/100\n",
      "38/38 [==============================] - 1s 23ms/step - loss: 0.0057\n",
      "Epoch 56/100\n",
      "38/38 [==============================] - 1s 22ms/step - loss: 0.0058\n",
      "Epoch 57/100\n",
      "38/38 [==============================] - 1s 22ms/step - loss: 0.0050\n",
      "Epoch 58/100\n",
      "38/38 [==============================] - 1s 22ms/step - loss: 0.0054\n",
      "Epoch 59/100\n",
      "38/38 [==============================] - 1s 22ms/step - loss: 0.0060\n",
      "Epoch 60/100\n",
      "38/38 [==============================] - 1s 23ms/step - loss: 0.0057\n",
      "Epoch 61/100\n",
      "38/38 [==============================] - 1s 22ms/step - loss: 0.0054\n",
      "Epoch 62/100\n",
      "38/38 [==============================] - 1s 22ms/step - loss: 0.0056\n",
      "Epoch 63/100\n",
      "38/38 [==============================] - 1s 23ms/step - loss: 0.0054\n",
      "Epoch 64/100\n",
      "38/38 [==============================] - 1s 23ms/step - loss: 0.0057\n",
      "Epoch 65/100\n",
      "38/38 [==============================] - 1s 25ms/step - loss: 0.0060\n",
      "Epoch 66/100\n",
      "38/38 [==============================] - 1s 24ms/step - loss: 0.0057\n",
      "Epoch 67/100\n",
      "38/38 [==============================] - 1s 22ms/step - loss: 0.0054\n",
      "Epoch 68/100\n",
      "38/38 [==============================] - 1s 23ms/step - loss: 0.0054\n",
      "Epoch 69/100\n",
      "38/38 [==============================] - 1s 22ms/step - loss: 0.0051\n",
      "Epoch 70/100\n",
      "38/38 [==============================] - 1s 22ms/step - loss: 0.0057\n",
      "Epoch 71/100\n",
      "38/38 [==============================] - 1s 23ms/step - loss: 0.0056\n",
      "Epoch 72/100\n",
      "38/38 [==============================] - 1s 23ms/step - loss: 0.0049\n",
      "Epoch 73/100\n",
      "38/38 [==============================] - 1s 22ms/step - loss: 0.0054\n",
      "Epoch 74/100\n",
      "38/38 [==============================] - 1s 23ms/step - loss: 0.0053\n",
      "Epoch 75/100\n",
      "38/38 [==============================] - 1s 22ms/step - loss: 0.0052\n",
      "Epoch 76/100\n",
      "38/38 [==============================] - 1s 22ms/step - loss: 0.0053\n",
      "Epoch 77/100\n",
      "38/38 [==============================] - 1s 24ms/step - loss: 0.0051\n",
      "Epoch 78/100\n",
      "38/38 [==============================] - 1s 22ms/step - loss: 0.0058\n",
      "Epoch 79/100\n",
      "38/38 [==============================] - 1s 23ms/step - loss: 0.0054\n",
      "Epoch 80/100\n",
      "38/38 [==============================] - 1s 23ms/step - loss: 0.0050\n",
      "Epoch 81/100\n",
      "38/38 [==============================] - 1s 24ms/step - loss: 0.0051\n",
      "Epoch 82/100\n",
      "38/38 [==============================] - 1s 23ms/step - loss: 0.0056\n",
      "Epoch 83/100\n",
      "38/38 [==============================] - 1s 23ms/step - loss: 0.0055\n",
      "Epoch 84/100\n",
      "38/38 [==============================] - 1s 21ms/step - loss: 0.0052\n",
      "Epoch 85/100\n",
      "38/38 [==============================] - 1s 23ms/step - loss: 0.0054\n",
      "Epoch 86/100\n",
      "38/38 [==============================] - 1s 23ms/step - loss: 0.0051\n",
      "Epoch 87/100\n",
      "38/38 [==============================] - 1s 23ms/step - loss: 0.0054\n",
      "Epoch 88/100\n",
      "38/38 [==============================] - 1s 23ms/step - loss: 0.0056\n",
      "Epoch 89/100\n",
      "38/38 [==============================] - 1s 23ms/step - loss: 0.0051\n",
      "Epoch 90/100\n",
      "38/38 [==============================] - 1s 23ms/step - loss: 0.0050\n",
      "Epoch 91/100\n",
      "38/38 [==============================] - 1s 22ms/step - loss: 0.0056\n",
      "Epoch 92/100\n",
      "38/38 [==============================] - 1s 22ms/step - loss: 0.0052\n",
      "Epoch 93/100\n",
      "38/38 [==============================] - 1s 22ms/step - loss: 0.0053\n",
      "Epoch 94/100\n",
      "38/38 [==============================] - 1s 22ms/step - loss: 0.0048\n",
      "Epoch 95/100\n",
      "38/38 [==============================] - 1s 23ms/step - loss: 0.0052\n",
      "Epoch 96/100\n",
      "38/38 [==============================] - 1s 23ms/step - loss: 0.0049\n",
      "Epoch 97/100\n",
      "38/38 [==============================] - 1s 24ms/step - loss: 0.0048\n",
      "Epoch 98/100\n",
      "38/38 [==============================] - 1s 24ms/step - loss: 0.0050\n",
      "Epoch 99/100\n",
      "38/38 [==============================] - 1s 24ms/step - loss: 0.0050\n",
      "Epoch 100/100\n",
      "38/38 [==============================] - 1s 24ms/step - loss: 0.0046\n"
     ]
    },
    {
     "data": {
      "text/plain": [
       "<keras.callbacks.History at 0x28b38f30130>"
      ]
     },
     "execution_count": 33,
     "metadata": {},
     "output_type": "execute_result"
    }
   ],
   "source": [
    "regressor.fit(xtrain, ytrain, epochs = 100, batch_size = 32)"
   ]
  },
  {
   "cell_type": "code",
   "execution_count": 34,
   "id": "b1f4668a",
   "metadata": {
    "scrolled": true
   },
   "outputs": [
    {
     "name": "stdout",
     "output_type": "stream",
     "text": [
      "1/1 [==============================] - 1s 1s/step\n"
     ]
    }
   ],
   "source": [
    "pred = regressor.predict(xtest)"
   ]
  },
  {
   "cell_type": "code",
   "execution_count": 35,
   "id": "c587a6d5",
   "metadata": {},
   "outputs": [],
   "source": [
    "pred = sc.inverse_transform(pred)"
   ]
  },
  {
   "cell_type": "code",
   "execution_count": 36,
   "id": "ba91af92",
   "metadata": {},
   "outputs": [
    {
     "data": {
      "text/plain": [
       "array([[761.40063],\n",
       "       [761.0365 ],\n",
       "       [760.2335 ],\n",
       "       [759.2694 ],\n",
       "       [758.6787 ],\n",
       "       [759.08325],\n",
       "       [760.7983 ],\n",
       "       [763.5262 ],\n",
       "       [766.5242 ],\n",
       "       [768.994  ],\n",
       "       [770.41724],\n",
       "       [770.7154 ],\n",
       "       [770.2252 ],\n",
       "       [769.55963],\n",
       "       [769.30505],\n",
       "       [769.9548 ],\n",
       "       [771.7728 ],\n",
       "       [774.691  ],\n",
       "       [778.19226],\n",
       "       [781.26697]], dtype=float32)"
      ]
     },
     "execution_count": 36,
     "metadata": {},
     "output_type": "execute_result"
    }
   ],
   "source": [
    "pred"
   ]
  },
  {
   "cell_type": "code",
   "execution_count": 37,
   "id": "3bb839a5",
   "metadata": {},
   "outputs": [
    {
     "data": {
      "image/png": "[encoded data removed]",
      "text/plain": [
       "<Figure size 640x480 with 1 Axes>"
      ]
     },
     "metadata": {},
     "output_type": "display_data"
    }
   ],
   "source": [
    "plt.plot(real, color = 'red', label = 'Real price')\n",
    "plt.plot(pred, color = 'blue', label = 'Predicted price')\n",
    "plt.title('Prediction for 1/17')\n",
    "plt.xlabel('Time')\n",
    "plt.ylabel('Price')\n",
    "plt.legend()\n",
    "plt.show()"
   ]
  },
  {
   "cell_type": "markdown",
   "id": "04030111",
   "metadata": {},
   "source": [
    "## Does not give a very good prediction"
   ]
  },
  {
   "cell_type": "markdown",
   "id": "db77db31",
   "metadata": {},
   "source": [
    "---\n",
    "## Rectangle based model"
   ]
  },
  {
   "cell_type": "code",
   "execution_count": 38,
   "id": "c6752609",
   "metadata": {},
   "outputs": [],
   "source": [
    "regressor1 = Sequential()\n",
    "\n",
    "regressor1.add(LSTM(units = 45, return_sequences = True, input_shape = (xtrain.shape[1], 1)))\n",
    "regressor1.add(Dropout(rate = 0.2))\n",
    "\n",
    "regressor1.add(LSTM(units = 45, return_sequences = True))\n",
    "regressor1.add(Dropout(rate = 0.2))\n",
    "\n",
    "regressor1.add(LSTM(units = 45, return_sequences = True))\n",
    "regressor1.add(Dropout(rate = 0.2))\n",
    "\n",
    "regressor1.add(LSTM(units = 45, return_sequences = True))\n",
    "regressor1.add(Dropout(rate = 0.2))\n",
    "\n",
    "regressor1.add(LSTM(units = 45, return_sequences = False))\n",
    "regressor1.add(Dropout(rate = 0.2))\n",
    "\n",
    "regressor1.add(Dense(units = 1))"
   ]
  },
  {
   "cell_type": "code",
   "execution_count": 39,
   "id": "c704574b",
   "metadata": {},
   "outputs": [],
   "source": [
    "regressor1.compile(optimizer = 'adam', loss = 'mean_squared_error')"
   ]
  },
  {
   "cell_type": "code",
   "execution_count": 40,
   "id": "22edce8d",
   "metadata": {},
   "outputs": [
    {
     "name": "stdout",
     "output_type": "stream",
     "text": [
      "Model: \"sequential_1\"\n",
      "_________________________________________________________________\n",
      " Layer (type)                Output Shape              Param #   \n",
      "=================================================================\n",
      " lstm_5 (LSTM)               (None, 60, 45)            8460      \n",
      "                                                                 \n",
      " dropout_5 (Dropout)         (None, 60, 45)            0         \n",
      "                                                                 \n",
      " lstm_6 (LSTM)               (None, 60, 45)            16380     \n",
      "                                                                 \n",
      " dropout_6 (Dropout)         (None, 60, 45)            0         \n",
      "                                                                 \n",
      " lstm_7 (LSTM)               (None, 60, 45)            16380     \n",
      "                                                                 \n",
      " dropout_7 (Dropout)         (None, 60, 45)            0         \n",
      "                                                                 \n",
      " lstm_8 (LSTM)               (None, 60, 45)            16380     \n",
      "                                                                 \n",
      " dropout_8 (Dropout)         (None, 60, 45)            0         \n",
      "                                                                 \n",
      " lstm_9 (LSTM)               (None, 45)                16380     \n",
      "                                                                 \n",
      " dropout_9 (Dropout)         (None, 45)                0         \n",
      "                                                                 \n",
      " dense_1 (Dense)             (None, 1)                 46        \n",
      "                                                                 \n",
      "=================================================================\n",
      "Total params: 74,026\n",
      "Trainable params: 74,026\n",
      "Non-trainable params: 0\n",
      "_________________________________________________________________\n"
     ]
    }
   ],
   "source": [
    "regressor1.summary()"
   ]
  },
  {
   "attachments": {
    "image.png": {
     "image/png": "[encoded data removed]"
    }
   },
   "cell_type": "markdown",
   "id": "cae5ed0a",
   "metadata": {},
   "source": [
    "![image.png](attachment:image.png)"
   ]
  },
  {
   "cell_type": "code",
   "execution_count": 41,
   "id": "a4a647c6",
   "metadata": {},
   "outputs": [
    {
     "name": "stdout",
     "output_type": "stream",
     "text": [
      "Epoch 1/100\n",
      "38/38 [==============================] - 5s 26ms/step - loss: 0.0404\n",
      "Epoch 2/100\n",
      "38/38 [==============================] - 1s 22ms/step - loss: 0.0074\n",
      "Epoch 3/100\n",
      "38/38 [==============================] - 1s 23ms/step - loss: 0.0065\n",
      "Epoch 4/100\n",
      "38/38 [==============================] - 1s 24ms/step - loss: 0.0068\n",
      "Epoch 5/100\n",
      "38/38 [==============================] - 1s 26ms/step - loss: 0.0062\n",
      "Epoch 6/100\n",
      "38/38 [==============================] - 1s 25ms/step - loss: 0.0053\n",
      "Epoch 7/100\n",
      "38/38 [==============================] - 1s 22ms/step - loss: 0.0054\n",
      "Epoch 8/100\n",
      "38/38 [==============================] - 1s 22ms/step - loss: 0.0065\n",
      "Epoch 9/100\n",
      "38/38 [==============================] - 1s 22ms/step - loss: 0.0054\n",
      "Epoch 10/100\n",
      "38/38 [==============================] - 1s 23ms/step - loss: 0.0054\n",
      "Epoch 11/100\n",
      "38/38 [==============================] - 1s 23ms/step - loss: 0.0048\n",
      "Epoch 12/100\n",
      "38/38 [==============================] - 1s 24ms/step - loss: 0.0047\n",
      "Epoch 13/100\n",
      "38/38 [==============================] - 1s 22ms/step - loss: 0.0043\n",
      "Epoch 14/100\n",
      "38/38 [==============================] - 1s 22ms/step - loss: 0.0045\n",
      "Epoch 15/100\n",
      "38/38 [==============================] - 1s 22ms/step - loss: 0.0047\n",
      "Epoch 16/100\n",
      "38/38 [==============================] - 1s 23ms/step - loss: 0.0046\n",
      "Epoch 17/100\n",
      "38/38 [==============================] - 1s 23ms/step - loss: 0.0043\n",
      "Epoch 18/100\n",
      "38/38 [==============================] - 1s 23ms/step - loss: 0.0041\n",
      "Epoch 19/100\n",
      "38/38 [==============================] - 1s 22ms/step - loss: 0.0042\n",
      "Epoch 20/100\n",
      "38/38 [==============================] - 1s 22ms/step - loss: 0.0053\n",
      "Epoch 21/100\n",
      "38/38 [==============================] - 1s 22ms/step - loss: 0.0037\n",
      "Epoch 22/100\n",
      "38/38 [==============================] - 1s 22ms/step - loss: 0.0044\n",
      "Epoch 23/100\n",
      "38/38 [==============================] - 1s 22ms/step - loss: 0.0041\n",
      "Epoch 24/100\n",
      "38/38 [==============================] - 1s 23ms/step - loss: 0.0036\n",
      "Epoch 25/100\n",
      "38/38 [==============================] - 1s 22ms/step - loss: 0.0037\n",
      "Epoch 26/100\n",
      "38/38 [==============================] - 1s 22ms/step - loss: 0.0036\n",
      "Epoch 27/100\n",
      "38/38 [==============================] - 1s 22ms/step - loss: 0.0036\n",
      "Epoch 28/100\n",
      "38/38 [==============================] - 1s 24ms/step - loss: 0.0034\n",
      "Epoch 29/100\n",
      "38/38 [==============================] - 1s 28ms/step - loss: 0.0034\n",
      "Epoch 30/100\n",
      "38/38 [==============================] - 1s 24ms/step - loss: 0.0038\n",
      "Epoch 31/100\n",
      "38/38 [==============================] - 1s 23ms/step - loss: 0.0033\n",
      "Epoch 32/100\n",
      "38/38 [==============================] - 1s 25ms/step - loss: 0.0033\n",
      "Epoch 33/100\n",
      "38/38 [==============================] - 1s 27ms/step - loss: 0.0033\n",
      "Epoch 34/100\n",
      "38/38 [==============================] - 1s 27ms/step - loss: 0.0032\n",
      "Epoch 35/100\n",
      "38/38 [==============================] - 1s 23ms/step - loss: 0.0034\n",
      "Epoch 36/100\n",
      "38/38 [==============================] - 1s 23ms/step - loss: 0.0033\n",
      "Epoch 37/100\n",
      "38/38 [==============================] - 1s 25ms/step - loss: 0.0033\n",
      "Epoch 38/100\n",
      "38/38 [==============================] - 1s 26ms/step - loss: 0.0030\n",
      "Epoch 39/100\n",
      "38/38 [==============================] - 1s 26ms/step - loss: 0.0032\n",
      "Epoch 40/100\n",
      "38/38 [==============================] - 1s 23ms/step - loss: 0.0029\n",
      "Epoch 41/100\n",
      "38/38 [==============================] - 1s 22ms/step - loss: 0.0029\n",
      "Epoch 42/100\n",
      "38/38 [==============================] - 1s 24ms/step - loss: 0.0034\n",
      "Epoch 43/100\n",
      "38/38 [==============================] - 1s 24ms/step - loss: 0.0034\n",
      "Epoch 44/100\n",
      "38/38 [==============================] - 1s 23ms/step - loss: 0.0030\n",
      "Epoch 45/100\n",
      "38/38 [==============================] - 1s 23ms/step - loss: 0.0029\n",
      "Epoch 46/100\n",
      "38/38 [==============================] - 1s 23ms/step - loss: 0.0028\n",
      "Epoch 47/100\n",
      "38/38 [==============================] - 1s 23ms/step - loss: 0.0029\n",
      "Epoch 48/100\n",
      "38/38 [==============================] - 1s 23ms/step - loss: 0.0027\n",
      "Epoch 49/100\n",
      "38/38 [==============================] - 1s 24ms/step - loss: 0.0027\n",
      "Epoch 50/100\n",
      "38/38 [==============================] - 1s 22ms/step - loss: 0.0027\n",
      "Epoch 51/100\n",
      "38/38 [==============================] - 1s 22ms/step - loss: 0.0028\n",
      "Epoch 52/100\n",
      "38/38 [==============================] - 1s 23ms/step - loss: 0.0025\n",
      "Epoch 53/100\n",
      "38/38 [==============================] - 1s 24ms/step - loss: 0.0028\n",
      "Epoch 54/100\n",
      "38/38 [==============================] - 1s 23ms/step - loss: 0.0028\n",
      "Epoch 55/100\n",
      "38/38 [==============================] - 1s 23ms/step - loss: 0.0032\n",
      "Epoch 56/100\n",
      "38/38 [==============================] - 1s 23ms/step - loss: 0.0029\n",
      "Epoch 57/100\n",
      "38/38 [==============================] - 1s 23ms/step - loss: 0.0026\n",
      "Epoch 58/100\n",
      "38/38 [==============================] - 1s 24ms/step - loss: 0.0025\n",
      "Epoch 59/100\n",
      "38/38 [==============================] - 1s 23ms/step - loss: 0.0025\n",
      "Epoch 60/100\n",
      "38/38 [==============================] - 1s 23ms/step - loss: 0.0026\n",
      "Epoch 61/100\n",
      "38/38 [==============================] - 1s 22ms/step - loss: 0.0023\n",
      "Epoch 62/100\n",
      "38/38 [==============================] - 1s 22ms/step - loss: 0.0025\n",
      "Epoch 63/100\n",
      "38/38 [==============================] - 1s 23ms/step - loss: 0.0026\n",
      "Epoch 64/100\n",
      "38/38 [==============================] - 1s 23ms/step - loss: 0.0026\n",
      "Epoch 65/100\n",
      "38/38 [==============================] - 1s 24ms/step - loss: 0.0021\n",
      "Epoch 66/100\n",
      "38/38 [==============================] - 1s 23ms/step - loss: 0.0024\n",
      "Epoch 67/100\n",
      "38/38 [==============================] - 1s 23ms/step - loss: 0.0023\n",
      "Epoch 68/100\n",
      "38/38 [==============================] - 1s 23ms/step - loss: 0.0021\n",
      "Epoch 69/100\n",
      "38/38 [==============================] - 1s 23ms/step - loss: 0.0022\n",
      "Epoch 70/100\n",
      "38/38 [==============================] - 1s 24ms/step - loss: 0.0023\n",
      "Epoch 71/100\n",
      "38/38 [==============================] - 1s 23ms/step - loss: 0.0022\n",
      "Epoch 72/100\n",
      "38/38 [==============================] - 1s 24ms/step - loss: 0.0021\n",
      "Epoch 73/100\n",
      "38/38 [==============================] - 1s 23ms/step - loss: 0.0021\n",
      "Epoch 74/100\n",
      "38/38 [==============================] - 1s 23ms/step - loss: 0.0021\n",
      "Epoch 75/100\n",
      "38/38 [==============================] - 1s 24ms/step - loss: 0.0021\n",
      "Epoch 76/100\n",
      "38/38 [==============================] - 1s 23ms/step - loss: 0.0021\n",
      "Epoch 77/100\n",
      "38/38 [==============================] - 1s 22ms/step - loss: 0.0022\n",
      "Epoch 78/100\n",
      "38/38 [==============================] - 1s 23ms/step - loss: 0.0023\n",
      "Epoch 79/100\n",
      "38/38 [==============================] - 1s 23ms/step - loss: 0.0021\n",
      "Epoch 80/100\n",
      "38/38 [==============================] - 1s 23ms/step - loss: 0.0019\n",
      "Epoch 81/100\n",
      "38/38 [==============================] - 1s 24ms/step - loss: 0.0021\n",
      "Epoch 82/100\n",
      "38/38 [==============================] - 1s 23ms/step - loss: 0.0019\n",
      "Epoch 83/100\n",
      "38/38 [==============================] - 1s 23ms/step - loss: 0.0019\n",
      "Epoch 84/100\n",
      "38/38 [==============================] - 1s 23ms/step - loss: 0.0020\n",
      "Epoch 85/100\n",
      "38/38 [==============================] - 1s 23ms/step - loss: 0.0018\n",
      "Epoch 86/100\n",
      "38/38 [==============================] - 1s 22ms/step - loss: 0.0019\n",
      "Epoch 87/100\n",
      "38/38 [==============================] - 1s 23ms/step - loss: 0.0019\n",
      "Epoch 88/100\n",
      "38/38 [==============================] - 1s 23ms/step - loss: 0.0017\n",
      "Epoch 89/100\n",
      "38/38 [==============================] - 1s 22ms/step - loss: 0.0017\n",
      "Epoch 90/100\n",
      "38/38 [==============================] - 1s 22ms/step - loss: 0.0016\n",
      "Epoch 91/100\n",
      "38/38 [==============================] - 1s 23ms/step - loss: 0.0017\n",
      "Epoch 92/100\n",
      "38/38 [==============================] - 1s 22ms/step - loss: 0.0017\n",
      "Epoch 93/100\n",
      "38/38 [==============================] - 1s 23ms/step - loss: 0.0016\n",
      "Epoch 94/100\n",
      "38/38 [==============================] - 1s 23ms/step - loss: 0.0017\n",
      "Epoch 95/100\n",
      "38/38 [==============================] - 1s 22ms/step - loss: 0.0019\n",
      "Epoch 96/100\n",
      "38/38 [==============================] - 1s 23ms/step - loss: 0.0018\n",
      "Epoch 97/100\n",
      "38/38 [==============================] - 1s 23ms/step - loss: 0.0018\n",
      "Epoch 98/100\n",
      "38/38 [==============================] - 1s 23ms/step - loss: 0.0017\n",
      "Epoch 99/100\n",
      "38/38 [==============================] - 1s 23ms/step - loss: 0.0016\n",
      "Epoch 100/100\n",
      "38/38 [==============================] - 1s 22ms/step - loss: 0.0017\n"
     ]
    },
    {
     "data": {
      "text/plain": [
       "<keras.callbacks.History at 0x28c0c0fed60>"
      ]
     },
     "execution_count": 41,
     "metadata": {},
     "output_type": "execute_result"
    }
   ],
   "source": [
    "regressor1.fit(xtrain, ytrain, epochs = 100, batch_size = 32)"
   ]
  },
  {
   "cell_type": "code",
   "execution_count": 50,
   "id": "488c1ed0",
   "metadata": {
    "scrolled": true
   },
   "outputs": [
    {
     "name": "stdout",
     "output_type": "stream",
     "text": [
      "1/1 [==============================] - 1s 976ms/step\n"
     ]
    }
   ],
   "source": [
    "pred1 = regressor1.predict(xtest)"
   ]
  },
  {
   "cell_type": "code",
   "execution_count": 51,
   "id": "da72e1de",
   "metadata": {},
   "outputs": [
    {
     "data": {
      "text/plain": [
       "array([[0.95103717],\n",
       "       [0.94691336],\n",
       "       [0.9451058 ],\n",
       "       [0.94545686],\n",
       "       [0.94871247],\n",
       "       [0.9557165 ],\n",
       "       [0.96376634],\n",
       "       [0.96896875],\n",
       "       [0.9710082 ],\n",
       "       [0.97113025],\n",
       "       [0.97058535],\n",
       "       [0.9699862 ],\n",
       "       [0.969677  ],\n",
       "       [0.9703698 ],\n",
       "       [0.9719963 ],\n",
       "       [0.97762716],\n",
       "       [0.98717844],\n",
       "       [0.99873614],\n",
       "       [1.0074759 ],\n",
       "       [1.0067083 ]], dtype=float32)"
      ]
     },
     "execution_count": 51,
     "metadata": {},
     "output_type": "execute_result"
    }
   ],
   "source": [
    "pred1"
   ]
  },
  {
   "cell_type": "code",
   "execution_count": 52,
   "id": "b9936e98",
   "metadata": {},
   "outputs": [],
   "source": [
    "pred1 = sc.inverse_transform(pred1)"
   ]
  },
  {
   "cell_type": "code",
   "execution_count": 53,
   "id": "3145981f",
   "metadata": {},
   "outputs": [
    {
     "data": {
      "text/plain": [
       "array([[790.3595 ],\n",
       "       [788.1427 ],\n",
       "       [787.171  ],\n",
       "       [787.35974],\n",
       "       [789.10986],\n",
       "       [792.87494],\n",
       "       [797.2022 ],\n",
       "       [799.99884],\n",
       "       [801.09515],\n",
       "       [801.16077],\n",
       "       [800.86786],\n",
       "       [800.5458 ],\n",
       "       [800.3795 ],\n",
       "       [800.75195],\n",
       "       [801.6263 ],\n",
       "       [804.65326],\n",
       "       [809.7876 ],\n",
       "       [816.00055],\n",
       "       [820.69867],\n",
       "       [820.2861 ]], dtype=float32)"
      ]
     },
     "execution_count": 53,
     "metadata": {},
     "output_type": "execute_result"
    }
   ],
   "source": [
    "pred1"
   ]
  },
  {
   "cell_type": "code",
   "execution_count": 55,
   "id": "543b8a77",
   "metadata": {},
   "outputs": [
    {
     "data": {
      "image/png": "[encoded data removed]",
      "text/plain": [
       "<Figure size 640x480 with 1 Axes>"
      ]
     },
     "metadata": {},
     "output_type": "display_data"
    }
   ],
   "source": [
    "plt.plot(real, color = 'red', label = 'Real price')\n",
    "plt.plot(pred1, color = 'blue', label = 'Predicted price')\n",
    "plt.title('Prediction for 1/17')\n",
    "plt.xlabel('Time')\n",
    "plt.ylabel('Price')\n",
    "plt.legend()\n",
    "plt.show()"
   ]
  },
  {
   "cell_type": "markdown",
   "id": "2f052cdb",
   "metadata": {},
   "source": [
    "## Gives a slightly more accurate model, however it fails to pick up on the trend"
   ]
  },
  {
   "cell_type": "markdown",
   "id": "591ad96e",
   "metadata": {},
   "source": [
    "### if we add mpre epochs then maybe the model can perform better"
   ]
  }
 ],
 "metadata": {
  "kernelspec": {
   "display_name": "Python 3 (ipykernel)",
   "language": "python",
   "name": "python3"
  },
  "language_info": {
   "codemirror_mode": {
    "name": "ipython",
    "version": 3
   },
   "file_extension": ".py",
   "mimetype": "text/x-python",
   "name": "python",
   "nbconvert_exporter": "python",
   "pygments_lexer": "ipython3",
   "version": "3.9.12"
  }
 },
 "nbformat": 4,
 "nbformat_minor": 5
}
